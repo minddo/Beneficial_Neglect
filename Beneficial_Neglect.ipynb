{
  "nbformat": 4,
  "nbformat_minor": 0,
  "metadata": {
    "colab": {
      "name": "Beneficial Neglect.ipynb",
      "provenance": [],
      "collapsed_sections": [
        "zrIIgn7rmbYF",
        "3i-baNfNmeEH"
      ]
    },
    "kernelspec": {
      "name": "python3",
      "display_name": "Python 3"
    }
  },
  "cells": [
    {
      "cell_type": "markdown",
      "metadata": {
        "id": "lDhFcRulXnPh",
        "colab_type": "text"
      },
      "source": [
        "#Pre-processing"
      ]
    },
    {
      "cell_type": "markdown",
      "metadata": {
        "id": "1zDSNurym8Iu",
        "colab_type": "text"
      },
      "source": [
        "##Load data"
      ]
    },
    {
      "cell_type": "code",
      "metadata": {
        "id": "TxSPm04em-IV",
        "colab_type": "code",
        "colab": {
          "base_uri": "https://localhost:8080/",
          "height": 122
        },
        "outputId": "ca8e6653-4e06-4876-d430-028b243130a1"
      },
      "source": [
        "#connect to google dirve\n",
        "\n",
        "from google.colab import drive\n",
        "drive.mount('/content/gdrive')"
      ],
      "execution_count": null,
      "outputs": [
        {
          "output_type": "stream",
          "text": [
            "Go to this URL in a browser: https://accounts.google.com/o/oauth2/auth?client_id=947318989803-6bn6qk8qdgf4n4g3pfee6491hc0brc4i.apps.googleusercontent.com&redirect_uri=urn%3aietf%3awg%3aoauth%3a2.0%3aoob&scope=email%20https%3a%2f%2fwww.googleapis.com%2fauth%2fdocs.test%20https%3a%2f%2fwww.googleapis.com%2fauth%2fdrive%20https%3a%2f%2fwww.googleapis.com%2fauth%2fdrive.photos.readonly%20https%3a%2f%2fwww.googleapis.com%2fauth%2fpeopleapi.readonly&response_type=code\n",
            "\n",
            "Enter your authorization code:\n",
            "··········\n",
            "Mounted at /content/gdrive\n"
          ],
          "name": "stdout"
        }
      ]
    },
    {
      "cell_type": "code",
      "metadata": {
        "id": "-eDCELUAnJgF",
        "colab_type": "code",
        "colab": {
          "base_uri": "https://localhost:8080/",
          "height": 55
        },
        "outputId": "457f3ca0-0bc0-4ace-b662-397e44614955"
      },
      "source": [
        "#Load sample data (P1)\n",
        "path='gdrive/My Drive/project/raw_data/'\n",
        "ID='20946596'\n",
        "\n",
        "import os\n",
        "print(os.listdir(path+ID))"
      ],
      "execution_count": null,
      "outputs": [
        {
          "output_type": "stream",
          "text": [
            "['ACTIVITY_20946596.csv', 'APP_RUNNING_20946596.csv', 'BATTERY_20946596.csv', 'RINGER_20946596.csv', 'SCREEN_20946596.csv', 'DATA_20946596.csv', 'GPS_20946596.csv', 'NOTIFICATION_20946596.csv', 'TOUCH_EVENT_20946596.csv', 'WIFI_20946596.csv', 'NOTIFICATION_20946596.gsheet']\n"
          ],
          "name": "stdout"
        }
      ]
    },
    {
      "cell_type": "markdown",
      "metadata": {
        "id": "-cuT1Syipz_S",
        "colab_type": "text"
      },
      "source": [
        "We can easily check the types of data collected by individuals as follows, and the descriptions of the main categories are as follows.\n",
        "![대체 텍스트](https://drive.google.com/uc?id=14Pp3iMcftmrJYZqUoXP83veoPo0CYcrH)"
      ]
    },
    {
      "cell_type": "code",
      "metadata": {
        "id": "NRZRx9oj0BUV",
        "colab_type": "code",
        "colab": {}
      },
      "source": [
        "import pandas as pd\n",
        "import warnings\n",
        "warnings.filterwarnings('ignore')\n",
        "df_noti=pd.read_csv(path+ID+\"/NOTIFICATION_\"+ID+\".csv\")\n",
        "df_app=pd.read_csv(path+ID+\"/APP_RUNNING_\"+ID+\".csv\")\n",
        "df_screen=pd.read_csv(path+ID+\"/SCREEN_\"+ID+\".csv\")\n",
        "df_touch=pd.read_csv(path+ID+\"/TOUCH_EVENT_\"+ID+\".csv\")"
      ],
      "execution_count": null,
      "outputs": []
    },
    {
      "cell_type": "code",
      "metadata": {
        "id": "pUHaN-mo1nky",
        "colab_type": "code",
        "colab": {
          "base_uri": "https://localhost:8080/",
          "height": 204
        },
        "outputId": "bbb478f2-83b7-4963-b110-b3e6ccf58769"
      },
      "source": [
        "df_noti.head()"
      ],
      "execution_count": null,
      "outputs": [
        {
          "output_type": "execute_result",
          "data": {
            "text/html": [
              "<div>\n",
              "<style scoped>\n",
              "    .dataframe tbody tr th:only-of-type {\n",
              "        vertical-align: middle;\n",
              "    }\n",
              "\n",
              "    .dataframe tbody tr th {\n",
              "        vertical-align: top;\n",
              "    }\n",
              "\n",
              "    .dataframe thead th {\n",
              "        text-align: right;\n",
              "    }\n",
              "</style>\n",
              "<table border=\"1\" class=\"dataframe\">\n",
              "  <thead>\n",
              "    <tr style=\"text-align: right;\">\n",
              "      <th></th>\n",
              "      <th>timestamp</th>\n",
              "      <th>type</th>\n",
              "      <th>package</th>\n",
              "      <th>title</th>\n",
              "      <th>text</th>\n",
              "      <th>subtext</th>\n",
              "      <th>sound</th>\n",
              "      <th>vibrate</th>\n",
              "      <th>defaults</th>\n",
              "      <th>ledon</th>\n",
              "      <th>ledoff</th>\n",
              "      <th>ledrgb</th>\n",
              "    </tr>\n",
              "  </thead>\n",
              "  <tbody>\n",
              "    <tr>\n",
              "      <th>0</th>\n",
              "      <td>2017.09.05_17.36.37</td>\n",
              "      <td>POSTED</td>\n",
              "      <td>com.kakao.talk</td>\n",
              "      <td>null</td>\n",
              "      <td>null</td>\n",
              "      <td>6개의 안 읽은 메시지</td>\n",
              "      <td></td>\n",
              "      <td>null</td>\n",
              "      <td>0</td>\n",
              "      <td>0</td>\n",
              "      <td>0</td>\n",
              "      <td>0</td>\n",
              "    </tr>\n",
              "    <tr>\n",
              "      <th>1</th>\n",
              "      <td>2017.09.05_17.36.52</td>\n",
              "      <td>POSTED</td>\n",
              "      <td>android</td>\n",
              "      <td>키보드 변경</td>\n",
              "      <td>한국어 - LG 키보드</td>\n",
              "      <td>null</td>\n",
              "      <td></td>\n",
              "      <td>null</td>\n",
              "      <td>0</td>\n",
              "      <td>0</td>\n",
              "      <td>0</td>\n",
              "      <td>0</td>\n",
              "    </tr>\n",
              "    <tr>\n",
              "      <th>2</th>\n",
              "      <td>2017.09.05_17.36.55</td>\n",
              "      <td>POSTED</td>\n",
              "      <td>com.kakao.talk</td>\n",
              "      <td>null</td>\n",
              "      <td>null</td>\n",
              "      <td>7개의 안 읽은 메시지</td>\n",
              "      <td></td>\n",
              "      <td>null</td>\n",
              "      <td>0</td>\n",
              "      <td>0</td>\n",
              "      <td>0</td>\n",
              "      <td>0</td>\n",
              "    </tr>\n",
              "    <tr>\n",
              "      <th>3</th>\n",
              "      <td>2017.09.05_17.36.57</td>\n",
              "      <td>POSTED</td>\n",
              "      <td>com.kakao.talk</td>\n",
              "      <td>null</td>\n",
              "      <td>null</td>\n",
              "      <td>8개의 안 읽은 메시지</td>\n",
              "      <td></td>\n",
              "      <td>null</td>\n",
              "      <td>0</td>\n",
              "      <td>0</td>\n",
              "      <td>0</td>\n",
              "      <td>0</td>\n",
              "    </tr>\n",
              "    <tr>\n",
              "      <th>4</th>\n",
              "      <td>2017.09.05_17.36.58</td>\n",
              "      <td>POSTED</td>\n",
              "      <td>android</td>\n",
              "      <td>키보드 변경</td>\n",
              "      <td>한국어 - LG 키보드</td>\n",
              "      <td>null</td>\n",
              "      <td></td>\n",
              "      <td>null</td>\n",
              "      <td>0</td>\n",
              "      <td>0</td>\n",
              "      <td>0</td>\n",
              "      <td>0</td>\n",
              "    </tr>\n",
              "  </tbody>\n",
              "</table>\n",
              "</div>"
            ],
            "text/plain": [
              "              timestamp     type          package  ...  ledon  ledoff  ledrgb\n",
              "0   2017.09.05_17.36.37   POSTED   com.kakao.talk  ...      0       0       0\n",
              "1   2017.09.05_17.36.52   POSTED          android  ...      0       0       0\n",
              "2   2017.09.05_17.36.55   POSTED   com.kakao.talk  ...      0       0       0\n",
              "3   2017.09.05_17.36.57   POSTED   com.kakao.talk  ...      0       0       0\n",
              "4   2017.09.05_17.36.58   POSTED          android  ...      0       0       0\n",
              "\n",
              "[5 rows x 12 columns]"
            ]
          },
          "metadata": {
            "tags": []
          },
          "execution_count": 4
        }
      ]
    },
    {
      "cell_type": "code",
      "metadata": {
        "id": "13A1friw1qSA",
        "colab_type": "code",
        "colab": {
          "base_uri": "https://localhost:8080/",
          "height": 204
        },
        "outputId": "1201d9f9-cabf-4963-aa2d-fe46db983839"
      },
      "source": [
        "df_app.head()"
      ],
      "execution_count": null,
      "outputs": [
        {
          "output_type": "execute_result",
          "data": {
            "text/html": [
              "<div>\n",
              "<style scoped>\n",
              "    .dataframe tbody tr th:only-of-type {\n",
              "        vertical-align: middle;\n",
              "    }\n",
              "\n",
              "    .dataframe tbody tr th {\n",
              "        vertical-align: top;\n",
              "    }\n",
              "\n",
              "    .dataframe thead th {\n",
              "        text-align: right;\n",
              "    }\n",
              "</style>\n",
              "<table border=\"1\" class=\"dataframe\">\n",
              "  <thead>\n",
              "    <tr style=\"text-align: right;\">\n",
              "      <th></th>\n",
              "      <th>timestamp</th>\n",
              "      <th>package</th>\n",
              "    </tr>\n",
              "  </thead>\n",
              "  <tbody>\n",
              "    <tr>\n",
              "      <th>0</th>\n",
              "      <td>2017.09.05_17.35.48.025</td>\n",
              "      <td>com.android.settingsaccessibility</td>\n",
              "    </tr>\n",
              "    <tr>\n",
              "      <th>1</th>\n",
              "      <td>2017.09.05_17.35.55.405</td>\n",
              "      <td>com.lge.signboard</td>\n",
              "    </tr>\n",
              "    <tr>\n",
              "      <th>2</th>\n",
              "      <td>2017.09.05_17.35.57.921</td>\n",
              "      <td>com.android.settings</td>\n",
              "    </tr>\n",
              "    <tr>\n",
              "      <th>3</th>\n",
              "      <td>2017.09.05_17.36.15.171</td>\n",
              "      <td>kaist.iclab.twiceburster</td>\n",
              "    </tr>\n",
              "    <tr>\n",
              "      <th>4</th>\n",
              "      <td>2017.09.05_17.36.37.840</td>\n",
              "      <td>com.lge.signboard</td>\n",
              "    </tr>\n",
              "  </tbody>\n",
              "</table>\n",
              "</div>"
            ],
            "text/plain": [
              "                  timestamp                             package\n",
              "0   2017.09.05_17.35.48.025   com.android.settingsaccessibility\n",
              "1   2017.09.05_17.35.55.405                   com.lge.signboard\n",
              "2   2017.09.05_17.35.57.921                com.android.settings\n",
              "3   2017.09.05_17.36.15.171            kaist.iclab.twiceburster\n",
              "4   2017.09.05_17.36.37.840                   com.lge.signboard"
            ]
          },
          "metadata": {
            "tags": []
          },
          "execution_count": 5
        }
      ]
    },
    {
      "cell_type": "code",
      "metadata": {
        "id": "euDN90Ei1sog",
        "colab_type": "code",
        "colab": {
          "base_uri": "https://localhost:8080/",
          "height": 204
        },
        "outputId": "d3522d54-9b1d-4612-bb13-a19c46a3fef5"
      },
      "source": [
        "df_screen.head()"
      ],
      "execution_count": null,
      "outputs": [
        {
          "output_type": "execute_result",
          "data": {
            "text/html": [
              "<div>\n",
              "<style scoped>\n",
              "    .dataframe tbody tr th:only-of-type {\n",
              "        vertical-align: middle;\n",
              "    }\n",
              "\n",
              "    .dataframe tbody tr th {\n",
              "        vertical-align: top;\n",
              "    }\n",
              "\n",
              "    .dataframe thead th {\n",
              "        text-align: right;\n",
              "    }\n",
              "</style>\n",
              "<table border=\"1\" class=\"dataframe\">\n",
              "  <thead>\n",
              "    <tr style=\"text-align: right;\">\n",
              "      <th></th>\n",
              "      <th>timestamp</th>\n",
              "      <th>screen</th>\n",
              "    </tr>\n",
              "  </thead>\n",
              "  <tbody>\n",
              "    <tr>\n",
              "      <th>0</th>\n",
              "      <td>2017.09.05_17.44.35.000</td>\n",
              "      <td>screenOff</td>\n",
              "    </tr>\n",
              "    <tr>\n",
              "      <th>1</th>\n",
              "      <td>2017.09.05_17.44.36.000</td>\n",
              "      <td>screenOn</td>\n",
              "    </tr>\n",
              "    <tr>\n",
              "      <th>2</th>\n",
              "      <td>2017.09.05_17.44.47.000</td>\n",
              "      <td>screenOff</td>\n",
              "    </tr>\n",
              "    <tr>\n",
              "      <th>3</th>\n",
              "      <td>2017.09.05_17.49.20.000</td>\n",
              "      <td>screenOn</td>\n",
              "    </tr>\n",
              "    <tr>\n",
              "      <th>4</th>\n",
              "      <td>2017.09.05_17.50.06.000</td>\n",
              "      <td>screenOff</td>\n",
              "    </tr>\n",
              "  </tbody>\n",
              "</table>\n",
              "</div>"
            ],
            "text/plain": [
              "                 timestamp      screen\n",
              "0  2017.09.05_17.44.35.000   screenOff\n",
              "1  2017.09.05_17.44.36.000    screenOn\n",
              "2  2017.09.05_17.44.47.000   screenOff\n",
              "3  2017.09.05_17.49.20.000    screenOn\n",
              "4  2017.09.05_17.50.06.000   screenOff"
            ]
          },
          "metadata": {
            "tags": []
          },
          "execution_count": 6
        }
      ]
    },
    {
      "cell_type": "code",
      "metadata": {
        "id": "7chVpDNL1xUo",
        "colab_type": "code",
        "colab": {
          "base_uri": "https://localhost:8080/",
          "height": 204
        },
        "outputId": "4221f3ff-2a95-487f-a132-9e973fcdc70c"
      },
      "source": [
        "df_touch.head()"
      ],
      "execution_count": null,
      "outputs": [
        {
          "output_type": "execute_result",
          "data": {
            "text/html": [
              "<div>\n",
              "<style scoped>\n",
              "    .dataframe tbody tr th:only-of-type {\n",
              "        vertical-align: middle;\n",
              "    }\n",
              "\n",
              "    .dataframe tbody tr th {\n",
              "        vertical-align: top;\n",
              "    }\n",
              "\n",
              "    .dataframe thead th {\n",
              "        text-align: right;\n",
              "    }\n",
              "</style>\n",
              "<table border=\"1\" class=\"dataframe\">\n",
              "  <thead>\n",
              "    <tr style=\"text-align: right;\">\n",
              "      <th></th>\n",
              "      <th>timestamp</th>\n",
              "      <th>event_type</th>\n",
              "    </tr>\n",
              "  </thead>\n",
              "  <tbody>\n",
              "    <tr>\n",
              "      <th>0</th>\n",
              "      <td>2017.09.05_17.35.49.373</td>\n",
              "      <td>SCROLLTOUCH</td>\n",
              "    </tr>\n",
              "    <tr>\n",
              "      <th>1</th>\n",
              "      <td>2017.09.05_17.35.50.776</td>\n",
              "      <td>SCROLLTOUCH</td>\n",
              "    </tr>\n",
              "    <tr>\n",
              "      <th>2</th>\n",
              "      <td>2017.09.05_17.35.51.175</td>\n",
              "      <td>SCROLLTOUCH</td>\n",
              "    </tr>\n",
              "    <tr>\n",
              "      <th>3</th>\n",
              "      <td>2017.09.05_17.35.58.058</td>\n",
              "      <td>SCROLLTOUCH</td>\n",
              "    </tr>\n",
              "    <tr>\n",
              "      <th>4</th>\n",
              "      <td>2017.09.05_17.36.00.319</td>\n",
              "      <td>SHORTTOUCH</td>\n",
              "    </tr>\n",
              "  </tbody>\n",
              "</table>\n",
              "</div>"
            ],
            "text/plain": [
              "                  timestamp    event_type\n",
              "0   2017.09.05_17.35.49.373   SCROLLTOUCH\n",
              "1   2017.09.05_17.35.50.776   SCROLLTOUCH\n",
              "2   2017.09.05_17.35.51.175   SCROLLTOUCH\n",
              "3   2017.09.05_17.35.58.058   SCROLLTOUCH\n",
              "4   2017.09.05_17.36.00.319    SHORTTOUCH"
            ]
          },
          "metadata": {
            "tags": []
          },
          "execution_count": 7
        }
      ]
    },
    {
      "cell_type": "markdown",
      "metadata": {
        "id": "V2YuCx_V2A4v",
        "colab_type": "text"
      },
      "source": [
        "We looked at data related to user's interactions. They include app usage, notifications, touch, and screen events. But as we can see each data a different unit of time stamp (In the case of touch and app use, they are recorded up to milliseconds, but screens and notifications are only recorded up to seconds). This problem makes it difficult to define the session to be performed in the later because the sequential relationship of events cannot be grasped.![sequence of events](https://drive.google.com/uc?id=1StbmyBdX4_gGjK5yWGVnVY3lA185luFx)"
      ]
    },
    {
      "cell_type": "markdown",
      "metadata": {
        "id": "3NjeAqH3mW10",
        "colab_type": "text"
      },
      "source": [
        "##Sort data"
      ]
    },
    {
      "cell_type": "markdown",
      "metadata": {
        "id": "3doiMLF28QZI",
        "colab_type": "text"
      },
      "source": [
        "In order to solve the above-mentioned problem, we proposed the following sorting rule.\n",
        "\n",
        "1. When events were sorted, they are misaligned for events that occur within the same second due to the inconsistent timestamp unit.\n",
        "\n",
        "2. Therefore, the following priorities are assigned to events that occur within the same second.\n",
        "\n",
        "    Prioirty: Screen on < Notification events < app use and  touch envent < Screen off"
      ]
    },
    {
      "cell_type": "code",
      "metadata": {
        "id": "bZXRu6QT1u5v",
        "colab_type": "code",
        "colab": {}
      },
      "source": [
        "# Text-written timestamps make it difficult to convert to data time. Therefore, we can convert to seconds using customized functions.\n",
        "def day(x):\n",
        "    return x.split('_')[0]\n",
        "def time_transform(x):\n",
        "    x=x.split('_')[1].split('.')\n",
        "    return int(x[0])*3600+int(x[1])*60+int(x[2])\n",
        "def remove_space(x):\n",
        "    if \" \" in x:\n",
        "        x=x[1:]\n",
        "    return x\n",
        "# Also we assigned priorites to aggregated data\n",
        "def Type_transform(x):\n",
        "    if \"screenOn\" in x:\n",
        "        return \"screenOn\"\n",
        "    if \"screenOff\" in x:\n",
        "        return \"screenOff\"\n",
        "    if \"com.\" in x:\n",
        "        return \"app\"\n",
        "    if \"POSTED\" in x:\n",
        "        return \"POSTED\"\n",
        "    if 'REMOVED' in x:\n",
        "        return 'REMOVED'\n",
        "    else:\n",
        "        return \"touch\"\n",
        "def priority(x):\n",
        "    if x=='screenOn':\n",
        "        return \"A\"\n",
        "    elif x=='POSTED':\n",
        "        return \"B\"\n",
        "    elif x=='REMOVED':\n",
        "        return \"C\"\n",
        "    elif x==\"app\" or x=='touch':\n",
        "        return \"D\"\n",
        "    else:\n",
        "        return \"E\""
      ],
      "execution_count": null,
      "outputs": []
    },
    {
      "cell_type": "code",
      "metadata": {
        "id": "rlXCnISc_r31",
        "colab_type": "code",
        "colab": {}
      },
      "source": [
        "# Stores a sequence of original screen data\n",
        "index=list(range(len(df_screen)))\n",
        "index=pd.DataFrame({\"index\": index})\n",
        "df_screen=pd.concat([df_screen,index], axis=1)\n",
        "\n",
        "# Preparation for alignment\n",
        "df_noti=df_noti.iloc[:,:2]\n",
        "df_app=df_app.rename(columns = {' package': 'event'})\n",
        "df_noti=df_noti.rename(columns={' type':'event'})\n",
        "df_screen=df_screen.rename(columns = {' screen': 'event'})\n",
        "df_touch=df_touch.rename(columns = {' event_type': 'event'})\n",
        "    \n",
        "df_app['index']=0\n",
        "df_noti['index']=0\n",
        "df_touch['index']=0\n",
        "    \n",
        "df_noti.iloc[:,0:1]=df_noti.iloc[:,0:1].applymap(remove_space)\n",
        "df_app.iloc[:,0:1]=df_app.iloc[:,0:1].applymap(remove_space)\n",
        "df_screen.iloc[:,0:1]=df_screen.iloc[:,0:1].applymap(remove_space)\n",
        "df_touch.iloc[:,0:1]=df_touch.iloc[:,0:1].applymap(remove_space)\n",
        "    \n",
        "start=max([df_app['timestamp'][0],df_noti['timestamp'][0],df_screen['timestamp'][0], df_touch['timestamp'][0]])\n",
        "end=min([df_app['timestamp'][len(df_app)-1], df_noti['timestamp'][len(df_noti)-1], df_screen['timestamp'][len(df_screen)-1], df_touch['timestamp'][len(df_touch)-1]])\n",
        "\n",
        "# Aggregate dataset    \n",
        "df=pd.concat([df_app,df_noti, df_screen, df_touch], ignore_index=True)\n",
        "    \n",
        "    \n",
        "df['type']=df.iloc[:,1:2].applymap(Type_transform)\n",
        "df['day']=df.iloc[:,0:1].applymap(day)\n",
        "df['priority']=df.iloc[:,3:4].applymap(priority)\n",
        "df['second']=df.iloc[:,0:1].applymap(time_transform)\n",
        "\n",
        "# Sort data with each priorities    \n",
        "df=df.sort_values(['day','second','priority',\"timestamp\"], ascending=[True,True, True, True])\n",
        "df=df[(df['timestamp']>=start) & (df['timestamp']<=end)].reset_index(drop=True)\n",
        "    \n",
        "# Rearrange original screen data if it warps\n",
        "\n",
        "prev=df['type'][0]\n",
        "for i in range(1,len(df)):\n",
        "    curr=df['type'][i]\n",
        "    if (prev=='screenOn' or prev=='screenOff') and (curr=='screenOn' or curr=='screenOff'):\n",
        "        if df['index'][i-1]>df['index'][i]:\n",
        "            temp1=df['type'][i-1]\n",
        "            df['type'][i-1]=df['type'][i]\n",
        "            df['type'][i]=temp1\n",
        "\n",
        "            temp2=df['event'][i-1]\n",
        "            df['event'][i-1]=df['event'][i]\n",
        "            df['event'][i]=temp2\n",
        "    prev=curr"
      ],
      "execution_count": null,
      "outputs": []
    },
    {
      "cell_type": "markdown",
      "metadata": {
        "id": "nRNDgnkNDuU2",
        "colab_type": "text"
      },
      "source": [
        "As a result, we could see that the sequence of the data was more natural.\n",
        "![sorting result](https://drive.google.com/uc?id=1KK32LmBBoRomIQ-7536K0tskII8CLInL)"
      ]
    },
    {
      "cell_type": "markdown",
      "metadata": {
        "id": "zrIIgn7rmbYF",
        "colab_type": "text"
      },
      "source": [
        "##Imputation"
      ]
    },
    {
      "cell_type": "markdown",
      "metadata": {
        "id": "0BN7RfjKBVNk",
        "colab_type": "text"
      },
      "source": [
        "Smartphone-based continuous sensing and data recording may suffer from missing data due to resource limitation and optimization policies in mobile devices In this study, screen on/off events were paired in order to define smartphone usage sessions. However, we found that 8\\% of screen-on events and 11\\% of screen-off events were missing. We used a simple heuristic of imputing missing values by associating on and off events with touch interaction events (e.g., first touch or last touch). We simultaneously considered multiple data streams, i.e., screen-on/off, application, and touch/keyboard events to impute missing values.\n",
        "![Imputation](https://drive.google.com/uc?id=17qz2yggnpiZZDGwg-e62n3bLP8rp33Pv)"
      ]
    },
    {
      "cell_type": "code",
      "metadata": {
        "id": "SwjySI2L_hIf",
        "colab_type": "code",
        "colab": {}
      },
      "source": [
        "# Impute screenOn in case 1\n",
        "for i in range(1,len(df)):\n",
        "    curr=df['type'][i] \n",
        "    if (curr== 'app' or curr== 'touch') and prev=='screenOff':\n",
        "        candidate=i\n",
        "        start='Y'\n",
        "        while True:\n",
        "            if (df['second'][candidate+1]-df['second'][candidate]<=45 and df['second'][candidate+2]-df['second'][candidate+1]<=45):\n",
        "                break\n",
        "            else:\n",
        "                candidate+=1\n",
        "        prev=curr        \n",
        "        continue\n",
        "\n",
        "    if start=='Y' and curr=='screenOff':\n",
        "        line = pd.DataFrame({'timestamp': df['timestamp'][candidate], \"event\":' screenOn', 'type':'screenOn',  'second':df['second'][candidate]} , index=[candidate])\n",
        "        df = pd.concat([df.iloc[:candidate], line, df.iloc[candidate:]])\n",
        "        df=df.reset_index(drop=True)\n",
        "        start=None\n",
        "\n",
        "    elif start=='Y' and curr=='screenOn':\n",
        "        start=None\n",
        "    prev=curr\n",
        "\n",
        "# impute screenOff in case 2-1\n",
        "prev=df['type'][0]\n",
        "start=None\n",
        "for i in range(1,len(df)):\n",
        "    curr=df['type'][i] \n",
        "    if prev=='screenOff' and curr==\"POSTED\":\n",
        "        start='Y'\n",
        "\n",
        "    if start=='Y' and (prev==\"screenOff\" and curr=='screenOn'):\n",
        "        start=None\n",
        "\n",
        "    elif start=='Y' and ((prev=='touch' or prev=='app' or prev=='REMOVED') and curr=='screenOn'):\n",
        "        candidate=i\n",
        "        line = pd.DataFrame({'timestamp': df['timestamp'][candidate-1], \"event\":' screenOff', 'type':'screenOff',  'second':df['second'][candidate-1]} , index=[candidate])\n",
        "        df = pd.concat([df.iloc[:candidate], line, df.iloc[candidate:]])\n",
        "        df=df.reset_index(drop=True)\n",
        "        start=None\n",
        "    prev=curr\n",
        "\n",
        "# impute screenOff in case 2-2\n",
        "prev=df['type'][0]\n",
        "start=None\n",
        "for i in range(1,len(df)):\n",
        "    curr=df['type'][i] \n",
        "    if prev=='screenOff' and curr==\"POSTED\":\n",
        "        start='Y'\n",
        "\n",
        "    if start=='Y' and (prev==\"screenOff\" and curr=='screenOn'):\n",
        "        start=None\n",
        "\n",
        "    elif start=='Y' and ((df['second'][i]-df['second'][i-1]>30) and (curr=='POSTED' or curr==\"screenOn\")):\n",
        "        candidate=i\n",
        "        line = pd.DataFrame({'timestamp': df['timestamp'][candidate-1], \"event\":' screenOff', 'type':'screenOff',  'second':df['second'][candidate-1]} , index=[candidate])\n",
        "        df = pd.concat([df.iloc[:candidate], line, df.iloc[candidate:]])\n",
        "        df=df.reset_index(drop=True)\n",
        "        start=None\n",
        "    prev=curr"
      ],
      "execution_count": null,
      "outputs": []
    },
    {
      "cell_type": "markdown",
      "metadata": {
        "id": "gkoMvHqILGVm",
        "colab_type": "text"
      },
      "source": [
        "After imputation, we could observe the missing case almost 0%\n",
        "![Result](https://drive.google.com/uc?id=1oy47fOIaQuk37uGp66z3jSXG34TS6JyF)"
      ]
    },
    {
      "cell_type": "markdown",
      "metadata": {
        "id": "3i-baNfNmeEH",
        "colab_type": "text"
      },
      "source": [
        "##Extract in-class data"
      ]
    },
    {
      "cell_type": "markdown",
      "metadata": {
        "id": "mSneSU9SSaAI",
        "colab_type": "text"
      },
      "source": [
        "We needed to extract only class data to examine students' behavior in using smartphones in class. To do that, we used data from previous studies, you can refer to **\"Understanding smartphone usage in college classrooms: A long-term measurement study\"** paper for details. Briefly, it is as follows:\n",
        "\n",
        "\n",
        "*   Wi-Fi fingerprints: Matching MAC address\n",
        "*   GPS (If there is no Wi-Fi log):  Determined whether student's current location was within the building radius\n",
        "\n",
        "\n",
        "\n"
      ]
    },
    {
      "cell_type": "code",
      "metadata": {
        "id": "-AbtV6aMUj3G",
        "colab_type": "code",
        "colab": {
          "base_uri": "https://localhost:8080/",
          "height": 419
        },
        "outputId": "4ce7ed70-9b22-4fdb-c5ee-9049b4f73935"
      },
      "source": [
        "df_in_class"
      ],
      "execution_count": null,
      "outputs": [
        {
          "output_type": "execute_result",
          "data": {
            "text/html": [
              "<div>\n",
              "<style scoped>\n",
              "    .dataframe tbody tr th:only-of-type {\n",
              "        vertical-align: middle;\n",
              "    }\n",
              "\n",
              "    .dataframe tbody tr th {\n",
              "        vertical-align: top;\n",
              "    }\n",
              "\n",
              "    .dataframe thead th {\n",
              "        text-align: right;\n",
              "    }\n",
              "</style>\n",
              "<table border=\"1\" class=\"dataframe\">\n",
              "  <thead>\n",
              "    <tr style=\"text-align: right;\">\n",
              "      <th></th>\n",
              "      <th>classname</th>\n",
              "      <th>enterance_time</th>\n",
              "      <th>exit_time</th>\n",
              "    </tr>\n",
              "  </thead>\n",
              "  <tbody>\n",
              "    <tr>\n",
              "      <th>0</th>\n",
              "      <td>일반화학2-B</td>\n",
              "      <td>2017.09.11_09.00.00</td>\n",
              "      <td>2017.09.11_10.15.00</td>\n",
              "    </tr>\n",
              "    <tr>\n",
              "      <th>1</th>\n",
              "      <td>OR개론-A</td>\n",
              "      <td>2017.09.11_13.00.00</td>\n",
              "      <td>2017.09.11_14.15.00</td>\n",
              "    </tr>\n",
              "    <tr>\n",
              "      <th>2</th>\n",
              "      <td>IntermediateEnglishReading&amp;Writing-H</td>\n",
              "      <td>2017.09.11_14.32.54</td>\n",
              "      <td>2017.09.11_15.45.00</td>\n",
              "    </tr>\n",
              "    <tr>\n",
              "      <th>3</th>\n",
              "      <td>미적분학2-M&amp;N</td>\n",
              "      <td>2017.09.12_13.00.00</td>\n",
              "      <td>2017.09.12_14.15.00</td>\n",
              "    </tr>\n",
              "    <tr>\n",
              "      <th>4</th>\n",
              "      <td>일반물리학2-E</td>\n",
              "      <td>2017.09.12_14.30.00</td>\n",
              "      <td>2017.09.12_15.45.00</td>\n",
              "    </tr>\n",
              "    <tr>\n",
              "      <th>...</th>\n",
              "      <td>...</td>\n",
              "      <td>...</td>\n",
              "      <td>...</td>\n",
              "    </tr>\n",
              "    <tr>\n",
              "      <th>86</th>\n",
              "      <td>미적분학2-M&amp;N</td>\n",
              "      <td>2017.11.30_13.00.00</td>\n",
              "      <td>2017.11.30_14.15.00</td>\n",
              "    </tr>\n",
              "    <tr>\n",
              "      <th>87</th>\n",
              "      <td>일반물리학2-E</td>\n",
              "      <td>2017.11.30_14.30.00</td>\n",
              "      <td>2017.11.30_15.45.00</td>\n",
              "    </tr>\n",
              "    <tr>\n",
              "      <th>88</th>\n",
              "      <td>OR개론-A</td>\n",
              "      <td>2017.12.04_13.00.00</td>\n",
              "      <td>2017.12.04_14.15.00</td>\n",
              "    </tr>\n",
              "    <tr>\n",
              "      <th>89</th>\n",
              "      <td>IntermediateEnglishReading&amp;Writing-H</td>\n",
              "      <td>2017.12.04_14.30.00</td>\n",
              "      <td>2017.12.04_15.45.00</td>\n",
              "    </tr>\n",
              "    <tr>\n",
              "      <th>90</th>\n",
              "      <td>미적분학2-M&amp;N</td>\n",
              "      <td>2017.12.05_13.41.47</td>\n",
              "      <td>2017.12.05_14.15.00</td>\n",
              "    </tr>\n",
              "  </tbody>\n",
              "</table>\n",
              "<p>91 rows × 3 columns</p>\n",
              "</div>"
            ],
            "text/plain": [
              "                               classname  ...            exit_time\n",
              "0                                일반화학2-B  ...  2017.09.11_10.15.00\n",
              "1                                 OR개론-A  ...  2017.09.11_14.15.00\n",
              "2   IntermediateEnglishReading&Writing-H  ...  2017.09.11_15.45.00\n",
              "3                              미적분학2-M&N  ...  2017.09.12_14.15.00\n",
              "4                               일반물리학2-E  ...  2017.09.12_15.45.00\n",
              "..                                   ...  ...                  ...\n",
              "86                             미적분학2-M&N  ...  2017.11.30_14.15.00\n",
              "87                              일반물리학2-E  ...  2017.11.30_15.45.00\n",
              "88                                OR개론-A  ...  2017.12.04_14.15.00\n",
              "89  IntermediateEnglishReading&Writing-H  ...  2017.12.04_15.45.00\n",
              "90                             미적분학2-M&N  ...  2017.12.05_14.15.00\n",
              "\n",
              "[91 rows x 3 columns]"
            ]
          },
          "metadata": {
            "tags": []
          },
          "execution_count": 50
        }
      ]
    },
    {
      "cell_type": "code",
      "metadata": {
        "id": "vFHR-maNJMws",
        "colab_type": "code",
        "colab": {}
      },
      "source": [
        "# load previous studies preprocessed data \n",
        "df=pd.read_csv('gdrive/My Drive/project/imputed_data/event_'+ID+'.csv', error_bad_lines=False)\n",
        "df_in_class=pd.read_csv('gdrive/My Drive/project/class_app_usage/'+ID+'/Session_In_Class_'+ID+'.csv')\n",
        "df_in_class=df_in_class.iloc[:,0:3]\n",
        "\n",
        "# Remove duplicated data and sort by time stamp\n",
        "df_in_class=df_in_class.drop_duplicates()\n",
        "df_in_class.iloc[:,1:2]=df_in_class.iloc[:,1:2].applymap(remove_space)\n",
        "df_in_class.iloc[:,2:]=df_in_class.iloc[:,2:].applymap(remove_space)\n",
        "df_in_class=df_in_class.sort_values([\" enterance_time\"], ascending=[True]).reset_index(drop=True)\n",
        "\n",
        "# Extract in-class data using previous extracted entrance and exit time\n",
        "start_time=remove_space(df_in_class[' enterance_time'][0])\n",
        "end_time=remove_space(df_in_class[' exit_time'][len(df_in_class)-1])\n",
        "df=df[(df['timestamp']>=start_time) & (df['timestamp']<=end_time)].reset_index(drop=True)\n",
        "\n",
        "for i in range(len(df_in_class)):\n",
        "    start_time=df_in_class[' enterance_time'][i]\n",
        "    end_time=df_in_class[' exit_time'][i]\n",
        "    df.loc[(start_time <= df.timestamp) & (df.timestamp< end_time), 'classname']=df_in_class['classname'][i]\n",
        "    \n",
        "df=df.dropna(axis=0).reset_index(drop=True)\n",
        "df=df.reindex(columns=['classname', 'timestamp', 'event', 'type'])\n",
        "\n",
        "# Load  the app package that caused the notification using previous dataset\n",
        "df_noti=pd.read_csv('gdrive/My Drive/project/class_app_usage/'+ID+'/NOTIFICATION_'+ID+'.csv', error_bad_lines=False)\n",
        "df_noti['timestamp']=df_noti.iloc[:,1:2].applymap(remove_space)\n",
        "time_list=list(df_noti['timestamp'])\n",
        "df['second']=df.iloc[:,1:2].applymap(time_transform)\n",
        "    \n",
        "for i in range(len(df_noti)):\n",
        "    df.loc[df_noti['timestamp'][i]==df.timestamp , 'app']=df_noti[' package'][i]"
      ],
      "execution_count": null,
      "outputs": []
    },
    {
      "cell_type": "code",
      "metadata": {
        "id": "aPZKjp6TVHRk",
        "colab_type": "code",
        "colab": {
          "base_uri": "https://localhost:8080/",
          "height": 204
        },
        "outputId": "8fadbcbd-4f76-4db9-dc13-bf64353804ba"
      },
      "source": [
        "df.head()"
      ],
      "execution_count": null,
      "outputs": [
        {
          "output_type": "execute_result",
          "data": {
            "text/html": [
              "<div>\n",
              "<style scoped>\n",
              "    .dataframe tbody tr th:only-of-type {\n",
              "        vertical-align: middle;\n",
              "    }\n",
              "\n",
              "    .dataframe tbody tr th {\n",
              "        vertical-align: top;\n",
              "    }\n",
              "\n",
              "    .dataframe thead th {\n",
              "        text-align: right;\n",
              "    }\n",
              "</style>\n",
              "<table border=\"1\" class=\"dataframe\">\n",
              "  <thead>\n",
              "    <tr style=\"text-align: right;\">\n",
              "      <th></th>\n",
              "      <th>classname</th>\n",
              "      <th>timestamp</th>\n",
              "      <th>event</th>\n",
              "      <th>type</th>\n",
              "      <th>second</th>\n",
              "      <th>app</th>\n",
              "    </tr>\n",
              "  </thead>\n",
              "  <tbody>\n",
              "    <tr>\n",
              "      <th>0</th>\n",
              "      <td>일반화학2-B</td>\n",
              "      <td>2017.09.11_09.02.13.000</td>\n",
              "      <td>screenOn</td>\n",
              "      <td>screenOn</td>\n",
              "      <td>32533</td>\n",
              "      <td>NaN</td>\n",
              "    </tr>\n",
              "    <tr>\n",
              "      <th>1</th>\n",
              "      <td>일반화학2-B</td>\n",
              "      <td>2017.09.11_09.02.13.827</td>\n",
              "      <td>com.lge.launcher2</td>\n",
              "      <td>app</td>\n",
              "      <td>32533</td>\n",
              "      <td>NaN</td>\n",
              "    </tr>\n",
              "    <tr>\n",
              "      <th>2</th>\n",
              "      <td>일반화학2-B</td>\n",
              "      <td>2017.09.11_09.02.18.164</td>\n",
              "      <td>com.facebook.katana</td>\n",
              "      <td>app</td>\n",
              "      <td>32538</td>\n",
              "      <td>NaN</td>\n",
              "    </tr>\n",
              "    <tr>\n",
              "      <th>3</th>\n",
              "      <td>일반화학2-B</td>\n",
              "      <td>2017.09.11_09.02.18.746</td>\n",
              "      <td>SCROLLTOUCH</td>\n",
              "      <td>touch</td>\n",
              "      <td>32538</td>\n",
              "      <td>NaN</td>\n",
              "    </tr>\n",
              "    <tr>\n",
              "      <th>4</th>\n",
              "      <td>일반화학2-B</td>\n",
              "      <td>2017.09.11_09.02.19.403</td>\n",
              "      <td>SCROLLTOUCH</td>\n",
              "      <td>touch</td>\n",
              "      <td>32539</td>\n",
              "      <td>NaN</td>\n",
              "    </tr>\n",
              "  </tbody>\n",
              "</table>\n",
              "</div>"
            ],
            "text/plain": [
              "  classname                timestamp  ... second  app\n",
              "0   일반화학2-B  2017.09.11_09.02.13.000  ...  32533  NaN\n",
              "1   일반화학2-B  2017.09.11_09.02.13.827  ...  32533  NaN\n",
              "2   일반화학2-B  2017.09.11_09.02.18.164  ...  32538  NaN\n",
              "3   일반화학2-B  2017.09.11_09.02.18.746  ...  32538  NaN\n",
              "4   일반화학2-B  2017.09.11_09.02.19.403  ...  32539  NaN\n",
              "\n",
              "[5 rows x 6 columns]"
            ]
          },
          "metadata": {
            "tags": []
          },
          "execution_count": 58
        }
      ]
    },
    {
      "cell_type": "markdown",
      "metadata": {
        "id": "g6I27aozXxq1",
        "colab_type": "text"
      },
      "source": [
        "# Session Definition"
      ]
    },
    {
      "cell_type": "markdown",
      "metadata": {
        "id": "b_RPrah_hi49",
        "colab_type": "text"
      },
      "source": [
        "We further divided the session in more detail based on how a user reacted to notifications, so that we could analyze how different reaction types were related to academic performance. \n",
        "\n",
        "\n",
        "\n",
        "![session](https://drive.google.com/uc?id=1k9fOCxvUSmIYp4aX-hB7iR1PzBHnRBk_)"
      ]
    },
    {
      "cell_type": "code",
      "metadata": {
        "id": "s3b450LNXzW2",
        "colab_type": "code",
        "colab": {
          "base_uri": "https://localhost:8080/",
          "height": 204
        },
        "outputId": "1b0b032d-b777-4efb-83f2-02d6c59c9b90"
      },
      "source": [
        "# Initialize variables to classify sessions\n",
        "prev=\"screenOff\"\n",
        "prev_class=df['classname'][0]\n",
        "app_list=[]\n",
        "interaction_list=[]\n",
        "start=[]\n",
        "end=[]\n",
        "session_time=[]\n",
        "class_list=[]\n",
        "Type_list=[]\n",
        "app=0\n",
        "interaction=0\n",
        "User_session=None\n",
        "Noti_session=None\n",
        "Type=None\n",
        "inter=None\n",
        "noti_app=[]\n",
        "\n",
        "for i in range(len(df)-1):\n",
        "    curr=df['type'][i]\n",
        "    curr_class=df['classname'][i]\n",
        "    after=df['type'][i+1]\n",
        "\n",
        "\n",
        "    if prev_class!=curr_class:\n",
        "        prev='screenOff'\n",
        "        app=0\n",
        "        interaction=0\n",
        "        User_session=None\n",
        "        Noti_session=None\n",
        "        Type=None\n",
        "        noti_app=[]\n",
        "\n",
        "\n",
        "# Store the app that caused notifications that arrived between inter sessions: \n",
        "# This is to differentiate between E_uu and I_uu sessions.\n",
        "    if User_session==None :\n",
        "        if df['type'][i]==\"POSTED\" and df['app'][i] not in noti_app:\n",
        "            noti_app.append(df['app'][i])\n",
        "\n",
        "\n",
        "\n",
        "\n",
        "# Session start: Whether the session was triggered by notification or not\n",
        "    if prev=='screenOff' and curr=='screenOn':\n",
        "        if after=='POSTED' and df['second'][i+1]-df['second'][i]<=1:\n",
        "            Noti_session=\"Y\"\n",
        "            session_start=df['timestamp'][i]\n",
        "        else:\n",
        "            User_session='Y'\n",
        "            session_start=df['timestamp'][i]\n",
        "\n",
        "\n",
        "    elif prev=='screenOff' and curr==\"POSTED\":\n",
        "            Noti_session=\"Y\"\n",
        "            session_start=df['timestamp'][i]\n",
        "\n",
        "\n",
        "# E_uu Session and I_uu Session Classification: Determining if the first launched app was launched by a previously arrived notification\n",
        "    if User_session==\"Y\":\n",
        "        if Type==None:\n",
        "            if curr=='app'  and (\"launcher\" not in df['event'][i] and \"system\"  not in df['event'][i] and 'signboard' not in df['event'][i]):\n",
        "                if df['event'][i] in noti_app:\n",
        "                    Type=\"E_uu\"\n",
        "                else:\n",
        "                    Type=\"I_uu\"\n",
        "\n",
        "        if curr=='app' and  (\"launcher\" not in df['event'][i] and \"system\"  not in df['event'][i] and 'signboard' not in df['event'][i]):\n",
        "            app+=1\n",
        "        elif curr==\"touch\":\n",
        "            interaction+=1\n",
        "\n",
        "        elif curr==\"screenOff\":\n",
        "            if Type==None:\n",
        "                Type=\"I_uu\"\n",
        "            session_end=df['timestamp'][i]\n",
        "            start.append(session_start)\n",
        "            end.append(session_end)\n",
        "            session_time.append(time_transform(session_end)-time_transform(session_start))\n",
        "            app_list.append(app)\n",
        "            interaction_list.append(interaction)\n",
        "            class_list.append(df['classname'][i])\n",
        "            Type_list.append(Type)\n",
        "            User_session=None\n",
        "            Type=None\n",
        "            app=0\n",
        "            interaction=0\n",
        "            noti_app=[]\n",
        "\n",
        "# Capture in-session behavior (number of app launches and touch and keyboard events) and classify the sessions according to the behaviors in the session\n",
        "    if Noti_session=='Y':\n",
        "        if curr=='app' and  (\"launcher\" not in df['event'][i] and \"system\"  not in df['event'][i] and 'signboard' not in df['event'][i]):\n",
        "            app+=1\n",
        "            if inter==None:\n",
        "                session_start=df['timestamp'][i]\n",
        "                inter=\"Y\"\n",
        "        elif curr==\"touch\":\n",
        "            interaction+=1\n",
        "            if inter==None:\n",
        "                session_start=df['timestamp'][i]\n",
        "                inter=\"Y\"\n",
        "        elif curr==\"screenOff\":\n",
        "            if app==0 and interaction==0:\n",
        "                Type=\"E_ig\"\n",
        "            elif app==0 and interaction!=0:\n",
        "                Type=\"E_nl\"\n",
        "            else:\n",
        "                Type=\"E_nu\"\n",
        "                noti_app=[]\n",
        "\n",
        "            session_end=df['timestamp'][i]\n",
        "            start.append(session_start)\n",
        "            end.append(session_end)\n",
        "            session_time.append(time_transform(session_end)-time_transform(session_start))\n",
        "            app_list.append(app)\n",
        "            interaction_list.append(interaction)\n",
        "            class_list.append(df['classname'][i])\n",
        "            Type_list.append(Type)\n",
        "            Noti_session=None\n",
        "            Type=None\n",
        "            inter=None\n",
        "            app=0\n",
        "            interaction=0\n",
        "            \n",
        "    prev=curr\n",
        "    prev_class=curr_class\n",
        "result={\"classname\": class_list,'session_start': start, \"session_end\":end ,\"session_duration\": session_time,\n",
        "        \"type\": Type_list, 'multi app usage': app_list, \"The number of interaction\": interaction_list\n",
        "}\n",
        "result=pd.DataFrame(result)\n",
        "result.head()\n",
        "#result.to_csv(\"gdrive/My Drive/project/session/session_in_class_\"+ID+'.csv', index=False)"
      ],
      "execution_count": null,
      "outputs": [
        {
          "output_type": "execute_result",
          "data": {
            "text/html": [
              "<div>\n",
              "<style scoped>\n",
              "    .dataframe tbody tr th:only-of-type {\n",
              "        vertical-align: middle;\n",
              "    }\n",
              "\n",
              "    .dataframe tbody tr th {\n",
              "        vertical-align: top;\n",
              "    }\n",
              "\n",
              "    .dataframe thead th {\n",
              "        text-align: right;\n",
              "    }\n",
              "</style>\n",
              "<table border=\"1\" class=\"dataframe\">\n",
              "  <thead>\n",
              "    <tr style=\"text-align: right;\">\n",
              "      <th></th>\n",
              "      <th>classname</th>\n",
              "      <th>session_start</th>\n",
              "      <th>session_end</th>\n",
              "      <th>session_duration</th>\n",
              "      <th>type</th>\n",
              "      <th>multi app usage</th>\n",
              "      <th>The number of interaction</th>\n",
              "    </tr>\n",
              "  </thead>\n",
              "  <tbody>\n",
              "    <tr>\n",
              "      <th>0</th>\n",
              "      <td>일반화학2-B</td>\n",
              "      <td>2017.09.11_09.02.13.000</td>\n",
              "      <td>2017.09.11_09.04.29.000</td>\n",
              "      <td>136</td>\n",
              "      <td>I_uu</td>\n",
              "      <td>1</td>\n",
              "      <td>98</td>\n",
              "    </tr>\n",
              "    <tr>\n",
              "      <th>1</th>\n",
              "      <td>일반화학2-B</td>\n",
              "      <td>2017.09.11_09.06.55.000</td>\n",
              "      <td>2017.09.11_09.07.37.000</td>\n",
              "      <td>42</td>\n",
              "      <td>I_uu</td>\n",
              "      <td>1</td>\n",
              "      <td>21</td>\n",
              "    </tr>\n",
              "    <tr>\n",
              "      <th>2</th>\n",
              "      <td>일반화학2-B</td>\n",
              "      <td>2017.09.11_09.12.55.000</td>\n",
              "      <td>2017.09.11_09.14.18.000</td>\n",
              "      <td>83</td>\n",
              "      <td>I_uu</td>\n",
              "      <td>1</td>\n",
              "      <td>45</td>\n",
              "    </tr>\n",
              "    <tr>\n",
              "      <th>3</th>\n",
              "      <td>일반화학2-B</td>\n",
              "      <td>2017.09.11_09.17.06.000</td>\n",
              "      <td>2017.09.11_09.18.32.000</td>\n",
              "      <td>86</td>\n",
              "      <td>I_uu</td>\n",
              "      <td>1</td>\n",
              "      <td>25</td>\n",
              "    </tr>\n",
              "    <tr>\n",
              "      <th>4</th>\n",
              "      <td>일반화학2-B</td>\n",
              "      <td>2017.09.11_09.18.34.000</td>\n",
              "      <td>2017.09.11_09.20.02.000</td>\n",
              "      <td>88</td>\n",
              "      <td>I_uu</td>\n",
              "      <td>0</td>\n",
              "      <td>47</td>\n",
              "    </tr>\n",
              "  </tbody>\n",
              "</table>\n",
              "</div>"
            ],
            "text/plain": [
              "  classname  ... The number of interaction\n",
              "0   일반화학2-B  ...                        98\n",
              "1   일반화학2-B  ...                        21\n",
              "2   일반화학2-B  ...                        45\n",
              "3   일반화학2-B  ...                        25\n",
              "4   일반화학2-B  ...                        47\n",
              "\n",
              "[5 rows x 7 columns]"
            ]
          },
          "metadata": {
            "tags": []
          },
          "execution_count": 64
        }
      ]
    },
    {
      "cell_type": "markdown",
      "metadata": {
        "id": "-Tryq8bpX1fV",
        "colab_type": "text"
      },
      "source": [
        "#Extract Feature"
      ]
    },
    {
      "cell_type": "markdown",
      "metadata": {
        "id": "KmWoU4cbkpW2",
        "colab_type": "text"
      },
      "source": [
        "##Notification handling features"
      ]
    },
    {
      "cell_type": "markdown",
      "metadata": {
        "id": "whrhWrZz-Ccs",
        "colab_type": "text"
      },
      "source": [
        "The below picture represents the notification process showing how notifications arrived and users checked them during a class.\n",
        "![Notification](https://drive.google.com/uc?id=1vVFIQHgSqv0PwXS9dYGdu1zbBjF7TSF_)\n",
        "\n",
        "Using this process, we could capture the following features\n",
        "![metrics](https://drive.google.com/uc?id=1br5Trugh_i-pjWKz6F5VCkLV_8-K3nHW)"
      ]
    },
    {
      "cell_type": "markdown",
      "metadata": {
        "id": "KQaLzGEpRu9V",
        "colab_type": "text"
      },
      "source": [
        "###Notification arrival"
      ]
    },
    {
      "cell_type": "code",
      "metadata": {
        "id": "DP6zipLJccqG",
        "colab_type": "code",
        "colab": {
          "base_uri": "https://localhost:8080/",
          "height": 204
        },
        "outputId": "cbcb730d-3298-4883-8ece-963957342053"
      },
      "source": [
        "# Load class information\n",
        "df_class=pd.read_csv(\"gdrive/My Drive/project/csv_file/class.csv\",encoding='euc_kr')\n",
        "df_class.head()"
      ],
      "execution_count": null,
      "outputs": [
        {
          "output_type": "execute_result",
          "data": {
            "text/html": [
              "<div>\n",
              "<style scoped>\n",
              "    .dataframe tbody tr th:only-of-type {\n",
              "        vertical-align: middle;\n",
              "    }\n",
              "\n",
              "    .dataframe tbody tr th {\n",
              "        vertical-align: top;\n",
              "    }\n",
              "\n",
              "    .dataframe thead th {\n",
              "        text-align: right;\n",
              "    }\n",
              "</style>\n",
              "<table border=\"1\" class=\"dataframe\">\n",
              "  <thead>\n",
              "    <tr style=\"text-align: right;\">\n",
              "      <th></th>\n",
              "      <th>class_name</th>\n",
              "      <th>time1</th>\n",
              "    </tr>\n",
              "  </thead>\n",
              "  <tbody>\n",
              "    <tr>\n",
              "      <th>0</th>\n",
              "      <td>1945년이후미술</td>\n",
              "      <td>Tu.10:30~Tu.11:45</td>\n",
              "    </tr>\n",
              "    <tr>\n",
              "      <th>1</th>\n",
              "      <td>AdvancedEnglishListening-A</td>\n",
              "      <td>Tu.16:00~Tu.17:45</td>\n",
              "    </tr>\n",
              "    <tr>\n",
              "      <th>2</th>\n",
              "      <td>AdvancedEnglishListening-C</td>\n",
              "      <td>We.16:00~We.17:45</td>\n",
              "    </tr>\n",
              "    <tr>\n",
              "      <th>3</th>\n",
              "      <td>AdvancedEnglishListening-D</td>\n",
              "      <td>We.16:00~We.17:45</td>\n",
              "    </tr>\n",
              "    <tr>\n",
              "      <th>4</th>\n",
              "      <td>AdvancedEnglishListening-E</td>\n",
              "      <td>Th.10:30~Th.12:15</td>\n",
              "    </tr>\n",
              "  </tbody>\n",
              "</table>\n",
              "</div>"
            ],
            "text/plain": [
              "                   class_name               time1\n",
              "0                   1945년이후미술   Tu.10:30~Tu.11:45\n",
              "1  AdvancedEnglishListening-A   Tu.16:00~Tu.17:45\n",
              "2  AdvancedEnglishListening-C   We.16:00~We.17:45\n",
              "3  AdvancedEnglishListening-D   We.16:00~We.17:45\n",
              "4  AdvancedEnglishListening-E   Th.10:30~Th.12:15"
            ]
          },
          "metadata": {
            "tags": []
          },
          "execution_count": 19
        }
      ]
    },
    {
      "cell_type": "code",
      "metadata": {
        "id": "YT79NLuEdxfi",
        "colab_type": "code",
        "colab": {
          "base_uri": "https://localhost:8080/",
          "height": 204
        },
        "outputId": "782d659d-0b69-41a3-a2f3-3bb82b530827"
      },
      "source": [
        "# Extract start time of class\n",
        "def time(x):\n",
        "    x=x.split('~')[0].split('.')[1]\n",
        "    return x\n",
        "df_class['time']=df_class.iloc[:,1:].applymap(time)\n",
        "df_class.head()"
      ],
      "execution_count": null,
      "outputs": [
        {
          "output_type": "execute_result",
          "data": {
            "text/html": [
              "<div>\n",
              "<style scoped>\n",
              "    .dataframe tbody tr th:only-of-type {\n",
              "        vertical-align: middle;\n",
              "    }\n",
              "\n",
              "    .dataframe tbody tr th {\n",
              "        vertical-align: top;\n",
              "    }\n",
              "\n",
              "    .dataframe thead th {\n",
              "        text-align: right;\n",
              "    }\n",
              "</style>\n",
              "<table border=\"1\" class=\"dataframe\">\n",
              "  <thead>\n",
              "    <tr style=\"text-align: right;\">\n",
              "      <th></th>\n",
              "      <th>class_name</th>\n",
              "      <th>time1</th>\n",
              "      <th>time</th>\n",
              "    </tr>\n",
              "  </thead>\n",
              "  <tbody>\n",
              "    <tr>\n",
              "      <th>0</th>\n",
              "      <td>1945년이후미술</td>\n",
              "      <td>Tu.10:30~Tu.11:45</td>\n",
              "      <td>10:30</td>\n",
              "    </tr>\n",
              "    <tr>\n",
              "      <th>1</th>\n",
              "      <td>AdvancedEnglishListening-A</td>\n",
              "      <td>Tu.16:00~Tu.17:45</td>\n",
              "      <td>16:00</td>\n",
              "    </tr>\n",
              "    <tr>\n",
              "      <th>2</th>\n",
              "      <td>AdvancedEnglishListening-C</td>\n",
              "      <td>We.16:00~We.17:45</td>\n",
              "      <td>16:00</td>\n",
              "    </tr>\n",
              "    <tr>\n",
              "      <th>3</th>\n",
              "      <td>AdvancedEnglishListening-D</td>\n",
              "      <td>We.16:00~We.17:45</td>\n",
              "      <td>16:00</td>\n",
              "    </tr>\n",
              "    <tr>\n",
              "      <th>4</th>\n",
              "      <td>AdvancedEnglishListening-E</td>\n",
              "      <td>Th.10:30~Th.12:15</td>\n",
              "      <td>10:30</td>\n",
              "    </tr>\n",
              "  </tbody>\n",
              "</table>\n",
              "</div>"
            ],
            "text/plain": [
              "                   class_name               time1   time\n",
              "0                   1945년이후미술   Tu.10:30~Tu.11:45  10:30\n",
              "1  AdvancedEnglishListening-A   Tu.16:00~Tu.17:45  16:00\n",
              "2  AdvancedEnglishListening-C   We.16:00~We.17:45  16:00\n",
              "3  AdvancedEnglishListening-D   We.16:00~We.17:45  16:00\n",
              "4  AdvancedEnglishListening-E   Th.10:30~Th.12:15  10:30"
            ]
          },
          "metadata": {
            "tags": []
          },
          "execution_count": 10
        }
      ]
    },
    {
      "cell_type": "code",
      "metadata": {
        "id": "6Sl0lyldd6Qu",
        "colab_type": "code",
        "colab": {}
      },
      "source": [
        "# store lectures' name and start time in the dictionary\n",
        "class_list={}\n",
        "for i in range(len(df_class)):\n",
        "    class_list[df_class['class_name'][i]]=df_class['time'][i]"
      ],
      "execution_count": null,
      "outputs": []
    },
    {
      "cell_type": "code",
      "metadata": {
        "id": "DsVLZw2JbVvJ",
        "colab_type": "code",
        "colab": {
          "base_uri": "https://localhost:8080/",
          "height": 204
        },
        "outputId": "0f87d847-631c-41bc-b01d-e8de4c58ad0e"
      },
      "source": [
        "def start_time(x):\n",
        "    x=x.split(':')\n",
        "    return int(x[0])*3600+int(x[1])*60\n",
        "# load data\n",
        "df_noti=pd.read_csv(\"gdrive/My Drive/project/class_app_usage/\"+ID+\"/NOTIFICATION_\"+ID+\".csv\")\n",
        "df_session=pd.read_csv(\"gdrive/My Drive/project/class_app_usage/\"+ID+\"/Session_In_Class_\"+ID+\".csv\")\n",
        "\n",
        "# load class start time\n",
        "df_kakao=df_noti[df_noti[' package']==\" com.kakao.talk\"].reset_index(drop=True)\n",
        "df_kakao[\"start_time\"]=None\n",
        "for i in range(len(df_kakao)):\n",
        "    df_kakao[\"start_time\"][i]=class_list[df_kakao['classname'][i]]\n",
        "df_kakao[\"Second\"]=df_kakao.iloc[:,1:2].applymap(time_transform)\n",
        "df_kakao[\"start_time\"]=df_kakao.iloc[:,7:8].applymap(start_time)\n",
        "df_kakao['day']=df_kakao.iloc[:,1:2].applymap(day)\n",
        "df_kakao_posted=df_kakao[df_kakao[' type']== \" POSTED\"].reset_index(drop=True)\n",
        "df_kakao_posted[\"arrival_interval\"]=None\n",
        "\n",
        "# extract notification inter-arrival time\n",
        "prev_class=None\n",
        "prev_time=None\n",
        "for i in range(len(df_kakao_posted)):\n",
        "    curr_class=df_kakao_posted['classname'][i]\n",
        "    curr_time=df_kakao_posted['Second'][i]\n",
        "\n",
        "# If the notification arrives the first time after the start of class, then capture the time from the start of the class, otherwise capture the notification inter-arrival time\n",
        "    if prev_class!=curr_class:\n",
        "        df_kakao_posted[\"arrival_interval\"][i]=curr_time-df_kakao_posted['start_time'][i]\n",
        "        prev_class=curr_class\n",
        "        prev_time=curr_time\n",
        "    else:\n",
        "        df_kakao_posted[\"arrival_interval\"][i]=curr_time-prev_time\n",
        "        prev_class=curr_class\n",
        "        prev_time=curr_time\n",
        "df_kakao_posted.head()\n",
        "#df_kakao_posted.to_csv(\"gdrive/My Drive/project/bulk/\"+ID+\".csv\", index=False)"
      ],
      "execution_count": null,
      "outputs": [
        {
          "output_type": "execute_result",
          "data": {
            "text/html": [
              "<div>\n",
              "<style scoped>\n",
              "    .dataframe tbody tr th:only-of-type {\n",
              "        vertical-align: middle;\n",
              "    }\n",
              "\n",
              "    .dataframe tbody tr th {\n",
              "        vertical-align: top;\n",
              "    }\n",
              "\n",
              "    .dataframe thead th {\n",
              "        text-align: right;\n",
              "    }\n",
              "</style>\n",
              "<table border=\"1\" class=\"dataframe\">\n",
              "  <thead>\n",
              "    <tr style=\"text-align: right;\">\n",
              "      <th></th>\n",
              "      <th>classname</th>\n",
              "      <th>timestamp</th>\n",
              "      <th>type</th>\n",
              "      <th>package</th>\n",
              "      <th>title</th>\n",
              "      <th>text</th>\n",
              "      <th>subtext</th>\n",
              "      <th>start_time</th>\n",
              "      <th>Second</th>\n",
              "      <th>day</th>\n",
              "      <th>arrival_interval</th>\n",
              "    </tr>\n",
              "  </thead>\n",
              "  <tbody>\n",
              "    <tr>\n",
              "      <th>0</th>\n",
              "      <td>일반화학2-B</td>\n",
              "      <td>2017.09.11_10.05.26</td>\n",
              "      <td>POSTED</td>\n",
              "      <td>com.kakao.talk</td>\n",
              "      <td>새터13홍대희</td>\n",
              "      <td>아</td>\n",
              "      <td>null</td>\n",
              "      <td>32400</td>\n",
              "      <td>36326</td>\n",
              "      <td>2017.09.11</td>\n",
              "      <td>3926</td>\n",
              "    </tr>\n",
              "    <tr>\n",
              "      <th>1</th>\n",
              "      <td>일반화학2-B</td>\n",
              "      <td>2017.09.11_10.05.27</td>\n",
              "      <td>POSTED</td>\n",
              "      <td>com.kakao.talk</td>\n",
              "      <td>새터13홍대희</td>\n",
              "      <td>개졸려</td>\n",
              "      <td>null</td>\n",
              "      <td>32400</td>\n",
              "      <td>36327</td>\n",
              "      <td>2017.09.11</td>\n",
              "      <td>1</td>\n",
              "    </tr>\n",
              "    <tr>\n",
              "      <th>2</th>\n",
              "      <td>OR개론-A</td>\n",
              "      <td>2017.09.11_13.01.15</td>\n",
              "      <td>POSTED</td>\n",
              "      <td>com.kakao.talk</td>\n",
              "      <td>공간위원장권동현</td>\n",
              "      <td>용호성연 시간 됨?</td>\n",
              "      <td>null</td>\n",
              "      <td>46800</td>\n",
              "      <td>46875</td>\n",
              "      <td>2017.09.11</td>\n",
              "      <td>75</td>\n",
              "    </tr>\n",
              "    <tr>\n",
              "      <th>3</th>\n",
              "      <td>OR개론-A</td>\n",
              "      <td>2017.09.11_13.02.41</td>\n",
              "      <td>POSTED</td>\n",
              "      <td>com.kakao.talk</td>\n",
              "      <td>공간위5기장성연</td>\n",
              "      <td>나 시간될듯?</td>\n",
              "      <td>null</td>\n",
              "      <td>46800</td>\n",
              "      <td>46961</td>\n",
              "      <td>2017.09.11</td>\n",
              "      <td>86</td>\n",
              "    </tr>\n",
              "    <tr>\n",
              "      <th>4</th>\n",
              "      <td>OR개론-A</td>\n",
              "      <td>2017.09.11_13.03.25</td>\n",
              "      <td>POSTED</td>\n",
              "      <td>com.kakao.talk</td>\n",
              "      <td>공간위5기송용호</td>\n",
              "      <td>나?</td>\n",
              "      <td>null</td>\n",
              "      <td>46800</td>\n",
              "      <td>47005</td>\n",
              "      <td>2017.09.11</td>\n",
              "      <td>44</td>\n",
              "    </tr>\n",
              "  </tbody>\n",
              "</table>\n",
              "</div>"
            ],
            "text/plain": [
              "  classname             timestamp  ...          day arrival_interval\n",
              "0   일반화학2-B   2017.09.11_10.05.26  ...   2017.09.11             3926\n",
              "1   일반화학2-B   2017.09.11_10.05.27  ...   2017.09.11                1\n",
              "2    OR개론-A   2017.09.11_13.01.15  ...   2017.09.11               75\n",
              "3    OR개론-A   2017.09.11_13.02.41  ...   2017.09.11               86\n",
              "4    OR개론-A   2017.09.11_13.03.25  ...   2017.09.11               44\n",
              "\n",
              "[5 rows x 11 columns]"
            ]
          },
          "metadata": {
            "tags": []
          },
          "execution_count": 18
        }
      ]
    },
    {
      "cell_type": "markdown",
      "metadata": {
        "id": "Q8PgGgas_-wx",
        "colab_type": "text"
      },
      "source": [
        "Using above dataset, we captured the average inter-arrival interval (interval) and the average number of notification arrivals in a class (frequency) "
      ]
    },
    {
      "cell_type": "code",
      "metadata": {
        "id": "fRvrGJ9if9mP",
        "colab_type": "code",
        "colab": {
          "base_uri": "https://localhost:8080/",
          "height": 35
        },
        "outputId": "68d033d6-1785-4786-97d3-0dbe297d16a0"
      },
      "source": [
        "# Average inter-arrival interval (p1)\n",
        "interval=df_kakao_posted['arrival_interval'].mean()\n",
        "\n",
        "# Average number of notification arrivals  (p1)\n",
        "frequency=df_kakao_posted.groupby(['classname', 'day']).count()['arrival_interval'].mean()\n",
        "\n",
        "print(\"P1's interval: {} and P1's frequency: {} \".format(round(interval,2), round(frequency,2)))"
      ],
      "execution_count": null,
      "outputs": [
        {
          "output_type": "stream",
          "text": [
            "P1's interval: 51.07 and P1's frequency: 77.67 \n"
          ],
          "name": "stdout"
        }
      ]
    },
    {
      "cell_type": "markdown",
      "metadata": {
        "id": "WOnE-4DFTQye",
        "colab_type": "text"
      },
      "source": [
        "###Notification checking"
      ]
    },
    {
      "cell_type": "markdown",
      "metadata": {
        "id": "zl-t4fRSDxP9",
        "colab_type": "text"
      },
      "source": [
        "Similar to the previous method, we extracted the notification checking interval."
      ]
    },
    {
      "cell_type": "code",
      "metadata": {
        "id": "ZOH3sYmdDgEH",
        "colab_type": "code",
        "colab": {
          "base_uri": "https://localhost:8080/",
          "height": 204
        },
        "outputId": "cc7c8f8c-33ed-4496-b31e-4ef08dad256c"
      },
      "source": [
        "#Load in-class data\n",
        "df_noti=pd.read_csv(\"gdrive/My Drive/project/class_app_usage/\"+ID+\"/NOTIFICATION_\"+ID+\".csv\")\n",
        "df_session=pd.read_csv(\"gdrive/My Drive/project/class_app_usage/\"+ID+\"/Session_In_Class_\"+ID+\".csv\")\n",
        "df_kakao=df_noti[df_noti[' package']==\" com.kakao.talk\"].reset_index(drop=True)\n",
        "\n",
        "#Load class start time\n",
        "df_kakao[\"start_time\"]=None\n",
        "for i in range(len(df_kakao)):\n",
        "    df_kakao[\"start_time\"][i]=class_list[df_kakao['classname'][i]]\n",
        "df_kakao[\"Second\"]=df_kakao.iloc[:,1:2].applymap(time_transform)\n",
        "df_kakao[\"start_time\"]=df_kakao.iloc[:,7:8].applymap(start_time)\n",
        "df_kakao['day']=df_kakao.iloc[:,1:2].applymap(day)\n",
        "\n",
        "# extract notification inter-checking time\n",
        "df_kakao_posted=df_kakao[df_kakao[' type']== \" POSTED\"].reset_index(drop=True)\n",
        "df_kakao_posted[\"arrival_interval\"]=None\n",
        "df_kakao['removal_interval']=None\n",
        "prev_class=None\n",
        "prev_time=None\n",
        "prev_type=None\n",
        "for i in range(len(df_kakao)):\n",
        "    if df_kakao[' type'][i]==' POSTED':\n",
        "        prev_type=' POSTED'\n",
        "        continue\n",
        "    \n",
        "    curr_class=df_kakao['classname'][i]\n",
        "    curr_time=df_kakao['Second'][i]\n",
        "    curr_type=df_kakao[' type'][i]\n",
        "    if prev_class!=curr_class:\n",
        "        df_kakao['removal_interval'][i]=curr_time-df_kakao['start_time'][i]\n",
        "        prev_class=curr_class\n",
        "        prev_time=curr_time\n",
        "        prev_type=curr_type\n",
        "    else:\n",
        "        if prev_type!=curr_type:\n",
        "            df_kakao['removal_interval'][i]=curr_time-prev_time\n",
        "            prev_class=curr_class\n",
        "            prev_time=curr_time\n",
        "            prev_type=curr_type\n",
        "df_kakao_removed=df_kakao[df_kakao[' type']==' REMOVED'].dropna(axis=0).reset_index(drop=True)\n",
        "df_kakao_removed.head()\n",
        "#df_kakao_removed.to_csv(\"gdrive/My Drive/project/remove/\"+ID+\".csv\", index=False)"
      ],
      "execution_count": null,
      "outputs": [
        {
          "output_type": "execute_result",
          "data": {
            "text/html": [
              "<div>\n",
              "<style scoped>\n",
              "    .dataframe tbody tr th:only-of-type {\n",
              "        vertical-align: middle;\n",
              "    }\n",
              "\n",
              "    .dataframe tbody tr th {\n",
              "        vertical-align: top;\n",
              "    }\n",
              "\n",
              "    .dataframe thead th {\n",
              "        text-align: right;\n",
              "    }\n",
              "</style>\n",
              "<table border=\"1\" class=\"dataframe\">\n",
              "  <thead>\n",
              "    <tr style=\"text-align: right;\">\n",
              "      <th></th>\n",
              "      <th>classname</th>\n",
              "      <th>timestamp</th>\n",
              "      <th>type</th>\n",
              "      <th>package</th>\n",
              "      <th>title</th>\n",
              "      <th>text</th>\n",
              "      <th>subtext</th>\n",
              "      <th>start_time</th>\n",
              "      <th>Second</th>\n",
              "      <th>day</th>\n",
              "      <th>removal_interval</th>\n",
              "    </tr>\n",
              "  </thead>\n",
              "  <tbody>\n",
              "    <tr>\n",
              "      <th>0</th>\n",
              "      <td>일반화학2-B</td>\n",
              "      <td>2017.09.11_10.14.58</td>\n",
              "      <td>REMOVED</td>\n",
              "      <td>com.kakao.talk</td>\n",
              "      <td>새터13홍대희</td>\n",
              "      <td>개졸려</td>\n",
              "      <td>null</td>\n",
              "      <td>32400</td>\n",
              "      <td>36898</td>\n",
              "      <td>2017.09.11</td>\n",
              "      <td>4498</td>\n",
              "    </tr>\n",
              "    <tr>\n",
              "      <th>1</th>\n",
              "      <td>OR개론-A</td>\n",
              "      <td>2017.09.11_13.02.18</td>\n",
              "      <td>REMOVED</td>\n",
              "      <td>com.kakao.talk</td>\n",
              "      <td>공간위원장권동현</td>\n",
              "      <td>용호성연 시간 됨?</td>\n",
              "      <td>null</td>\n",
              "      <td>46800</td>\n",
              "      <td>46938</td>\n",
              "      <td>2017.09.11</td>\n",
              "      <td>138</td>\n",
              "    </tr>\n",
              "    <tr>\n",
              "      <th>2</th>\n",
              "      <td>OR개론-A</td>\n",
              "      <td>2017.09.11_13.05.47</td>\n",
              "      <td>REMOVED</td>\n",
              "      <td>com.kakao.talk</td>\n",
              "      <td>공간위5기송용호</td>\n",
              "      <td>울림홀 문앞은 긴 책상이어서 쓰는거아니냐</td>\n",
              "      <td>null</td>\n",
              "      <td>46800</td>\n",
              "      <td>47147</td>\n",
              "      <td>2017.09.11</td>\n",
              "      <td>209</td>\n",
              "    </tr>\n",
              "    <tr>\n",
              "      <th>3</th>\n",
              "      <td>OR개론-A</td>\n",
              "      <td>2017.09.11_13.09.04</td>\n",
              "      <td>REMOVED</td>\n",
              "      <td>com.kakao.talk</td>\n",
              "      <td>옥재형</td>\n",
              "      <td>자리거없네</td>\n",
              "      <td>null</td>\n",
              "      <td>46800</td>\n",
              "      <td>47344</td>\n",
              "      <td>2017.09.11</td>\n",
              "      <td>197</td>\n",
              "    </tr>\n",
              "    <tr>\n",
              "      <th>4</th>\n",
              "      <td>OR개론-A</td>\n",
              "      <td>2017.09.11_13.11.30</td>\n",
              "      <td>REMOVED</td>\n",
              "      <td>com.kakao.talk</td>\n",
              "      <td>하계봉사연혜정</td>\n",
              "      <td>사진찍어보내주껭</td>\n",
              "      <td>null</td>\n",
              "      <td>46800</td>\n",
              "      <td>47490</td>\n",
              "      <td>2017.09.11</td>\n",
              "      <td>146</td>\n",
              "    </tr>\n",
              "  </tbody>\n",
              "</table>\n",
              "</div>"
            ],
            "text/plain": [
              "  classname             timestamp  ...          day removal_interval\n",
              "0   일반화학2-B   2017.09.11_10.14.58  ...   2017.09.11             4498\n",
              "1    OR개론-A   2017.09.11_13.02.18  ...   2017.09.11              138\n",
              "2    OR개론-A   2017.09.11_13.05.47  ...   2017.09.11              209\n",
              "3    OR개론-A   2017.09.11_13.09.04  ...   2017.09.11              197\n",
              "4    OR개론-A   2017.09.11_13.11.30  ...   2017.09.11              146\n",
              "\n",
              "[5 rows x 11 columns]"
            ]
          },
          "metadata": {
            "tags": []
          },
          "execution_count": 37
        }
      ]
    },
    {
      "cell_type": "code",
      "metadata": {
        "id": "kFHRM7qaEvWL",
        "colab_type": "code",
        "colab": {
          "base_uri": "https://localhost:8080/",
          "height": 35
        },
        "outputId": "7972f7f9-b39d-4d8b-8089-66ac47cfd991"
      },
      "source": [
        "# Average inter-checking interval (p1)\n",
        "interval=df_kakao_removed['removal_interval'].mean()\n",
        "\n",
        "# Average number of notification arrivals  (p1)\n",
        "frequency=df_kakao_removed.groupby(['classname', 'day']).count()['removal_interval'].mean()\n",
        "\n",
        "print(\"P1's interval: {} and P1's frequency: {} \".format(round(interval,2), round(frequency,2)))"
      ],
      "execution_count": null,
      "outputs": [
        {
          "output_type": "stream",
          "text": [
            "P1's interval: 352.52 and P1's frequency: 9.51 \n"
          ],
          "name": "stdout"
        }
      ]
    },
    {
      "cell_type": "markdown",
      "metadata": {
        "id": "lGPrPUZMMxZg",
        "colab_type": "text"
      },
      "source": [
        "###Notificaiton preference"
      ]
    },
    {
      "cell_type": "markdown",
      "metadata": {
        "id": "fWpF4IaMLboq",
        "colab_type": "text"
      },
      "source": [
        "We assumed that users might have different preferences in handling notifications. We defined **`handling preference'** to quantify how users *generally* responded to notifications. For example, in an extreme case, if one student ignored all incoming notifications that occurred during the class, the $E_{ig}$ preference would be given as 1, and the $E_{nl}$, $E_{nu}$, and $E_{uu}$ preference values as 0. This measure is calculated per class and we calculate the average $E_{x}$ preference values for all students \n",
        "![preference](https://drive.google.com/uc?id=1wFfd63Ei8XGml0yBSxUN5zdneuZwWKQH)\n"
      ]
    },
    {
      "cell_type": "code",
      "metadata": {
        "id": "S3HJXwSsRFj8",
        "colab_type": "code",
        "colab": {
          "base_uri": "https://localhost:8080/",
          "height": 35
        },
        "outputId": "79a11128-6b5e-429a-d4d1-5a037dfa0e38"
      },
      "source": [
        "# consider external session only\n",
        "df_external=result[result['type']!=\"I_uu\"]\n",
        "df_external['day']=df_external.iloc[:,1:2].applymap(day)\n",
        "\n",
        "# class-level average of notification preference\n",
        "E_ig_prefer=round((df_external[df_external['type']==\"E_ig\"].groupby([\"day\",'classname']).count()['type']/df_external.groupby([\"day\",'classname']).count()['type']).mean(),2)\n",
        "E_nl_prefer=round((df_external[df_external['type']==\"E_nl\"].groupby([\"day\",'classname']).count()['type']/df_external.groupby([\"day\",'classname']).count()['type']).mean(),2)\n",
        "E_nu_prefer=round((df_external[df_external['type']==\"E_nu\"].groupby([\"day\",'classname']).count()['type']/df_external.groupby([\"day\",'classname']).count()['type']).mean(),2)\n",
        "E_uu_prefer=round((df_external[df_external['type']==\"E_uu\"].groupby([\"day\",'classname']).count()['type']/df_external.groupby([\"day\",'classname']).count()['type']).mean(),2)\n",
        "\n",
        "# result\n",
        "print(\"P1's E_ig preference: {}, and E_nl preference: {}, E_nu preference: {}, E_uu preference: {}\".format(E_ig_prefer,E_nl_prefer,E_nu_prefer,E_uu_prefer))"
      ],
      "execution_count": null,
      "outputs": [
        {
          "output_type": "stream",
          "text": [
            "P1's E_ig preference: 0.37, and E_nl preference: 0.47, E_nu preference: 0.38, E_uu preference: 0.22\n"
          ],
          "name": "stdout"
        }
      ]
    },
    {
      "cell_type": "markdown",
      "metadata": {
        "id": "gXywTX8Xkllk",
        "colab_type": "text"
      },
      "source": [
        "## Smartphone usage features"
      ]
    },
    {
      "cell_type": "markdown",
      "metadata": {
        "id": "H-LqgUKndcyr",
        "colab_type": "text"
      },
      "source": [
        "We compared session-level usage metrics in three unlocked usage sessions ($E_{nu}$, $E_{uu}$, and $I_{uu}$) to find out the impact of notifications on the use of smartphones. Here, the session-level usage metrics include usage duration, the number of apps used, and the number of interactions within a session.\n",
        "\n",
        "![usage](https://drive.google.com/uc?id=17lpLd5Jv6i_GvO91oF10NNzaTLISKi9Y)\n",
        "\n"
      ]
    },
    {
      "cell_type": "markdown",
      "metadata": {
        "id": "9Ggyfy_aReI_",
        "colab_type": "text"
      },
      "source": [
        "###Session-level features"
      ]
    },
    {
      "cell_type": "code",
      "metadata": {
        "id": "nX9M5xdwqCL9",
        "colab_type": "code",
        "colab": {}
      },
      "source": [
        "result['day']=result.iloc[:,1:2].applymap(day)"
      ],
      "execution_count": null,
      "outputs": []
    },
    {
      "cell_type": "code",
      "metadata": {
        "id": "mxVq_ZQXxqcX",
        "colab_type": "code",
        "colab": {}
      },
      "source": [
        "duration_list={}\n",
        "app_list={}\n",
        "interaction_list={}\n",
        "\n",
        "type_list=[\"E_nu\", \"E_uu\", \"I_uu\"]\n",
        "for Type in type_list:\n",
        "    duration=round(result[result['type']==Type].groupby([\"day\", 'classname']).mean()['session_duration'].mean(),2)\n",
        "    apps=round(result[result['type']==Type].groupby([\"day\", 'classname']).mean()['multi app usage'].mean(),2)\n",
        "    interactions=round(result[result['type']==Type].groupby([\"day\", 'classname']).mean()['The number of interaction'].mean(),2)\n",
        "\n",
        "    duration_list[Type]=duration\n",
        "    app_list[Type]=apps\n",
        "    interaction_list[Type]=interactions"
      ],
      "execution_count": null,
      "outputs": []
    },
    {
      "cell_type": "code",
      "metadata": {
        "id": "vYRF0A01qLCD",
        "colab_type": "code",
        "colab": {
          "base_uri": "https://localhost:8080/",
          "height": 71
        },
        "outputId": "f256ba10-2bdc-48a2-c7d2-99b27bb6d75c"
      },
      "source": [
        "print(\"P1's average duration of each session: E_nu: {}, E_uu: {}, I_uu: {}\".format(duration_list['E_nu'],duration_list['E_uu'],duration_list['I_uu']))\n",
        "print(\"P1's average the number of apps used of each session: E_nu: {}, E_uu: {}, I_uu: {}\".format(app_list['E_nu'],app_list['E_uu'],app_list['I_uu']))\n",
        "print(\"P1's average the number of interactions of each session: E_nu: {}, E_uu: {}, I_uu: {}\".format(interaction_list['E_nu'],interaction_list['E_uu'],interaction_list['I_uu']))"
      ],
      "execution_count": null,
      "outputs": [
        {
          "output_type": "stream",
          "text": [
            "P1's average duration of each session: E_nu: 531.35, E_uu: 200.2, I_uu: 290.01\n",
            "P1's average the number of apps used of each session: E_nu: 4.83, E_uu: 3.52, I_uu: 3.11\n",
            "P1's average the number of interactions of each session: E_nu: 220.35, E_uu: 127.94, I_uu: 177.43\n"
          ],
          "name": "stdout"
        }
      ]
    },
    {
      "cell_type": "markdown",
      "metadata": {
        "id": "jxNlFJeArgs5",
        "colab_type": "text"
      },
      "source": [
        "We also captured the number of sessions in a class."
      ]
    },
    {
      "cell_type": "code",
      "metadata": {
        "id": "-4qr75fYroKg",
        "colab_type": "code",
        "colab": {}
      },
      "source": [
        "type_list=[\"E_ig\", \"E_nl\",\"E_nu\", \"E_uu\", \"I_uu\"]\n",
        "number_of_sessions={}\n",
        "for Type in type_list:\n",
        "    session=round(result[result['type']==Type].groupby([\"day\", 'classname']).count()['type'].mean(),2)\n",
        "    number_of_sessions[Type]=session"
      ],
      "execution_count": null,
      "outputs": []
    },
    {
      "cell_type": "code",
      "metadata": {
        "id": "4gxms2I7sE6o",
        "colab_type": "code",
        "colab": {
          "base_uri": "https://localhost:8080/",
          "height": 35
        },
        "outputId": "11e2be6b-f26c-4dc4-bd75-28da0ee31bbe"
      },
      "source": [
        "print(\"P1's average number of each session: E_ig: {}, E_nl:{} E_nu: {}, E_uu: {}, I_uu: {}\".format(number_of_sessions['E_ig'],number_of_sessions['E_nl'],number_of_sessions['E_nu'],number_of_sessions['E_uu'],number_of_sessions['I_uu']))\n"
      ],
      "execution_count": null,
      "outputs": [
        {
          "output_type": "stream",
          "text": [
            "P1's average number of each session: E_ig: 2.48, E_nl:3.2 E_nu: 1.94, E_uu: 1.91, I_uu: 5.14\n"
          ],
          "name": "stdout"
        }
      ]
    },
    {
      "cell_type": "markdown",
      "metadata": {
        "id": "vOVcFpu8X8CL",
        "colab_type": "text"
      },
      "source": [
        "#Analysis"
      ]
    },
    {
      "cell_type": "markdown",
      "metadata": {
        "id": "gRFm_IQrkwZc",
        "colab_type": "text"
      },
      "source": [
        "## Distribution fitting"
      ]
    },
    {
      "cell_type": "markdown",
      "metadata": {
        "id": "p81uFzSRtOac",
        "colab_type": "text"
      },
      "source": [
        "We analyzed not only simple statistics but also the statistical properties of notification inter-arrival and checking distributions by fitting the interval values to a specific distribution. We used a Gaussian kernel and 1-second sized bins to fit all density functions (inter-arrival/checking interval and bulk arrival interval)."
      ]
    },
    {
      "cell_type": "markdown",
      "metadata": {
        "id": "Z7LJnu1Gk2mD",
        "colab_type": "text"
      },
      "source": [
        "### Arrival process"
      ]
    },
    {
      "cell_type": "markdown",
      "metadata": {
        "id": "8owgI3BttUBq",
        "colab_type": "text"
      },
      "source": [
        "We selected three students, whose notification interval was on the 25th percentile (M = 60.42s, SD = 184.42), median (M = 81.63s, SD = 326.67) and 75th percentile (M = 121.79s, SD = 389.31), to visualize the distributions of inter-arrival and checking intervals."
      ]
    },
    {
      "cell_type": "code",
      "metadata": {
        "id": "XSJHFKRvX3v2",
        "colab_type": "code",
        "colab": {}
      },
      "source": [
        "import numpy as np\n",
        "import seaborn as sns\n",
        "import matplotlib.pyplot as plt\n",
        "from scipy import stats\n",
        "sns.set(color_codes=True)\n",
        "sns.set_style('whitegrid')"
      ],
      "execution_count": null,
      "outputs": []
    },
    {
      "cell_type": "code",
      "metadata": {
        "id": "Sq4P-_YGuHWb",
        "colab_type": "code",
        "colab": {}
      },
      "source": [
        "ID_25='93542520'\n",
        "ID_50='53999376'\n",
        "ID_75='64912412'\n",
        "\n",
        "df_25=pd.read_csv(\"gdrive/My Drive/project/bulk/\"+ID_25+\".csv\")\n",
        "df_50=pd.read_csv(\"gdrive/My Drive/project/bulk/\"+ID_50+\".csv\")\n",
        "df_75=pd.read_csv(\"gdrive/My Drive/project/bulk/\"+ID_75+\".csv\")"
      ],
      "execution_count": null,
      "outputs": []
    },
    {
      "cell_type": "code",
      "metadata": {
        "id": "VktXFVZSui_H",
        "colab_type": "code",
        "colab": {
          "base_uri": "https://localhost:8080/",
          "height": 287
        },
        "outputId": "04738053-e515-4b17-9af0-d0ad2e6979b2"
      },
      "source": [
        "plt.xlim(0,120)\n",
        "sns.kdeplot(list(df_25.arrival_interval), kernel=\"gau\" ,gridsize=4500, label=\"P76 (25%tile)\")\n",
        "sns.kdeplot(list(df_50.arrival_interval), kernel=\"gau\" ,gridsize=4500, label=\"P31 (median)\")\n",
        "sns.kdeplot(list(df_75.arrival_interval), kernel=\"gau\" ,gridsize=4500, label=\"P51 (75%tile)\")\n",
        "plt.xlabel('Inter-arrival interval', fontsize=13)\n",
        "plt.ylabel('Density', fontsize=13)\n",
        "plt.show()"
      ],
      "execution_count": null,
      "outputs": [
        {
          "output_type": "display_data",
          "data": {
            "image/png": "[encoded data removed]",
            "text/plain": [
              "<Figure size 432x288 with 1 Axes>"
            ]
          },
          "metadata": {
            "tags": []
          }
        }
      ]
    },
    {
      "cell_type": "markdown",
      "metadata": {
        "id": "3PMAJL5AvcNE",
        "colab_type": "text"
      },
      "source": [
        "We conducted a goodness of fit test to investigate the distribution of student arrival intervals. However, no statistical validity was found for 81 students.\n"
      ]
    },
    {
      "cell_type": "code",
      "metadata": {
        "id": "x3aoPl8KvDzO",
        "colab_type": "code",
        "colab": {}
      },
      "source": [
        "from sklearn.preprocessing import StandardScaler\n",
        "import scipy\n",
        "import math"
      ],
      "execution_count": null,
      "outputs": []
    },
    {
      "cell_type": "code",
      "metadata": {
        "id": "At7S9vmrvMl0",
        "colab_type": "code",
        "colab": {}
      },
      "source": [
        "y=np.array(df_25.arrival_interval, dtype='float64')\n",
        "x = np.arange(len(y))\n",
        "size=len(y)\n",
        "sc=StandardScaler() \n",
        "yy = y.reshape (-1,1)\n",
        "sc.fit(yy)\n",
        "y_std =sc.transform(yy)\n",
        "y_std = y_std.flatten()\n",
        "y_std\n",
        "del yy"
      ],
      "execution_count": null,
      "outputs": []
    },
    {
      "cell_type": "code",
      "metadata": {
        "id": "E4NOGZ45vTYO",
        "colab_type": "code",
        "colab": {
          "base_uri": "https://localhost:8080/",
          "height": 305
        },
        "outputId": "8101f228-2166-4e7c-9ab7-58db2d19124f"
      },
      "source": [
        "dist_names = ['beta',\n",
        "              'loggamma',\n",
        "              'logistic',\n",
        "              'expon',\n",
        "              'truncexpon',\n",
        "              'lognorm',\n",
        "              'norm',\n",
        "              'pearson3',\n",
        "              'triang',\n",
        "              'uniform',\n",
        "              'weibull_min', \n",
        "              'weibull_max']\n",
        "\n",
        "# Set up empty lists to stroe results\n",
        "chi_square = []\n",
        "p_values = []\n",
        "\n",
        "# Set up 50 bins for chi-square test\n",
        "# Observed data will be approximately evenly distrubuted aross all bins\n",
        "percentile_bins = np.linspace(0,100,51)\n",
        "percentile_cutoffs = np.percentile(y_std, percentile_bins)\n",
        "observed_frequency, bins = (np.histogram(y_std, bins=sorted(percentile_cutoffs)))\n",
        "cum_observed_frequency = np.cumsum(observed_frequency)\n",
        "\n",
        "# Loop through candidate distributions\n",
        "\n",
        "for distribution in dist_names:\n",
        "    # Set up distribution and get fitted distribution parameters\n",
        "    dist = getattr(scipy.stats, distribution)\n",
        "    param = dist.fit(y_std)\n",
        "    \n",
        "    # Obtain the KS test P statistic, round it to 5 decimal places\n",
        "    p = scipy.stats.kstest(y_std, distribution, args=param)[1]\n",
        "    p = np.around(p, 5)\n",
        "    p_values.append(p)    \n",
        "    \n",
        "    # Get expected counts in percentile bins\n",
        "    # This is based on a 'cumulative distrubution function' (cdf)\n",
        "    cdf_fitted = dist.cdf(percentile_cutoffs, *param[:-2], loc=param[-2], \n",
        "                          scale=param[-1])\n",
        "    expected_frequency = []\n",
        "    for bin in range(len(percentile_bins)-1):\n",
        "        expected_cdf_area = cdf_fitted[bin+1] - cdf_fitted[bin]\n",
        "        expected_frequency.append(expected_cdf_area)\n",
        "    \n",
        "    # calculate chi-squared\n",
        "    expected_frequency = np.array(expected_frequency) * size\n",
        "    cum_expected_frequency = np.cumsum(expected_frequency)\n",
        "    ss = sum (((cum_expected_frequency - cum_observed_frequency) ** 2) / cum_observed_frequency)\n",
        "    chi_square.append(ss)\n",
        "        \n",
        "# Collate results and sort by goodness of fit (best at top)\n",
        "\n",
        "results = pd.DataFrame()\n",
        "results['Distribution'] = dist_names\n",
        "results['chi_square'] = chi_square\n",
        "results['p_value'] = p_values\n",
        "results.sort_values(['chi_square'], inplace=True)\n",
        "    \n",
        "# Report results\n",
        "\n",
        "print ('\\nRemoval distributions sorted by goodness of fit:')\n",
        "print ('----------------------------------------')\n",
        "print (results)"
      ],
      "execution_count": null,
      "outputs": [
        {
          "output_type": "stream",
          "text": [
            "\n",
            "Removal distributions sorted by goodness of fit:\n",
            "----------------------------------------\n",
            "   Distribution    chi_square  p_value\n",
            "3         expon  4.298580e+04      0.0\n",
            "11  weibull_max  5.410760e+04      0.0\n",
            "2      logistic  6.099691e+04      0.0\n",
            "6          norm  8.002143e+04      0.0\n",
            "1      loggamma  8.219227e+04      0.0\n",
            "8        triang  1.023700e+05      0.0\n",
            "4    truncexpon  1.042202e+05      0.0\n",
            "9       uniform  1.059988e+05      0.0\n",
            "5       lognorm  3.814128e+05      0.0\n",
            "0          beta  1.362530e+06      0.0\n",
            "10  weibull_min  1.367084e+06      0.0\n",
            "7      pearson3  1.410752e+06      0.0\n"
          ],
          "name": "stdout"
        }
      ]
    },
    {
      "cell_type": "markdown",
      "metadata": {
        "id": "y6lg4hUwv55U",
        "colab_type": "text"
      },
      "source": [
        "###Bulk arrival process"
      ]
    },
    {
      "cell_type": "markdown",
      "metadata": {
        "id": "IGXJzWrgv9Ek",
        "colab_type": "text"
      },
      "source": [
        "we obsered stdents's inter-arrival intervals were concentrated within few seconds. and we assumed that these arrival patterns are unique characteristics of MIM; i.e., text typing in MIM requires some time although inter-arrivals can be short. MIM users tend to exchange messages in units of sentences rather than long sentences at once."
      ]
    },
    {
      "cell_type": "code",
      "metadata": {
        "id": "eXaGaIyPxsKq",
        "colab_type": "code",
        "colab": {}
      },
      "source": [
        "path='gdrive/My Drive/project/bulk'\n",
        "IDlist=os.listdir(path)\n",
        "bulk=[]\n",
        "bulk_mean=[]\n",
        "bulk_median=[]\n",
        "\n",
        "\n",
        "for ID in IDlist:\n",
        "\n",
        "    df_bulk=pd.read_csv(\"gdrive/My Drive/project/bulk/\"+ID)\n",
        "    bulk2=[]\n",
        "\n",
        "    for i in range(1,len(df_bulk)):\n",
        "        if df_bulk[' title'][i]==df_bulk[' title'][i-1] and df_bulk[' title'][i]!=' null':\n",
        "            bulk.append(df_bulk['arrival_interval'][i])\n",
        "            bulk2.append(df_bulk['arrival_interval'][i])\n",
        "    bulk_mean.append(np.mean(bulk2))\n",
        "    bulk_median.append(np.median(bulk2))"
      ],
      "execution_count": null,
      "outputs": []
    },
    {
      "cell_type": "code",
      "metadata": {
        "id": "reFbsdZizXHi",
        "colab_type": "code",
        "colab": {
          "base_uri": "https://localhost:8080/",
          "height": 285
        },
        "outputId": "76a7fd1d-0a3a-4a56-df1d-b28017883625"
      },
      "source": [
        "plt.xlim(0,60)\n",
        "sns.kdeplot(bulk, kernel=\"gau\" ,gridsize=4500)\n",
        "plt.xlabel('Inter-arrival interval')\n",
        "plt.ylabel('Density')\n",
        "plt.show()"
      ],
      "execution_count": null,
      "outputs": [
        {
          "output_type": "display_data",
          "data": {
            "image/png": "[encoded data removed]",
            "text/plain": [
              "<Figure size 432x288 with 1 Axes>"
            ]
          },
          "metadata": {
            "tags": []
          }
        }
      ]
    },
    {
      "cell_type": "code",
      "metadata": {
        "id": "8R-3PD63zOwF",
        "colab_type": "code",
        "colab": {
          "base_uri": "https://localhost:8080/",
          "height": 35
        },
        "outputId": "49321d61-f002-48b5-9fee-5c7f6366cbe9"
      },
      "source": [
        "# percentage of evnets occured within 10 seconds\n",
        "len([x for x in bulk if x<=10])/len(bulk)*100"
      ],
      "execution_count": null,
      "outputs": [
        {
          "output_type": "execute_result",
          "data": {
            "text/plain": [
              "71.93683193086196"
            ]
          },
          "metadata": {
            "tags": []
          },
          "execution_count": 135
        }
      ]
    },
    {
      "cell_type": "markdown",
      "metadata": {
        "id": "rWxULBWMzmsX",
        "colab_type": "text"
      },
      "source": [
        "71.93% of inter-arrival intervals were concentrated within 10 seconds. This bulk arrival pattern was partly due to the MIM's characteristic of exchanging short sentences. For this reason, we treated the set of arrivals from the same sender within a 10-second window as one bulk arrival"
      ]
    },
    {
      "cell_type": "code",
      "metadata": {
        "id": "ydczILoQz8Li",
        "colab_type": "code",
        "colab": {}
      },
      "source": [
        "# consider bulk arrival\n",
        "#\n",
        "df_25['bulk']=None\n",
        "for i in range(1,len(df_25)):\n",
        "    if df_25[' title'][i]==df_25[' title'][i-1] and df_25[' title'][i]!=' null':\n",
        "        if df_25['arrival_interval'][i]<=10:\n",
        "            df_25['bulk'][i]='y'\n",
        "df_25b=df_25[df_25['bulk']!=\"y\"]\n",
        "\n",
        "df_50['bulk']=None\n",
        "for i in range(1,len(df_50)):\n",
        "    if df_50[' title'][i]==df_50[' title'][i-1] and df_50[' title'][i]!=' null':\n",
        "        if df_50['arrival_interval'][i]<=10:\n",
        "            df_50['bulk'][i]='y'\n",
        "df_50b=df_50[df_50['bulk']!=\"y\"]\n",
        "\n",
        "df_75['bulk']=None\n",
        "for i in range(1,len(df_75)):\n",
        "    if df_75[' title'][i]==df_75[' title'][i-1] and df_75[' title'][i]!=' null':\n",
        "        if df_75['arrival_interval'][i]<=10:\n",
        "            df_75['bulk'][i]='y'\n",
        "df_75b=df_75[df_75['bulk']!=\"y\"]"
      ],
      "execution_count": null,
      "outputs": []
    },
    {
      "cell_type": "code",
      "metadata": {
        "id": "UHKTdstf0HQ0",
        "colab_type": "code",
        "colab": {
          "base_uri": "https://localhost:8080/",
          "height": 285
        },
        "outputId": "4af9d1a4-adcd-42fe-fd36-9127e27584bb"
      },
      "source": [
        "plt.xlim(0,120)\n",
        "sns.kdeplot(list(df_25b.arrival_interval), kernel=\"gau\" ,gridsize=4500, label=\"P76 (25%tile)\")\n",
        "sns.kdeplot(list(df_50b.arrival_interval), kernel=\"gau\" ,gridsize=4500, label=\"P31 (median)\")\n",
        "sns.kdeplot(list(df_75b.arrival_interval), kernel=\"gau\" ,gridsize=4500, label=\"P51 (75%tile)\")\n",
        "plt.xlabel('Inter-arrival interval', fontsize=13)\n",
        "plt.ylabel('Density', fontsize=13)\n",
        "plt.show()"
      ],
      "execution_count": null,
      "outputs": [
        {
          "output_type": "display_data",
          "data": {
            "image/png": "[encoded data removed]",
            "text/plain": [
              "<Figure size 432x288 with 1 Axes>"
            ]
          },
          "metadata": {
            "tags": []
          }
        }
      ]
    },
    {
      "cell_type": "markdown",
      "metadata": {
        "id": "5DTA5s7uzdQ0",
        "colab_type": "text"
      },
      "source": [
        "we observed that some of the extremely left-skewed data were now removed, and the density function had a heavy tail. The result of goodness of fit showed that 59 students (72.83\\%) followed log-normal distributions"
      ]
    },
    {
      "cell_type": "markdown",
      "metadata": {
        "id": "sbXOc2Wck5MO",
        "colab_type": "text"
      },
      "source": [
        "###Checking process"
      ]
    },
    {
      "cell_type": "markdown",
      "metadata": {
        "id": "b3kbUFqbTzs8",
        "colab_type": "text"
      },
      "source": [
        "In a similar way, we captured inter-checking intervals and the number of checking events, and we selected three students, whose notification checking intervals was 25th percentile (M = 208.60s, SD = 455.69), median (M = 421.98s, SD = 690.82) and 75th percentile (M = 594.76, SD = 932.01) to consider overall students' checking process."
      ]
    },
    {
      "cell_type": "code",
      "metadata": {
        "id": "GjfOg25jTx43",
        "colab_type": "code",
        "colab": {}
      },
      "source": [
        "ID_25R='50116575'\n",
        "ID_50R='89242282'\n",
        "ID_75R='65044529'\n",
        "df_25R=pd.read_csv(\"gdrive/My Drive/project/checking/\"+ID_25R+\".csv\")\n",
        "df_50R=pd.read_csv(\"gdrive/My Drive/project/checking/\"+ID_50R+\".csv\")\n",
        "df_75R=pd.read_csv(\"gdrive/My Drive/project/checking/\"+ID_75R+\".csv\")"
      ],
      "execution_count": null,
      "outputs": []
    },
    {
      "cell_type": "code",
      "metadata": {
        "id": "iY2vZCLgZdHG",
        "colab_type": "code",
        "colab": {
          "base_uri": "https://localhost:8080/",
          "height": 204
        },
        "outputId": "09cc68be-6296-4395-926a-90f57bbcc88f"
      },
      "source": [
        "df_25R.head()"
      ],
      "execution_count": null,
      "outputs": [
        {
          "output_type": "execute_result",
          "data": {
            "text/html": [
              "<div>\n",
              "<style scoped>\n",
              "    .dataframe tbody tr th:only-of-type {\n",
              "        vertical-align: middle;\n",
              "    }\n",
              "\n",
              "    .dataframe tbody tr th {\n",
              "        vertical-align: top;\n",
              "    }\n",
              "\n",
              "    .dataframe thead th {\n",
              "        text-align: right;\n",
              "    }\n",
              "</style>\n",
              "<table border=\"1\" class=\"dataframe\">\n",
              "  <thead>\n",
              "    <tr style=\"text-align: right;\">\n",
              "      <th></th>\n",
              "      <th>classname</th>\n",
              "      <th>timestamp</th>\n",
              "      <th>type</th>\n",
              "      <th>package</th>\n",
              "      <th>title</th>\n",
              "      <th>text</th>\n",
              "      <th>subtext</th>\n",
              "      <th>start_time</th>\n",
              "      <th>Second</th>\n",
              "      <th>day</th>\n",
              "      <th>arrival_interval</th>\n",
              "    </tr>\n",
              "  </thead>\n",
              "  <tbody>\n",
              "    <tr>\n",
              "      <th>0</th>\n",
              "      <td>선형대수학개론-A&amp;B</td>\n",
              "      <td>2017.09.11_13.04.20</td>\n",
              "      <td>POSTED</td>\n",
              "      <td>com.kakao.talk</td>\n",
              "      <td>null</td>\n",
              "      <td>null</td>\n",
              "      <td>2개의 안 읽은 메시지</td>\n",
              "      <td>46800</td>\n",
              "      <td>47060</td>\n",
              "      <td>2017.09.11</td>\n",
              "      <td>260</td>\n",
              "    </tr>\n",
              "    <tr>\n",
              "      <th>1</th>\n",
              "      <td>선형대수학개론-A&amp;B</td>\n",
              "      <td>2017.09.11_13.05.18</td>\n",
              "      <td>POSTED</td>\n",
              "      <td>com.kakao.talk</td>\n",
              "      <td>정은</td>\n",
              "      <td>새로운 메시지가 있습니다.</td>\n",
              "      <td>null</td>\n",
              "      <td>46800</td>\n",
              "      <td>47118</td>\n",
              "      <td>2017.09.11</td>\n",
              "      <td>58</td>\n",
              "    </tr>\n",
              "    <tr>\n",
              "      <th>2</th>\n",
              "      <td>선형대수학개론-A&amp;B</td>\n",
              "      <td>2017.09.11_13.05.31</td>\n",
              "      <td>POSTED</td>\n",
              "      <td>com.kakao.talk</td>\n",
              "      <td>정은</td>\n",
              "      <td>새로운 메시지가 있습니다.</td>\n",
              "      <td>null</td>\n",
              "      <td>46800</td>\n",
              "      <td>47131</td>\n",
              "      <td>2017.09.11</td>\n",
              "      <td>13</td>\n",
              "    </tr>\n",
              "    <tr>\n",
              "      <th>3</th>\n",
              "      <td>선형대수학개론-A&amp;B</td>\n",
              "      <td>2017.09.11_13.07.19</td>\n",
              "      <td>POSTED</td>\n",
              "      <td>com.kakao.talk</td>\n",
              "      <td>정은</td>\n",
              "      <td>새로운 메시지가 있습니다.</td>\n",
              "      <td>null</td>\n",
              "      <td>46800</td>\n",
              "      <td>47239</td>\n",
              "      <td>2017.09.11</td>\n",
              "      <td>108</td>\n",
              "    </tr>\n",
              "    <tr>\n",
              "      <th>4</th>\n",
              "      <td>선형대수학개론-A&amp;B</td>\n",
              "      <td>2017.09.11_13.12.33</td>\n",
              "      <td>POSTED</td>\n",
              "      <td>com.kakao.talk</td>\n",
              "      <td>정은</td>\n",
              "      <td>새로운 메시지가 있습니다.</td>\n",
              "      <td>null</td>\n",
              "      <td>46800</td>\n",
              "      <td>47553</td>\n",
              "      <td>2017.09.11</td>\n",
              "      <td>314</td>\n",
              "    </tr>\n",
              "  </tbody>\n",
              "</table>\n",
              "</div>"
            ],
            "text/plain": [
              "     classname             timestamp  ...          day arrival_interval\n",
              "0  선형대수학개론-A&B   2017.09.11_13.04.20  ...   2017.09.11              260\n",
              "1  선형대수학개론-A&B   2017.09.11_13.05.18  ...   2017.09.11               58\n",
              "2  선형대수학개론-A&B   2017.09.11_13.05.31  ...   2017.09.11               13\n",
              "3  선형대수학개론-A&B   2017.09.11_13.07.19  ...   2017.09.11              108\n",
              "4  선형대수학개론-A&B   2017.09.11_13.12.33  ...   2017.09.11              314\n",
              "\n",
              "[5 rows x 11 columns]"
            ]
          },
          "metadata": {
            "tags": []
          },
          "execution_count": 140
        }
      ]
    },
    {
      "cell_type": "code",
      "metadata": {
        "id": "rprBSiyAZTcC",
        "colab_type": "code",
        "colab": {
          "base_uri": "https://localhost:8080/",
          "height": 285
        },
        "outputId": "d99d6aa2-6db9-47f2-869d-f340b2bd7e2e"
      },
      "source": [
        "plt.xlim(0,1200)\n",
        "sns.kdeplot(list(df_25R.removal_interval), kernel=\"gau\" ,gridsize=4500, label=\"P33 (25%tile)\")\n",
        "sns.kdeplot(list(df_50R.removal_interval), kernel=\"gau\" ,gridsize=4500, label=\"P09 (median)\")\n",
        "sns.kdeplot(list(df_75R.removal_interval), kernel=\"gau\" ,gridsize=4500, label=\"P53 (75%tile)\")\n",
        "plt.xlabel('Inter-checking interval', fontsize=13)\n",
        "plt.ylabel('Density', fontsize=13)\n",
        "plt.show()"
      ],
      "execution_count": null,
      "outputs": [
        {
          "output_type": "display_data",
          "data": {
            "image/png": "[encoded data removed]",
            "text/plain": [
              "<Figure size 432x288 with 1 Axes>"
            ]
          },
          "metadata": {
            "tags": []
          }
        }
      ]
    },
    {
      "cell_type": "code",
      "metadata": {
        "id": "jAsMB40PZmf0",
        "colab_type": "code",
        "colab": {
          "base_uri": "https://localhost:8080/",
          "height": 285
        },
        "outputId": "ff7796cc-c1d6-4ae2-c593-943bdd2a11c1"
      },
      "source": [
        "x1=df_25R.removal_interval.astype('float')\n",
        "x2=df_50R.removal_interval.astype('float')\n",
        "x3=df_75R.removal_interval.astype('float')\n",
        "# ploting after log-transformation\n",
        "plt.xlim(0,10)\n",
        "sns.kdeplot(list(np.log(x1+1)), kernel=\"gau\" ,gridsize=4500, label=\"P33 (25%tile)\")\n",
        "sns.kdeplot(list(np.log(x2+1)), kernel=\"gau\" ,gridsize=4500, label=\"P09 (median)\")\n",
        "sns.kdeplot(list(np.log(x3+1)), kernel=\"gau\" ,gridsize=4500, label=\"P53 (75%tile)\")\n",
        "plt.xlabel('log(Inter-checking interval)', fontsize=13)\n",
        "plt.ylabel('Density', fontsize=13)\n",
        "plt.show()"
      ],
      "execution_count": null,
      "outputs": [
        {
          "output_type": "display_data",
          "data": {
            "image/png": "[encoded data removed]",
            "text/plain": [
              "<Figure size 432x288 with 1 Axes>"
            ]
          },
          "metadata": {
            "tags": []
          }
        }
      ]
    },
    {
      "cell_type": "markdown",
      "metadata": {
        "id": "rZaKjmY70W6p",
        "colab_type": "text"
      },
      "source": [
        "We found that 26 students (32.10\\%) followed log-normal distributions."
      ]
    },
    {
      "cell_type": "markdown",
      "metadata": {
        "id": "TyAbk7P5k9Rl",
        "colab_type": "text"
      },
      "source": [
        "## Correlation analysis"
      ]
    },
    {
      "cell_type": "code",
      "metadata": {
        "id": "IBkw7hYNhM3u",
        "colab_type": "code",
        "colab": {
          "base_uri": "https://localhost:8080/",
          "height": 224
        },
        "outputId": "05f36023-8f15-4e3e-a0ab-a6811c65d995"
      },
      "source": [
        "# For analysis, we make data frame  that combines the features extracted above and students' information.\n",
        "df_overall=pd.read_csv(\"gdrive/My Drive/project/csv_file/overall.csv\")\n",
        "df_overall.head()"
      ],
      "execution_count": null,
      "outputs": [
        {
          "output_type": "execute_result",
          "data": {
            "text/html": [
              "<div>\n",
              "<style scoped>\n",
              "    .dataframe tbody tr th:only-of-type {\n",
              "        vertical-align: middle;\n",
              "    }\n",
              "\n",
              "    .dataframe tbody tr th {\n",
              "        vertical-align: top;\n",
              "    }\n",
              "\n",
              "    .dataframe thead th {\n",
              "        text-align: right;\n",
              "    }\n",
              "</style>\n",
              "<table border=\"1\" class=\"dataframe\">\n",
              "  <thead>\n",
              "    <tr style=\"text-align: right;\">\n",
              "      <th></th>\n",
              "      <th>ID</th>\n",
              "      <th>overall_usgae</th>\n",
              "      <th>average_usgae</th>\n",
              "      <th>overall_app</th>\n",
              "      <th>average_app</th>\n",
              "      <th>overall_interaction</th>\n",
              "      <th>average_interaction</th>\n",
              "      <th>E_ig_per_class</th>\n",
              "      <th>E_nl_per_class</th>\n",
              "      <th>E_nu_per_class</th>\n",
              "      <th>E_uu_per_class</th>\n",
              "      <th>I_uu_per_class</th>\n",
              "      <th>E_nu_duration</th>\n",
              "      <th>E_uu_duration</th>\n",
              "      <th>I_uu_duration</th>\n",
              "      <th>E_nu_app</th>\n",
              "      <th>E_uu_app</th>\n",
              "      <th>I_uu_app</th>\n",
              "      <th>E_nu_interaction</th>\n",
              "      <th>E_uu_interaction</th>\n",
              "      <th>I_uu_interaction</th>\n",
              "      <th>E_ig_ratio</th>\n",
              "      <th>E_nl_ratio</th>\n",
              "      <th>E_nu_ratio</th>\n",
              "      <th>E_uu_ratio</th>\n",
              "      <th>inter_arrival_interval</th>\n",
              "      <th>inter_checking_interval</th>\n",
              "      <th>number_of_arrivals</th>\n",
              "      <th>number_of_checkings</th>\n",
              "      <th>Addiction</th>\n",
              "      <th>Gender</th>\n",
              "      <th>GPA</th>\n",
              "    </tr>\n",
              "  </thead>\n",
              "  <tbody>\n",
              "    <tr>\n",
              "      <th>0</th>\n",
              "      <td>20946596</td>\n",
              "      <td>1589.973420</td>\n",
              "      <td>255.836708</td>\n",
              "      <td>19.938272</td>\n",
              "      <td>3.197640</td>\n",
              "      <td>913.802469</td>\n",
              "      <td>156.117246</td>\n",
              "      <td>2.35</td>\n",
              "      <td>2.83</td>\n",
              "      <td>1.96</td>\n",
              "      <td>1.86</td>\n",
              "      <td>4.99</td>\n",
              "      <td>351.45</td>\n",
              "      <td>199.10</td>\n",
              "      <td>242.55</td>\n",
              "      <td>4.34</td>\n",
              "      <td>3.64</td>\n",
              "      <td>2.79</td>\n",
              "      <td>171.91</td>\n",
              "      <td>133.24</td>\n",
              "      <td>153.40</td>\n",
              "      <td>0.39</td>\n",
              "      <td>0.44</td>\n",
              "      <td>0.42</td>\n",
              "      <td>0.26</td>\n",
              "      <td>51.07</td>\n",
              "      <td>352.52</td>\n",
              "      <td>67.77</td>\n",
              "      <td>24.06</td>\n",
              "      <td>37.50</td>\n",
              "      <td>M</td>\n",
              "      <td>2.38</td>\n",
              "    </tr>\n",
              "    <tr>\n",
              "      <th>1</th>\n",
              "      <td>22536401</td>\n",
              "      <td>420.200857</td>\n",
              "      <td>96.536672</td>\n",
              "      <td>3.471429</td>\n",
              "      <td>0.791415</td>\n",
              "      <td>150.285714</td>\n",
              "      <td>36.460449</td>\n",
              "      <td>6.35</td>\n",
              "      <td>2.77</td>\n",
              "      <td>2.13</td>\n",
              "      <td>1.06</td>\n",
              "      <td>2.84</td>\n",
              "      <td>111.90</td>\n",
              "      <td>203.92</td>\n",
              "      <td>77.82</td>\n",
              "      <td>1.63</td>\n",
              "      <td>1.44</td>\n",
              "      <td>0.31</td>\n",
              "      <td>56.34</td>\n",
              "      <td>87.47</td>\n",
              "      <td>21.42</td>\n",
              "      <td>0.59</td>\n",
              "      <td>0.34</td>\n",
              "      <td>0.26</td>\n",
              "      <td>0.12</td>\n",
              "      <td>48.29</td>\n",
              "      <td>941.59</td>\n",
              "      <td>82.33</td>\n",
              "      <td>38.20</td>\n",
              "      <td>22.25</td>\n",
              "      <td>M</td>\n",
              "      <td>3.94</td>\n",
              "    </tr>\n",
              "    <tr>\n",
              "      <th>2</th>\n",
              "      <td>22682373</td>\n",
              "      <td>1305.484325</td>\n",
              "      <td>103.591059</td>\n",
              "      <td>21.950000</td>\n",
              "      <td>1.480982</td>\n",
              "      <td>1048.425000</td>\n",
              "      <td>76.108671</td>\n",
              "      <td>15.54</td>\n",
              "      <td>1.86</td>\n",
              "      <td>4.23</td>\n",
              "      <td>2.47</td>\n",
              "      <td>10.20</td>\n",
              "      <td>75.56</td>\n",
              "      <td>68.66</td>\n",
              "      <td>98.78</td>\n",
              "      <td>1.69</td>\n",
              "      <td>1.58</td>\n",
              "      <td>1.23</td>\n",
              "      <td>68.94</td>\n",
              "      <td>62.83</td>\n",
              "      <td>75.73</td>\n",
              "      <td>0.64</td>\n",
              "      <td>0.09</td>\n",
              "      <td>0.22</td>\n",
              "      <td>0.15</td>\n",
              "      <td>88.75</td>\n",
              "      <td>331.06</td>\n",
              "      <td>43.36</td>\n",
              "      <td>27.71</td>\n",
              "      <td>37.50</td>\n",
              "      <td>M</td>\n",
              "      <td>3.67</td>\n",
              "    </tr>\n",
              "    <tr>\n",
              "      <th>3</th>\n",
              "      <td>22785668</td>\n",
              "      <td>829.403284</td>\n",
              "      <td>105.144692</td>\n",
              "      <td>14.790123</td>\n",
              "      <td>1.588203</td>\n",
              "      <td>529.444444</td>\n",
              "      <td>66.651395</td>\n",
              "      <td>2.78</td>\n",
              "      <td>3.78</td>\n",
              "      <td>3.17</td>\n",
              "      <td>2.48</td>\n",
              "      <td>5.34</td>\n",
              "      <td>161.66</td>\n",
              "      <td>84.90</td>\n",
              "      <td>80.56</td>\n",
              "      <td>2.43</td>\n",
              "      <td>1.85</td>\n",
              "      <td>1.09</td>\n",
              "      <td>74.76</td>\n",
              "      <td>79.49</td>\n",
              "      <td>51.51</td>\n",
              "      <td>0.34</td>\n",
              "      <td>0.39</td>\n",
              "      <td>0.36</td>\n",
              "      <td>0.26</td>\n",
              "      <td>83.03</td>\n",
              "      <td>271.58</td>\n",
              "      <td>46.62</td>\n",
              "      <td>25.67</td>\n",
              "      <td>37.25</td>\n",
              "      <td>M</td>\n",
              "      <td>3.03</td>\n",
              "    </tr>\n",
              "    <tr>\n",
              "      <th>4</th>\n",
              "      <td>22955826</td>\n",
              "      <td>1006.872029</td>\n",
              "      <td>122.450609</td>\n",
              "      <td>7.571429</td>\n",
              "      <td>0.761375</td>\n",
              "      <td>450.914286</td>\n",
              "      <td>56.511730</td>\n",
              "      <td>6.91</td>\n",
              "      <td>2.00</td>\n",
              "      <td>1.58</td>\n",
              "      <td>1.00</td>\n",
              "      <td>13.06</td>\n",
              "      <td>165.49</td>\n",
              "      <td>233.67</td>\n",
              "      <td>86.87</td>\n",
              "      <td>1.72</td>\n",
              "      <td>1.33</td>\n",
              "      <td>0.56</td>\n",
              "      <td>98.83</td>\n",
              "      <td>157.00</td>\n",
              "      <td>30.82</td>\n",
              "      <td>0.83</td>\n",
              "      <td>0.30</td>\n",
              "      <td>0.45</td>\n",
              "      <td>0.22</td>\n",
              "      <td>63.35</td>\n",
              "      <td>245.77</td>\n",
              "      <td>67.31</td>\n",
              "      <td>36.50</td>\n",
              "      <td>20.75</td>\n",
              "      <td>F</td>\n",
              "      <td>3.10</td>\n",
              "    </tr>\n",
              "  </tbody>\n",
              "</table>\n",
              "</div>"
            ],
            "text/plain": [
              "         ID  overall_usgae  average_usgae  ...  Addiction  Gender   GPA\n",
              "0  20946596    1589.973420     255.836708  ...      37.50       M  2.38\n",
              "1  22536401     420.200857      96.536672  ...      22.25       M  3.94\n",
              "2  22682373    1305.484325     103.591059  ...      37.50       M  3.67\n",
              "3  22785668     829.403284     105.144692  ...      37.25       M  3.03\n",
              "4  22955826    1006.872029     122.450609  ...      20.75       F  3.10\n",
              "\n",
              "[5 rows x 32 columns]"
            ]
          },
          "metadata": {
            "tags": []
          },
          "execution_count": 165
        }
      ]
    },
    {
      "cell_type": "markdown",
      "metadata": {
        "id": "EoYtowevaGwj",
        "colab_type": "text"
      },
      "source": [
        "### Relationship between inter-arrival interval and inter-checking interval \n"
      ]
    },
    {
      "cell_type": "code",
      "metadata": {
        "id": "5XO9hdUZg2HD",
        "colab_type": "code",
        "colab": {
          "base_uri": "https://localhost:8080/",
          "height": 173
        },
        "outputId": "fadef987-c7e0-4a2a-fe83-5a0432748a42"
      },
      "source": [
        "df_overall.iloc[:,25:29].corr()"
      ],
      "execution_count": null,
      "outputs": [
        {
          "output_type": "execute_result",
          "data": {
            "text/html": [
              "<div>\n",
              "<style scoped>\n",
              "    .dataframe tbody tr th:only-of-type {\n",
              "        vertical-align: middle;\n",
              "    }\n",
              "\n",
              "    .dataframe tbody tr th {\n",
              "        vertical-align: top;\n",
              "    }\n",
              "\n",
              "    .dataframe thead th {\n",
              "        text-align: right;\n",
              "    }\n",
              "</style>\n",
              "<table border=\"1\" class=\"dataframe\">\n",
              "  <thead>\n",
              "    <tr style=\"text-align: right;\">\n",
              "      <th></th>\n",
              "      <th>inter_arrival_interval</th>\n",
              "      <th>inter_checking_interval</th>\n",
              "      <th>number_of_arrivals</th>\n",
              "      <th>number_of_checkings</th>\n",
              "    </tr>\n",
              "  </thead>\n",
              "  <tbody>\n",
              "    <tr>\n",
              "      <th>inter_arrival_interval</th>\n",
              "      <td>1.000000</td>\n",
              "      <td>0.481802</td>\n",
              "      <td>-0.575460</td>\n",
              "      <td>-0.363092</td>\n",
              "    </tr>\n",
              "    <tr>\n",
              "      <th>inter_checking_interval</th>\n",
              "      <td>0.481802</td>\n",
              "      <td>1.000000</td>\n",
              "      <td>-0.339594</td>\n",
              "      <td>-0.433041</td>\n",
              "    </tr>\n",
              "    <tr>\n",
              "      <th>number_of_arrivals</th>\n",
              "      <td>-0.575460</td>\n",
              "      <td>-0.339594</td>\n",
              "      <td>1.000000</td>\n",
              "      <td>0.427983</td>\n",
              "    </tr>\n",
              "    <tr>\n",
              "      <th>number_of_checkings</th>\n",
              "      <td>-0.363092</td>\n",
              "      <td>-0.433041</td>\n",
              "      <td>0.427983</td>\n",
              "      <td>1.000000</td>\n",
              "    </tr>\n",
              "  </tbody>\n",
              "</table>\n",
              "</div>"
            ],
            "text/plain": [
              "                         inter_arrival_interval  ...  number_of_checkings\n",
              "inter_arrival_interval                 1.000000  ...            -0.363092\n",
              "inter_checking_interval                0.481802  ...            -0.433041\n",
              "number_of_arrivals                    -0.575460  ...             0.427983\n",
              "number_of_checkings                   -0.363092  ...             1.000000\n",
              "\n",
              "[4 rows x 4 columns]"
            ]
          },
          "metadata": {
            "tags": []
          },
          "execution_count": 166
        }
      ]
    },
    {
      "cell_type": "markdown",
      "metadata": {
        "id": "WXuKqS87lbNj",
        "colab_type": "text"
      },
      "source": [
        "In summary, the relationship between inter-arrival interval and inter-checking interval is as follows.\n",
        "![correlation](https://drive.google.com/uc?id=101WBgwzKNvA0fZDuxYVaxxpTwO1C1yQ_)\n",
        "\n",
        "\n"
      ]
    },
    {
      "cell_type": "markdown",
      "metadata": {
        "id": "Qt8AgI7rjtRv",
        "colab_type": "text"
      },
      "source": [
        "###Relationship between notification handling behavior and checking process & smartphone usage"
      ]
    },
    {
      "cell_type": "code",
      "metadata": {
        "id": "PEbbumy-k1Ul",
        "colab_type": "code",
        "colab": {
          "base_uri": "https://localhost:8080/",
          "height": 441
        },
        "outputId": "ca75786c-b842-4f8e-d814-6dd40dc8730b"
      },
      "source": [
        "df_overall.iloc[:,[1,2,3,4,5,6,21,22,23,24,26,28]].corr()"
      ],
      "execution_count": null,
      "outputs": [
        {
          "output_type": "execute_result",
          "data": {
            "text/html": [
              "<div>\n",
              "<style scoped>\n",
              "    .dataframe tbody tr th:only-of-type {\n",
              "        vertical-align: middle;\n",
              "    }\n",
              "\n",
              "    .dataframe tbody tr th {\n",
              "        vertical-align: top;\n",
              "    }\n",
              "\n",
              "    .dataframe thead th {\n",
              "        text-align: right;\n",
              "    }\n",
              "</style>\n",
              "<table border=\"1\" class=\"dataframe\">\n",
              "  <thead>\n",
              "    <tr style=\"text-align: right;\">\n",
              "      <th></th>\n",
              "      <th>overall_usgae</th>\n",
              "      <th>average_usgae</th>\n",
              "      <th>overall_app</th>\n",
              "      <th>average_app</th>\n",
              "      <th>overall_interaction</th>\n",
              "      <th>average_interaction</th>\n",
              "      <th>E_ig_ratio</th>\n",
              "      <th>E_nl_ratio</th>\n",
              "      <th>E_nu_ratio</th>\n",
              "      <th>E_uu_ratio</th>\n",
              "      <th>inter_checking_interval</th>\n",
              "      <th>number_of_checkings</th>\n",
              "    </tr>\n",
              "  </thead>\n",
              "  <tbody>\n",
              "    <tr>\n",
              "      <th>overall_usgae</th>\n",
              "      <td>1.000000</td>\n",
              "      <td>0.449981</td>\n",
              "      <td>0.737162</td>\n",
              "      <td>0.436733</td>\n",
              "      <td>0.736279</td>\n",
              "      <td>0.429769</td>\n",
              "      <td>-0.381158</td>\n",
              "      <td>-0.102967</td>\n",
              "      <td>-0.095738</td>\n",
              "      <td>-0.118179</td>\n",
              "      <td>-0.580338</td>\n",
              "      <td>0.471621</td>\n",
              "    </tr>\n",
              "    <tr>\n",
              "      <th>average_usgae</th>\n",
              "      <td>0.449981</td>\n",
              "      <td>1.000000</td>\n",
              "      <td>0.111154</td>\n",
              "      <td>0.547519</td>\n",
              "      <td>0.223568</td>\n",
              "      <td>0.588657</td>\n",
              "      <td>-0.114975</td>\n",
              "      <td>0.336250</td>\n",
              "      <td>0.195630</td>\n",
              "      <td>0.095446</td>\n",
              "      <td>-0.141926</td>\n",
              "      <td>0.118557</td>\n",
              "    </tr>\n",
              "    <tr>\n",
              "      <th>overall_app</th>\n",
              "      <td>0.737162</td>\n",
              "      <td>0.111154</td>\n",
              "      <td>1.000000</td>\n",
              "      <td>0.686060</td>\n",
              "      <td>0.592040</td>\n",
              "      <td>0.225459</td>\n",
              "      <td>-0.584510</td>\n",
              "      <td>-0.250296</td>\n",
              "      <td>0.001872</td>\n",
              "      <td>-0.200798</td>\n",
              "      <td>-0.555934</td>\n",
              "      <td>0.637450</td>\n",
              "    </tr>\n",
              "    <tr>\n",
              "      <th>average_app</th>\n",
              "      <td>0.436733</td>\n",
              "      <td>0.547519</td>\n",
              "      <td>0.686060</td>\n",
              "      <td>1.000000</td>\n",
              "      <td>0.304095</td>\n",
              "      <td>0.417302</td>\n",
              "      <td>-0.473972</td>\n",
              "      <td>-0.007914</td>\n",
              "      <td>0.220953</td>\n",
              "      <td>-0.084285</td>\n",
              "      <td>-0.292518</td>\n",
              "      <td>0.388805</td>\n",
              "    </tr>\n",
              "    <tr>\n",
              "      <th>overall_interaction</th>\n",
              "      <td>0.736279</td>\n",
              "      <td>0.223568</td>\n",
              "      <td>0.592040</td>\n",
              "      <td>0.304095</td>\n",
              "      <td>1.000000</td>\n",
              "      <td>0.749557</td>\n",
              "      <td>-0.243733</td>\n",
              "      <td>-0.322445</td>\n",
              "      <td>-0.162845</td>\n",
              "      <td>-0.205568</td>\n",
              "      <td>-0.531641</td>\n",
              "      <td>0.258258</td>\n",
              "    </tr>\n",
              "    <tr>\n",
              "      <th>average_interaction</th>\n",
              "      <td>0.429769</td>\n",
              "      <td>0.588657</td>\n",
              "      <td>0.225459</td>\n",
              "      <td>0.417302</td>\n",
              "      <td>0.749557</td>\n",
              "      <td>1.000000</td>\n",
              "      <td>-0.039713</td>\n",
              "      <td>-0.095625</td>\n",
              "      <td>-0.056576</td>\n",
              "      <td>-0.092777</td>\n",
              "      <td>-0.332699</td>\n",
              "      <td>0.082133</td>\n",
              "    </tr>\n",
              "    <tr>\n",
              "      <th>E_ig_ratio</th>\n",
              "      <td>-0.381158</td>\n",
              "      <td>-0.114975</td>\n",
              "      <td>-0.584510</td>\n",
              "      <td>-0.473972</td>\n",
              "      <td>-0.243733</td>\n",
              "      <td>-0.039713</td>\n",
              "      <td>1.000000</td>\n",
              "      <td>-0.031836</td>\n",
              "      <td>-0.263562</td>\n",
              "      <td>0.257974</td>\n",
              "      <td>0.255442</td>\n",
              "      <td>-0.263642</td>\n",
              "    </tr>\n",
              "    <tr>\n",
              "      <th>E_nl_ratio</th>\n",
              "      <td>-0.102967</td>\n",
              "      <td>0.336250</td>\n",
              "      <td>-0.250296</td>\n",
              "      <td>-0.007914</td>\n",
              "      <td>-0.322445</td>\n",
              "      <td>-0.095625</td>\n",
              "      <td>-0.031836</td>\n",
              "      <td>1.000000</td>\n",
              "      <td>0.466434</td>\n",
              "      <td>0.627624</td>\n",
              "      <td>0.411769</td>\n",
              "      <td>-0.048220</td>\n",
              "    </tr>\n",
              "    <tr>\n",
              "      <th>E_nu_ratio</th>\n",
              "      <td>-0.095738</td>\n",
              "      <td>0.195630</td>\n",
              "      <td>0.001872</td>\n",
              "      <td>0.220953</td>\n",
              "      <td>-0.162845</td>\n",
              "      <td>-0.056576</td>\n",
              "      <td>-0.263562</td>\n",
              "      <td>0.466434</td>\n",
              "      <td>1.000000</td>\n",
              "      <td>0.494122</td>\n",
              "      <td>0.182389</td>\n",
              "      <td>-0.187621</td>\n",
              "    </tr>\n",
              "    <tr>\n",
              "      <th>E_uu_ratio</th>\n",
              "      <td>-0.118179</td>\n",
              "      <td>0.095446</td>\n",
              "      <td>-0.200798</td>\n",
              "      <td>-0.084285</td>\n",
              "      <td>-0.205568</td>\n",
              "      <td>-0.092777</td>\n",
              "      <td>0.257974</td>\n",
              "      <td>0.627624</td>\n",
              "      <td>0.494122</td>\n",
              "      <td>1.000000</td>\n",
              "      <td>0.232521</td>\n",
              "      <td>-0.069158</td>\n",
              "    </tr>\n",
              "    <tr>\n",
              "      <th>inter_checking_interval</th>\n",
              "      <td>-0.580338</td>\n",
              "      <td>-0.141926</td>\n",
              "      <td>-0.555934</td>\n",
              "      <td>-0.292518</td>\n",
              "      <td>-0.531641</td>\n",
              "      <td>-0.332699</td>\n",
              "      <td>0.255442</td>\n",
              "      <td>0.411769</td>\n",
              "      <td>0.182389</td>\n",
              "      <td>0.232521</td>\n",
              "      <td>1.000000</td>\n",
              "      <td>-0.433041</td>\n",
              "    </tr>\n",
              "    <tr>\n",
              "      <th>number_of_checkings</th>\n",
              "      <td>0.471621</td>\n",
              "      <td>0.118557</td>\n",
              "      <td>0.637450</td>\n",
              "      <td>0.388805</td>\n",
              "      <td>0.258258</td>\n",
              "      <td>0.082133</td>\n",
              "      <td>-0.263642</td>\n",
              "      <td>-0.048220</td>\n",
              "      <td>-0.187621</td>\n",
              "      <td>-0.069158</td>\n",
              "      <td>-0.433041</td>\n",
              "      <td>1.000000</td>\n",
              "    </tr>\n",
              "  </tbody>\n",
              "</table>\n",
              "</div>"
            ],
            "text/plain": [
              "                         overall_usgae  ...  number_of_checkings\n",
              "overall_usgae                 1.000000  ...             0.471621\n",
              "average_usgae                 0.449981  ...             0.118557\n",
              "overall_app                   0.737162  ...             0.637450\n",
              "average_app                   0.436733  ...             0.388805\n",
              "overall_interaction           0.736279  ...             0.258258\n",
              "average_interaction           0.429769  ...             0.082133\n",
              "E_ig_ratio                   -0.381158  ...            -0.263642\n",
              "E_nl_ratio                   -0.102967  ...            -0.048220\n",
              "E_nu_ratio                   -0.095738  ...            -0.187621\n",
              "E_uu_ratio                   -0.118179  ...            -0.069158\n",
              "inter_checking_interval      -0.580338  ...            -0.433041\n",
              "number_of_checkings           0.471621  ...             1.000000\n",
              "\n",
              "[12 rows x 12 columns]"
            ]
          },
          "metadata": {
            "tags": []
          },
          "execution_count": 168
        }
      ]
    },
    {
      "cell_type": "markdown",
      "metadata": {
        "id": "u9CtjEBXmwD_",
        "colab_type": "text"
      },
      "source": [
        "In summary, the relationship between notification handling behavior and checking process & smartphone usage is as follows.\n",
        "\n",
        "![대체 텍스트](https://drive.google.com/uc?id=1V93kEwJ8yDrHF8n-X9qviIfA2P-opoSP)"
      ]
    },
    {
      "cell_type": "markdown",
      "metadata": {
        "id": "XfVSa9PRlDul",
        "colab_type": "text"
      },
      "source": [
        "##ANOVA"
      ]
    },
    {
      "cell_type": "markdown",
      "metadata": {
        "id": "BMyfoG5unwOC",
        "colab_type": "text"
      },
      "source": [
        "We compared session-level usage metrics in three unlocked usage sessions ($E_{nu}$, $E_{uu}$, and $I_{uu}$) to find out the impact of notifications on the use of smartphones. Here, the session-level usage metrics include usage duration, the number of apps used, and the number of interactions within a session. To compare these metrics in each session, we first tested whether the metrics were statistically different among three sessions through a one-way ANOVA. If there was a statistically significant difference, we then performed pairwise comparison using Tukey HSD for Post-hoc tests to review the difference in metrics between sessions. "
      ]
    },
    {
      "cell_type": "markdown",
      "metadata": {
        "id": "adchh_VanoET",
        "colab_type": "text"
      },
      "source": [
        "### Duration"
      ]
    },
    {
      "cell_type": "code",
      "metadata": {
        "id": "jRBYUqpxnRy9",
        "colab_type": "code",
        "colab": {
          "base_uri": "https://localhost:8080/",
          "height": 204
        },
        "outputId": "2a4047a3-a7b7-4476-f939-da955c7b2ea6"
      },
      "source": [
        "#construct dataset\n",
        "duration=pd.concat([df_overall['E_nu_duration'], df_overall['E_uu_duration'], df_overall['I_uu_duration']], axis=0)\n",
        "duration=pd.DataFrame(duration, columns=['duration']).reset_index(drop=True)\n",
        "duration['type']=None\n",
        "duration['ID']=None\n",
        "duration['type'][0:81]='E_nu'\n",
        "duration['type'][81:162]='E_uu'\n",
        "duration['type'][162:]='I_uu'\n",
        "duration['ID'][0:81]=df_overall.index\n",
        "duration['ID'][81:162]=df_overall.index\n",
        "duration['ID'][162:]=df_overall.index\n",
        "duration.head()"
      ],
      "execution_count": null,
      "outputs": [
        {
          "output_type": "execute_result",
          "data": {
            "text/html": [
              "<div>\n",
              "<style scoped>\n",
              "    .dataframe tbody tr th:only-of-type {\n",
              "        vertical-align: middle;\n",
              "    }\n",
              "\n",
              "    .dataframe tbody tr th {\n",
              "        vertical-align: top;\n",
              "    }\n",
              "\n",
              "    .dataframe thead th {\n",
              "        text-align: right;\n",
              "    }\n",
              "</style>\n",
              "<table border=\"1\" class=\"dataframe\">\n",
              "  <thead>\n",
              "    <tr style=\"text-align: right;\">\n",
              "      <th></th>\n",
              "      <th>duration</th>\n",
              "      <th>type</th>\n",
              "      <th>ID</th>\n",
              "    </tr>\n",
              "  </thead>\n",
              "  <tbody>\n",
              "    <tr>\n",
              "      <th>0</th>\n",
              "      <td>351.45</td>\n",
              "      <td>E_nu</td>\n",
              "      <td>0</td>\n",
              "    </tr>\n",
              "    <tr>\n",
              "      <th>1</th>\n",
              "      <td>111.90</td>\n",
              "      <td>E_nu</td>\n",
              "      <td>1</td>\n",
              "    </tr>\n",
              "    <tr>\n",
              "      <th>2</th>\n",
              "      <td>75.56</td>\n",
              "      <td>E_nu</td>\n",
              "      <td>2</td>\n",
              "    </tr>\n",
              "    <tr>\n",
              "      <th>3</th>\n",
              "      <td>161.66</td>\n",
              "      <td>E_nu</td>\n",
              "      <td>3</td>\n",
              "    </tr>\n",
              "    <tr>\n",
              "      <th>4</th>\n",
              "      <td>165.49</td>\n",
              "      <td>E_nu</td>\n",
              "      <td>4</td>\n",
              "    </tr>\n",
              "  </tbody>\n",
              "</table>\n",
              "</div>"
            ],
            "text/plain": [
              "   duration  type ID\n",
              "0    351.45  E_nu  0\n",
              "1    111.90  E_nu  1\n",
              "2     75.56  E_nu  2\n",
              "3    161.66  E_nu  3\n",
              "4    165.49  E_nu  4"
            ]
          },
          "metadata": {
            "tags": []
          },
          "execution_count": 176
        }
      ]
    },
    {
      "cell_type": "code",
      "metadata": {
        "id": "9y35ZXMVpSgg",
        "colab_type": "code",
        "colab": {
          "base_uri": "https://localhost:8080/",
          "height": 197
        },
        "outputId": "78c90d2b-8a14-49d4-eaeb-b2be2da9614b"
      },
      "source": [
        "#Repeated measure ANOVA\n",
        "import pingouin as pg\n",
        "aov=pg.rm_anova(dv='duration',  within='type', subject=\"ID\",  data=duration,  detailed=True)\n",
        "pg.print_table(aov)"
      ],
      "execution_count": null,
      "outputs": [
        {
          "output_type": "stream",
          "text": [
            "\n",
            "=============\n",
            "ANOVA SUMMARY\n",
            "=============\n",
            "\n",
            "Source            SS    DF         MS  F       p-unc                  p-GG-corr               np2    eps    sphericity    W-spher    p-spher\n",
            "--------  ----------  ----  ---------  ------  ---------------------  ----------------------  -----  -----  ------------  ---------  ----------------------\n",
            "type      128516.969     2  64258.484  16.264  3.714808967802566e-07  2.5637884197051887e-06  0.169  0.833  False         0.8        0.00014753154473242454\n",
            "Error     632138.124   160   3950.863  -       -                      -                       -      -      -             -          -\n",
            "\n"
          ],
          "name": "stdout"
        }
      ]
    },
    {
      "cell_type": "code",
      "metadata": {
        "id": "PoL9U1STpoOV",
        "colab_type": "code",
        "colab": {
          "base_uri": "https://localhost:8080/",
          "height": 161
        },
        "outputId": "2fe252a3-28f5-4b1a-8b3b-f48c50c526da"
      },
      "source": [
        "# Tukey HSD\n",
        "from statsmodels.stats.multicomp import pairwise_tukeyhsd\n",
        "from statsmodels.stats.multicomp import MultiComparison\n",
        "\n",
        "mc = MultiComparison(duration['duration'], duration['type'])\n",
        "mc_results = mc.tukeyhsd()\n",
        "print(mc_results)"
      ],
      "execution_count": null,
      "outputs": [
        {
          "output_type": "stream",
          "text": [
            " Multiple Comparison of Means - Tukey HSD, FWER=0.05  \n",
            "======================================================\n",
            "group1 group2 meandiff p-adj   lower    upper   reject\n",
            "------------------------------------------------------\n",
            "  E_nu   E_uu -44.0031 0.0015 -73.5647 -14.4415   True\n",
            "  E_nu   I_uu -52.4604  0.001  -82.022 -22.8988   True\n",
            "  E_uu   I_uu  -8.4573 0.7583 -38.0189  21.1043  False\n",
            "------------------------------------------------------\n"
          ],
          "name": "stdout"
        }
      ]
    },
    {
      "cell_type": "markdown",
      "metadata": {
        "id": "ZbMBs2N6nt_i",
        "colab_type": "text"
      },
      "source": [
        "### Number of apps used\n"
      ]
    },
    {
      "cell_type": "code",
      "metadata": {
        "id": "wx9ZbDGnp-Xj",
        "colab_type": "code",
        "colab": {
          "base_uri": "https://localhost:8080/",
          "height": 204
        },
        "outputId": "66544e62-7664-4100-83d0-8961c3cebc0b"
      },
      "source": [
        "#construct dataset\n",
        "app=pd.concat([df_overall['E_nu_app'], df_overall['E_uu_app'], df_overall['I_uu_app']], axis=0)\n",
        "app=pd.DataFrame(app, columns=['apps_used']).reset_index(drop=True)\n",
        "app['type']=None\n",
        "app['ID']=None\n",
        "app['type'][0:81]='E_nu'\n",
        "app['type'][81:162]='E_uu'\n",
        "app['type'][162:]='I_uu'\n",
        "app['ID'][0:81]=df_overall.index\n",
        "app['ID'][81:162]=df_overall.index\n",
        "app['ID'][162:]=df_overall.index\n",
        "app.head()"
      ],
      "execution_count": null,
      "outputs": [
        {
          "output_type": "execute_result",
          "data": {
            "text/html": [
              "<div>\n",
              "<style scoped>\n",
              "    .dataframe tbody tr th:only-of-type {\n",
              "        vertical-align: middle;\n",
              "    }\n",
              "\n",
              "    .dataframe tbody tr th {\n",
              "        vertical-align: top;\n",
              "    }\n",
              "\n",
              "    .dataframe thead th {\n",
              "        text-align: right;\n",
              "    }\n",
              "</style>\n",
              "<table border=\"1\" class=\"dataframe\">\n",
              "  <thead>\n",
              "    <tr style=\"text-align: right;\">\n",
              "      <th></th>\n",
              "      <th>apps_used</th>\n",
              "      <th>type</th>\n",
              "      <th>ID</th>\n",
              "    </tr>\n",
              "  </thead>\n",
              "  <tbody>\n",
              "    <tr>\n",
              "      <th>0</th>\n",
              "      <td>4.34</td>\n",
              "      <td>E_nu</td>\n",
              "      <td>0</td>\n",
              "    </tr>\n",
              "    <tr>\n",
              "      <th>1</th>\n",
              "      <td>1.63</td>\n",
              "      <td>E_nu</td>\n",
              "      <td>1</td>\n",
              "    </tr>\n",
              "    <tr>\n",
              "      <th>2</th>\n",
              "      <td>1.69</td>\n",
              "      <td>E_nu</td>\n",
              "      <td>2</td>\n",
              "    </tr>\n",
              "    <tr>\n",
              "      <th>3</th>\n",
              "      <td>2.43</td>\n",
              "      <td>E_nu</td>\n",
              "      <td>3</td>\n",
              "    </tr>\n",
              "    <tr>\n",
              "      <th>4</th>\n",
              "      <td>1.72</td>\n",
              "      <td>E_nu</td>\n",
              "      <td>4</td>\n",
              "    </tr>\n",
              "  </tbody>\n",
              "</table>\n",
              "</div>"
            ],
            "text/plain": [
              "   apps_used  type ID\n",
              "0       4.34  E_nu  0\n",
              "1       1.63  E_nu  1\n",
              "2       1.69  E_nu  2\n",
              "3       2.43  E_nu  3\n",
              "4       1.72  E_nu  4"
            ]
          },
          "metadata": {
            "tags": []
          },
          "execution_count": 183
        }
      ]
    },
    {
      "cell_type": "code",
      "metadata": {
        "id": "mOqHhbz8p-tM",
        "colab_type": "code",
        "colab": {
          "base_uri": "https://localhost:8080/",
          "height": 197
        },
        "outputId": "bffc0cae-b4bb-496a-9cb7-cc04ea180550"
      },
      "source": [
        "#Repeated measure ANOVA\n",
        "import pingouin as pg\n",
        "aov=pg.rm_anova(dv='apps_used',  within='type', subject=\"ID\",  data=app,  detailed=True)\n",
        "pg.print_table(aov)"
      ],
      "execution_count": null,
      "outputs": [
        {
          "output_type": "stream",
          "text": [
            "\n",
            "=============\n",
            "ANOVA SUMMARY\n",
            "=============\n",
            "\n",
            "Source         SS    DF      MS  F       p-unc                  p-GG-corr               np2    eps    sphericity    W-spher    p-spher\n",
            "--------  -------  ----  ------  ------  ---------------------  ----------------------  -----  -----  ------------  ---------  ---------------------\n",
            "type       53.939     2  26.970  37.887  3.388999151300161e-14  1.3261323824189598e-12  0.321  0.865  False         0.844      0.0012353477573783717\n",
            "Error     113.897   160   0.712  -       -                      -                       -      -      -             -          -\n",
            "\n"
          ],
          "name": "stdout"
        }
      ]
    },
    {
      "cell_type": "code",
      "metadata": {
        "id": "3huw6S5kqQe_",
        "colab_type": "code",
        "colab": {
          "base_uri": "https://localhost:8080/",
          "height": 161
        },
        "outputId": "1ed4584b-92b1-46a5-fb0f-82d11be532dc"
      },
      "source": [
        "# Tukey HSD\n",
        "from statsmodels.stats.multicomp import pairwise_tukeyhsd\n",
        "from statsmodels.stats.multicomp import MultiComparison\n",
        "\n",
        "mc = MultiComparison(app['apps_used'], app['type'])\n",
        "mc_results = mc.tukeyhsd()\n",
        "print(mc_results)"
      ],
      "execution_count": null,
      "outputs": [
        {
          "output_type": "stream",
          "text": [
            "Multiple Comparison of Means - Tukey HSD, FWER=0.05 \n",
            "====================================================\n",
            "group1 group2 meandiff p-adj   lower   upper  reject\n",
            "----------------------------------------------------\n",
            "  E_nu   E_uu  -0.2657 0.2439  -0.655  0.1237  False\n",
            "  E_nu   I_uu  -1.1054  0.001 -1.4948 -0.7161   True\n",
            "  E_uu   I_uu  -0.8398  0.001 -1.2291 -0.4504   True\n",
            "----------------------------------------------------\n"
          ],
          "name": "stdout"
        }
      ]
    },
    {
      "cell_type": "markdown",
      "metadata": {
        "id": "b6CD3wt7qbDz",
        "colab_type": "text"
      },
      "source": [
        "### Number of interaction"
      ]
    },
    {
      "cell_type": "code",
      "metadata": {
        "id": "_hn8ONXXqhqz",
        "colab_type": "code",
        "colab": {
          "base_uri": "https://localhost:8080/",
          "height": 204
        },
        "outputId": "e8e71652-c374-48ef-ab8f-e03bccb3deb3"
      },
      "source": [
        "#construct dataset\n",
        "interaction=pd.concat([df_overall['E_nu_app'], df_overall['E_uu_app'], df_overall['I_uu_app']], axis=0)\n",
        "interaction=pd.DataFrame(interaction, columns=['interaction']).reset_index(drop=True)\n",
        "interaction['type']=None\n",
        "interaction['ID']=None\n",
        "interaction['type'][0:81]='E_nu'\n",
        "interaction['type'][81:162]='E_uu'\n",
        "interaction['type'][162:]='I_uu'\n",
        "interaction['ID'][0:81]=df_overall.index\n",
        "interaction['ID'][81:162]=df_overall.index\n",
        "interaction['ID'][162:]=df_overall.index\n",
        "interaction.head()"
      ],
      "execution_count": null,
      "outputs": [
        {
          "output_type": "execute_result",
          "data": {
            "text/html": [
              "<div>\n",
              "<style scoped>\n",
              "    .dataframe tbody tr th:only-of-type {\n",
              "        vertical-align: middle;\n",
              "    }\n",
              "\n",
              "    .dataframe tbody tr th {\n",
              "        vertical-align: top;\n",
              "    }\n",
              "\n",
              "    .dataframe thead th {\n",
              "        text-align: right;\n",
              "    }\n",
              "</style>\n",
              "<table border=\"1\" class=\"dataframe\">\n",
              "  <thead>\n",
              "    <tr style=\"text-align: right;\">\n",
              "      <th></th>\n",
              "      <th>interaction</th>\n",
              "      <th>type</th>\n",
              "      <th>ID</th>\n",
              "    </tr>\n",
              "  </thead>\n",
              "  <tbody>\n",
              "    <tr>\n",
              "      <th>0</th>\n",
              "      <td>4.34</td>\n",
              "      <td>E_nu</td>\n",
              "      <td>0</td>\n",
              "    </tr>\n",
              "    <tr>\n",
              "      <th>1</th>\n",
              "      <td>1.63</td>\n",
              "      <td>E_nu</td>\n",
              "      <td>1</td>\n",
              "    </tr>\n",
              "    <tr>\n",
              "      <th>2</th>\n",
              "      <td>1.69</td>\n",
              "      <td>E_nu</td>\n",
              "      <td>2</td>\n",
              "    </tr>\n",
              "    <tr>\n",
              "      <th>3</th>\n",
              "      <td>2.43</td>\n",
              "      <td>E_nu</td>\n",
              "      <td>3</td>\n",
              "    </tr>\n",
              "    <tr>\n",
              "      <th>4</th>\n",
              "      <td>1.72</td>\n",
              "      <td>E_nu</td>\n",
              "      <td>4</td>\n",
              "    </tr>\n",
              "  </tbody>\n",
              "</table>\n",
              "</div>"
            ],
            "text/plain": [
              "   interaction  type ID\n",
              "0         4.34  E_nu  0\n",
              "1         1.63  E_nu  1\n",
              "2         1.69  E_nu  2\n",
              "3         2.43  E_nu  3\n",
              "4         1.72  E_nu  4"
            ]
          },
          "metadata": {
            "tags": []
          },
          "execution_count": 186
        }
      ]
    },
    {
      "cell_type": "code",
      "metadata": {
        "id": "8w6GCQ4AqjKL",
        "colab_type": "code",
        "colab": {
          "base_uri": "https://localhost:8080/",
          "height": 197
        },
        "outputId": "dbb24a60-bafd-442c-9f64-34ff75786ba3"
      },
      "source": [
        "#Repeated measure ANOVA\n",
        "import pingouin as pg\n",
        "aov=pg.rm_anova(dv='interaction',  within='type', subject=\"ID\",  data=interaction,  detailed=True)\n",
        "pg.print_table(aov)"
      ],
      "execution_count": null,
      "outputs": [
        {
          "output_type": "stream",
          "text": [
            "\n",
            "=============\n",
            "ANOVA SUMMARY\n",
            "=============\n",
            "\n",
            "Source         SS    DF      MS  F       p-unc                  p-GG-corr               np2    eps    sphericity    W-spher    p-spher\n",
            "--------  -------  ----  ------  ------  ---------------------  ----------------------  -----  -----  ------------  ---------  ---------------------\n",
            "type       53.939     2  26.970  37.887  3.388999151300161e-14  1.3261323824189598e-12  0.321  0.865  False         0.844      0.0012353477573783717\n",
            "Error     113.897   160   0.712  -       -                      -                       -      -      -             -          -\n",
            "\n"
          ],
          "name": "stdout"
        }
      ]
    },
    {
      "cell_type": "code",
      "metadata": {
        "id": "FZ8pkr_sqjQc",
        "colab_type": "code",
        "colab": {
          "base_uri": "https://localhost:8080/",
          "height": 161
        },
        "outputId": "7339ddf9-a5de-4e8e-e046-a8f4e5c37a16"
      },
      "source": [
        "# Tukey HSD\n",
        "from statsmodels.stats.multicomp import pairwise_tukeyhsd\n",
        "from statsmodels.stats.multicomp import MultiComparison\n",
        "\n",
        "mc = MultiComparison(interaction['interaction'], interaction['type'])\n",
        "mc_results = mc.tukeyhsd()\n",
        "print(mc_results)"
      ],
      "execution_count": null,
      "outputs": [
        {
          "output_type": "stream",
          "text": [
            "Multiple Comparison of Means - Tukey HSD, FWER=0.05 \n",
            "====================================================\n",
            "group1 group2 meandiff p-adj   lower   upper  reject\n",
            "----------------------------------------------------\n",
            "  E_nu   E_uu  -0.2657 0.2439  -0.655  0.1237  False\n",
            "  E_nu   I_uu  -1.1054  0.001 -1.4948 -0.7161   True\n",
            "  E_uu   I_uu  -0.8398  0.001 -1.2291 -0.4504   True\n",
            "----------------------------------------------------\n"
          ],
          "name": "stdout"
        }
      ]
    },
    {
      "cell_type": "markdown",
      "metadata": {
        "id": "6ICdaSTstbS4",
        "colab_type": "text"
      },
      "source": [
        "##Hypothesis test"
      ]
    },
    {
      "cell_type": "code",
      "metadata": {
        "id": "7cBxJG8NRrW3",
        "colab_type": "code",
        "colab": {}
      },
      "source": [
        "import os\n",
        "import pandas as pd\n",
        "path='/content/gdrive/My Drive/project (1)/class_app_usage'\n",
        "IDlist=os.listdir(path)"
      ],
      "execution_count": null,
      "outputs": []
    },
    {
      "cell_type": "code",
      "metadata": {
        "id": "5WmBUmtESDJ0",
        "colab_type": "code",
        "colab": {}
      },
      "source": [
        "def remove_space(x):\n",
        "    if \" \" in x:\n",
        "        x=x[1:]\n",
        "    return x"
      ],
      "execution_count": null,
      "outputs": []
    },
    {
      "cell_type": "code",
      "metadata": {
        "id": "hFwa5oSSSE3I",
        "colab_type": "code",
        "colab": {}
      },
      "source": [
        "def day(x):\n",
        "    return x.split('_')[0]"
      ],
      "execution_count": null,
      "outputs": []
    },
    {
      "cell_type": "markdown",
      "metadata": {
        "id": "PY0NqXQ0mseA",
        "colab_type": "text"
      },
      "source": [
        "### Select subject"
      ]
    },
    {
      "cell_type": "markdown",
      "metadata": {
        "id": "j7gXpMCcSIV-",
        "colab_type": "text"
      },
      "source": [
        "#### Extract students' modalities"
      ]
    },
    {
      "cell_type": "code",
      "metadata": {
        "id": "WbYhVtvxcUsX",
        "colab_type": "code",
        "colab": {
          "base_uri": "https://localhost:8080/",
          "height": 419
        },
        "outputId": "b3975835-5233-4590-f76c-63bffc375af7"
      },
      "source": [
        "df_arrival"
      ],
      "execution_count": null,
      "outputs": [
        {
          "output_type": "execute_result",
          "data": {
            "text/html": [
              "<div>\n",
              "<style scoped>\n",
              "    .dataframe tbody tr th:only-of-type {\n",
              "        vertical-align: middle;\n",
              "    }\n",
              "\n",
              "    .dataframe tbody tr th {\n",
              "        vertical-align: top;\n",
              "    }\n",
              "\n",
              "    .dataframe thead th {\n",
              "        text-align: right;\n",
              "    }\n",
              "</style>\n",
              "<table border=\"1\" class=\"dataframe\">\n",
              "  <thead>\n",
              "    <tr style=\"text-align: right;\">\n",
              "      <th></th>\n",
              "      <th>timestamp</th>\n",
              "      <th>type</th>\n",
              "      <th>package</th>\n",
              "      <th>title</th>\n",
              "      <th>text</th>\n",
              "      <th>subtext</th>\n",
              "      <th>sound</th>\n",
              "      <th>vibrate</th>\n",
              "      <th>defaults</th>\n",
              "      <th>ledon</th>\n",
              "      <th>ledoff</th>\n",
              "      <th>ledrgb</th>\n",
              "      <th>modality</th>\n",
              "    </tr>\n",
              "  </thead>\n",
              "  <tbody>\n",
              "    <tr>\n",
              "      <th>0</th>\n",
              "      <td>POSTED</td>\n",
              "      <td>POSTED</td>\n",
              "      <td>com.kakao.talk</td>\n",
              "      <td>임근우 새터16반 남프</td>\n",
              "      <td>새로운 메시지가 있습니다.</td>\n",
              "      <td>null</td>\n",
              "      <td></td>\n",
              "      <td>null</td>\n",
              "      <td>0</td>\n",
              "      <td>0</td>\n",
              "      <td>0</td>\n",
              "      <td>0</td>\n",
              "      <td>NaN</td>\n",
              "    </tr>\n",
              "    <tr>\n",
              "      <th>1</th>\n",
              "      <td>POSTED</td>\n",
              "      <td>POSTED</td>\n",
              "      <td>com.kakao.talk</td>\n",
              "      <td>임근우 새터16반 남프</td>\n",
              "      <td>새로운 메시지가 있습니다.</td>\n",
              "      <td>null</td>\n",
              "      <td></td>\n",
              "      <td>null</td>\n",
              "      <td>0</td>\n",
              "      <td>0</td>\n",
              "      <td>0</td>\n",
              "      <td>0</td>\n",
              "      <td>NaN</td>\n",
              "    </tr>\n",
              "    <tr>\n",
              "      <th>2</th>\n",
              "      <td>POSTED</td>\n",
              "      <td>POSTED</td>\n",
              "      <td>com.kakao.talk</td>\n",
              "      <td>임근우 새터16반 남프</td>\n",
              "      <td>새로운 메시지가 있습니다.</td>\n",
              "      <td>null</td>\n",
              "      <td></td>\n",
              "      <td>null</td>\n",
              "      <td>0</td>\n",
              "      <td>0</td>\n",
              "      <td>0</td>\n",
              "      <td>0</td>\n",
              "      <td>NaN</td>\n",
              "    </tr>\n",
              "    <tr>\n",
              "      <th>4</th>\n",
              "      <td>POSTED</td>\n",
              "      <td>POSTED</td>\n",
              "      <td>com.kakao.talk</td>\n",
              "      <td>최성준 K17 98</td>\n",
              "      <td>새로운 메시지가 있습니다.</td>\n",
              "      <td>null</td>\n",
              "      <td></td>\n",
              "      <td>null</td>\n",
              "      <td>0</td>\n",
              "      <td>0</td>\n",
              "      <td>0</td>\n",
              "      <td>0</td>\n",
              "      <td>NaN</td>\n",
              "    </tr>\n",
              "    <tr>\n",
              "      <th>6</th>\n",
              "      <td>POSTED</td>\n",
              "      <td>POSTED</td>\n",
              "      <td>com.kakao.talk</td>\n",
              "      <td>박준호 K17 99</td>\n",
              "      <td>새로운 메시지가 있습니다.</td>\n",
              "      <td>null</td>\n",
              "      <td></td>\n",
              "      <td>null</td>\n",
              "      <td>0</td>\n",
              "      <td>0</td>\n",
              "      <td>0</td>\n",
              "      <td>0</td>\n",
              "      <td>NaN</td>\n",
              "    </tr>\n",
              "    <tr>\n",
              "      <th>...</th>\n",
              "      <td>...</td>\n",
              "      <td>...</td>\n",
              "      <td>...</td>\n",
              "      <td>...</td>\n",
              "      <td>...</td>\n",
              "      <td>...</td>\n",
              "      <td>...</td>\n",
              "      <td>...</td>\n",
              "      <td>...</td>\n",
              "      <td>...</td>\n",
              "      <td>...</td>\n",
              "      <td>...</td>\n",
              "      <td>...</td>\n",
              "    </tr>\n",
              "    <tr>\n",
              "      <th>150206</th>\n",
              "      <td>POSTED</td>\n",
              "      <td>POSTED</td>\n",
              "      <td>com.kakao.talk</td>\n",
              "      <td>null</td>\n",
              "      <td>null</td>\n",
              "      <td>5개의 안 읽은 메시지</td>\n",
              "      <td></td>\n",
              "      <td>null</td>\n",
              "      <td>0</td>\n",
              "      <td>0</td>\n",
              "      <td>0</td>\n",
              "      <td>0</td>\n",
              "      <td>NaN</td>\n",
              "    </tr>\n",
              "    <tr>\n",
              "      <th>150208</th>\n",
              "      <td>POSTED</td>\n",
              "      <td>POSTED</td>\n",
              "      <td>com.kakao.talk</td>\n",
              "      <td>혜연Rachel 모카</td>\n",
              "      <td>새로운 메시지가 있습니다.</td>\n",
              "      <td>null</td>\n",
              "      <td></td>\n",
              "      <td>null</td>\n",
              "      <td>0</td>\n",
              "      <td>0</td>\n",
              "      <td>0</td>\n",
              "      <td>0</td>\n",
              "      <td>NaN</td>\n",
              "    </tr>\n",
              "    <tr>\n",
              "      <th>150211</th>\n",
              "      <td>POSTED</td>\n",
              "      <td>POSTED</td>\n",
              "      <td>com.kakao.talk</td>\n",
              "      <td>이은성 K17 98</td>\n",
              "      <td>새로운 메시지가 있습니다.</td>\n",
              "      <td>null</td>\n",
              "      <td></td>\n",
              "      <td>[0</td>\n",
              "      <td>0]</td>\n",
              "      <td>0</td>\n",
              "      <td>300</td>\n",
              "      <td>5000</td>\n",
              "      <td>NaN</td>\n",
              "    </tr>\n",
              "    <tr>\n",
              "      <th>150212</th>\n",
              "      <td>POSTED</td>\n",
              "      <td>POSTED</td>\n",
              "      <td>com.kakao.talk</td>\n",
              "      <td>이은성 K17 98</td>\n",
              "      <td>새로운 메시지가 있습니다.</td>\n",
              "      <td>null</td>\n",
              "      <td></td>\n",
              "      <td>[0</td>\n",
              "      <td>0]</td>\n",
              "      <td>0</td>\n",
              "      <td>300</td>\n",
              "      <td>5000</td>\n",
              "      <td>NaN</td>\n",
              "    </tr>\n",
              "    <tr>\n",
              "      <th>150214</th>\n",
              "      <td>POSTED</td>\n",
              "      <td>POSTED</td>\n",
              "      <td>com.kakao.talk</td>\n",
              "      <td>최승윤</td>\n",
              "      <td>새로운 메시지가 있습니다.</td>\n",
              "      <td>null</td>\n",
              "      <td></td>\n",
              "      <td>null</td>\n",
              "      <td>0</td>\n",
              "      <td>0</td>\n",
              "      <td>0</td>\n",
              "      <td>0</td>\n",
              "      <td>NaN</td>\n",
              "    </tr>\n",
              "  </tbody>\n",
              "</table>\n",
              "<p>113667 rows × 13 columns</p>\n",
              "</div>"
            ],
            "text/plain": [
              "       timestamp     type          package  ...  ledoff  ledrgb modality\n",
              "0         POSTED   POSTED   com.kakao.talk  ...       0       0      NaN\n",
              "1         POSTED   POSTED   com.kakao.talk  ...       0       0      NaN\n",
              "2         POSTED   POSTED   com.kakao.talk  ...       0       0      NaN\n",
              "4         POSTED   POSTED   com.kakao.talk  ...       0       0      NaN\n",
              "6         POSTED   POSTED   com.kakao.talk  ...       0       0      NaN\n",
              "...          ...      ...              ...  ...     ...     ...      ...\n",
              "150206    POSTED   POSTED   com.kakao.talk  ...       0       0      NaN\n",
              "150208    POSTED   POSTED   com.kakao.talk  ...       0       0      NaN\n",
              "150211    POSTED   POSTED   com.kakao.talk  ...     300    5000      NaN\n",
              "150212    POSTED   POSTED   com.kakao.talk  ...     300    5000      NaN\n",
              "150214    POSTED   POSTED   com.kakao.talk  ...       0       0      NaN\n",
              "\n",
              "[113667 rows x 13 columns]"
            ]
          },
          "metadata": {
            "tags": []
          },
          "execution_count": 23
        }
      ]
    },
    {
      "cell_type": "code",
      "metadata": {
        "id": "CGHeoXDWSXLV",
        "colab_type": "code",
        "colab": {
          "base_uri": "https://localhost:8080/",
          "height": 564
        },
        "outputId": "b6843194-a450-4066-a442-aa539cdd2e6a"
      },
      "source": [
        "vib=[]\n",
        "sil=[]\n",
        "nor=[]\n",
        "arrival=[]\n",
        "checking=[]\n",
        "for ID in IDlist:\n",
        "    \n",
        "    df_mode=pd.read_csv(\"/content/gdrive/My Drive/project (1)/raw_data/\"+ID+\"/RINGER_\"+ID+\".csv\" , error_bad_lines=False)\n",
        "    df_noti=pd.read_csv(\"/content/gdrive/My Drive/project (1)/raw_data/\"+ID+\"/NOTIFICATION_\"+ID+\".csv\" , error_bad_lines=False)\n",
        "    df_noti['timestamp']=df_noti.iloc[:,1:2].applymap(remove_space)\n",
        "    \n",
        "    for i in range(len(df_mode)-1):\n",
        "        start_time=df_mode['timestamp'][i]\n",
        "        end_time=df_mode['timestamp'][i+1]\n",
        "        df_noti.loc[(start_time <= df_noti.timestamp) & (df_noti.timestamp< end_time), 'modality']=df_mode[' mode'][i]\n",
        "    df_kakao=df_noti[df_noti[' package']==' com.kakao.talk'].reset_index(drop=True)\n",
        "    if len(df_kakao)==0:\n",
        "        continue\n",
        "    df_arrival=df_kakao[df_kakao[' type']==\" POSTED\"]\n",
        "    df_checking=df_kakao[df_kakao[' type']==\" REMOVED\"]\n",
        "    arrival.append(len(df_arrival))\n",
        "    checking.append(len(df_checking))\n",
        "    df_kakao_vib=df_arrival[df_arrival['modality']==' vibrate']\n",
        "    df_kakao_sil=df_arrival[df_arrival['modality']==' silent']\n",
        "    df_kakao_nor=df_arrival[df_arrival['modality']==' normal']\n",
        "    vib.append(len(df_kakao_vib))\n",
        "    sil.append(len(df_kakao_sil))\n",
        "    nor.append(len(df_kakao_nor))\n"
      ],
      "execution_count": null,
      "outputs": [
        {
          "output_type": "stream",
          "text": [
            "b'Skipping line 128495: expected 12 fields, saw 13\\n'\n",
            "b'Skipping line 78315: expected 12 fields, saw 13\\n'\n",
            "b'Skipping line 334322: expected 12 fields, saw 18\\n'\n",
            "b'Skipping line 130243: expected 12 fields, saw 15\\nSkipping line 130268: expected 12 fields, saw 14\\nSkipping line 130273: expected 12 fields, saw 14\\nSkipping line 130278: expected 12 fields, saw 14\\nSkipping line 130283: expected 12 fields, saw 13\\nSkipping line 130952: expected 12 fields, saw 15\\n'\n",
            "b'Skipping line 131194: expected 12 fields, saw 14\\nSkipping line 131196: expected 12 fields, saw 14\\nSkipping line 131198: expected 12 fields, saw 14\\nSkipping line 131560: expected 12 fields, saw 14\\nSkipping line 131583: expected 12 fields, saw 15\\nSkipping line 132313: expected 12 fields, saw 15\\n'\n",
            "b'Skipping line 331112: expected 12 fields, saw 13\\n'\n",
            "b'Skipping line 456145: expected 12 fields, saw 18\\n'\n",
            "b'Skipping line 98935: expected 12 fields, saw 14\\nSkipping line 99361: expected 12 fields, saw 14\\n'\n",
            "b'Skipping line 153188: expected 12 fields, saw 22\\nSkipping line 153248: expected 12 fields, saw 14\\n'\n",
            "b'Skipping line 131965: expected 12 fields, saw 13\\nSkipping line 132771: expected 12 fields, saw 13\\nSkipping line 132773: expected 12 fields, saw 13\\nSkipping line 132775: expected 12 fields, saw 13\\nSkipping line 134167: expected 12 fields, saw 13\\nSkipping line 134169: expected 12 fields, saw 13\\nSkipping line 134171: expected 12 fields, saw 14\\nSkipping line 134173: expected 12 fields, saw 15\\n'\n",
            "b'Skipping line 187241: expected 12 fields, saw 14\\n'\n",
            "b'Skipping line 55012: expected 12 fields, saw 15\\n'\n",
            "b'Skipping line 70726: expected 12 fields, saw 14\\nSkipping line 80072: expected 12 fields, saw 14\\nSkipping line 109097: expected 12 fields, saw 14\\nSkipping line 116694: expected 12 fields, saw 15\\n'\n",
            "/usr/local/lib/python3.6/dist-packages/IPython/core/interactiveshell.py:2718: DtypeWarning: Columns (9) have mixed types.Specify dtype option on import or set low_memory=False.\n",
            "  interactivity=interactivity, compiler=compiler, result=result)\n",
            "/usr/local/lib/python3.6/dist-packages/IPython/core/interactiveshell.py:2718: DtypeWarning: Columns (9,11) have mixed types.Specify dtype option on import or set low_memory=False.\n",
            "  interactivity=interactivity, compiler=compiler, result=result)\n",
            "b'Skipping line 424827: expected 12 fields, saw 13\\n'\n",
            "b'Skipping line 572994: expected 12 fields, saw 15\\n'\n",
            "b'Skipping line 166567: expected 12 fields, saw 14\\n'\n",
            "b'Skipping line 240700: expected 12 fields, saw 13\\n'\n",
            "b'Skipping line 64851: expected 12 fields, saw 13\\n'\n",
            "b'Skipping line 144570: expected 12 fields, saw 14\\nSkipping line 173656: expected 12 fields, saw 15\\n'\n",
            "b'Skipping line 485247: expected 12 fields, saw 15\\n'\n",
            "b'Skipping line 538732: expected 12 fields, saw 13\\n'\n",
            "b'Skipping line 24551: expected 12 fields, saw 16\\n'\n",
            "b'Skipping line 112030: expected 12 fields, saw 15\\n'\n",
            "b'Skipping line 197699: expected 12 fields, saw 13\\nSkipping line 257044: expected 12 fields, saw 14\\n'\n",
            "b'Skipping line 281600: expected 12 fields, saw 15\\n'\n",
            "b'Skipping line 374740: expected 12 fields, saw 13\\nSkipping line 375112: expected 12 fields, saw 13\\n'\n",
            "b'Skipping line 161506: expected 12 fields, saw 15\\n'\n"
          ],
          "name": "stderr"
        }
      ]
    },
    {
      "cell_type": "code",
      "metadata": {
        "id": "U__tANi2S7Gy",
        "colab_type": "code",
        "colab": {
          "base_uri": "https://localhost:8080/",
          "height": 204
        },
        "outputId": "6ec77ff5-2ec1-4d65-b8bd-3dfedd2cd90a"
      },
      "source": [
        "modality_df=pd.DataFrame({\"ID\":IDlist, \"v\":vib,\"s\":sil,\"n\":nor})\n",
        "modality_df.head()"
      ],
      "execution_count": null,
      "outputs": [
        {
          "output_type": "execute_result",
          "data": {
            "text/html": [
              "<div>\n",
              "<style scoped>\n",
              "    .dataframe tbody tr th:only-of-type {\n",
              "        vertical-align: middle;\n",
              "    }\n",
              "\n",
              "    .dataframe tbody tr th {\n",
              "        vertical-align: top;\n",
              "    }\n",
              "\n",
              "    .dataframe thead th {\n",
              "        text-align: right;\n",
              "    }\n",
              "</style>\n",
              "<table border=\"1\" class=\"dataframe\">\n",
              "  <thead>\n",
              "    <tr style=\"text-align: right;\">\n",
              "      <th></th>\n",
              "      <th>ID</th>\n",
              "      <th>n</th>\n",
              "      <th>s</th>\n",
              "      <th>v</th>\n",
              "    </tr>\n",
              "  </thead>\n",
              "  <tbody>\n",
              "    <tr>\n",
              "      <th>0</th>\n",
              "      <td>20946596</td>\n",
              "      <td>0</td>\n",
              "      <td>153</td>\n",
              "      <td>6760</td>\n",
              "    </tr>\n",
              "    <tr>\n",
              "      <th>1</th>\n",
              "      <td>22536401</td>\n",
              "      <td>0</td>\n",
              "      <td>5709</td>\n",
              "      <td>1124</td>\n",
              "    </tr>\n",
              "    <tr>\n",
              "      <th>2</th>\n",
              "      <td>22682373</td>\n",
              "      <td>0</td>\n",
              "      <td>1617</td>\n",
              "      <td>204</td>\n",
              "    </tr>\n",
              "    <tr>\n",
              "      <th>3</th>\n",
              "      <td>22785668</td>\n",
              "      <td>0</td>\n",
              "      <td>266</td>\n",
              "      <td>3930</td>\n",
              "    </tr>\n",
              "    <tr>\n",
              "      <th>4</th>\n",
              "      <td>22955826</td>\n",
              "      <td>15</td>\n",
              "      <td>690</td>\n",
              "      <td>170</td>\n",
              "    </tr>\n",
              "  </tbody>\n",
              "</table>\n",
              "</div>"
            ],
            "text/plain": [
              "         ID   n     s     v\n",
              "0  20946596   0   153  6760\n",
              "1  22536401   0  5709  1124\n",
              "2  22682373   0  1617   204\n",
              "3  22785668   0   266  3930\n",
              "4  22955826  15   690   170"
            ]
          },
          "metadata": {
            "tags": []
          },
          "execution_count": 33
        }
      ]
    },
    {
      "cell_type": "markdown",
      "metadata": {
        "id": "Sw8WhzETUf_x",
        "colab_type": "text"
      },
      "source": [
        "#### Selection criteria"
      ]
    },
    {
      "cell_type": "markdown",
      "metadata": {
        "id": "aS97wwahVciY",
        "colab_type": "text"
      },
      "source": [
        "1. The number of notification events are more than 10\n",
        "2. We compared notification inter-checking intervals from those who use both vibration and silent modes.\n",
        "3. Therefore, we excluded participants who focused only on one modality.\n"
      ]
    },
    {
      "cell_type": "code",
      "metadata": {
        "id": "OIncx2X9U9iw",
        "colab_type": "code",
        "colab": {}
      },
      "source": [
        "v=0\n",
        "s=0\n",
        "v_s=0\n",
        "ot=0\n",
        "selected_ID=[]\n",
        "for i in range(len(modality_df)):\n",
        "    if modality_df['s'][i]<=10 and modality_df['v'][i]<=10:\n",
        "        continue\n",
        "    elif modality_df['n'][i]>800:\n",
        "        ot+=1\n",
        "    elif modality_df['s'][i]> modality_df['v'][i]*50:\n",
        "        s+=1\n",
        "    elif modality_df['s'][i]*50 < modality_df['v'][i]:\n",
        "        v+=1\n",
        "    else:\n",
        "        v_s+=1\n",
        "        selected_ID.append(modality_df['ID'][i])"
      ],
      "execution_count": null,
      "outputs": []
    },
    {
      "cell_type": "code",
      "metadata": {
        "id": "qfREx3aBVAPu",
        "colab_type": "code",
        "colab": {
          "base_uri": "https://localhost:8080/",
          "height": 34
        },
        "outputId": "4705c6b0-2ee6-4e7c-ee33-465981283897"
      },
      "source": [
        "print(\"The number of selected students is {}\".format(v_s))"
      ],
      "execution_count": null,
      "outputs": [
        {
          "output_type": "stream",
          "text": [
            "The number of selected students is 49\n"
          ],
          "name": "stdout"
        }
      ]
    },
    {
      "cell_type": "markdown",
      "metadata": {
        "id": "Gkn_h3GmWl9C",
        "colab_type": "text"
      },
      "source": [
        "#### Comparison"
      ]
    },
    {
      "cell_type": "code",
      "metadata": {
        "id": "wtNEKcrafGHs",
        "colab_type": "code",
        "colab": {}
      },
      "source": [
        "vib_mean=[]\n",
        "vib_median=[]\n",
        "sil_mean=[]\n",
        "sil_median=[]\n",
        "vib_per_class=[]\n",
        "sil_per_class=[]\n",
        "p_value=[]\n",
        "ID_list=[]\n",
        "for ID in IDlist:\n",
        "    print(ID)\n",
        "    df_mode=pd.read_csv(\"/content/gdrive/My Drive/project (1)/raw_data/\"+ID+\"/RINGER_\"+ID+\".csv\" , error_bad_lines=False)\n",
        "    df_noti=pd.read_csv(\"/content/gdrive/My Drive/project (1)/raw_data/\"+ID+\"/NOTIFICATION_\"+ID+\".csv\" , error_bad_lines=False)\n",
        "    df_noti['timestamp']=df_noti.iloc[:,1:2].applymap(remove_space)\n",
        "    df_noti['day']=df_noti.iloc[:,1:2].applymap(day)\n",
        "\n",
        "    for i in range(len(df_mode)-1):\n",
        "        start_time=df_mode['timestamp'][i]\n",
        "        end_time=df_mode['timestamp'][i+1]\n",
        "        df_noti.loc[(start_time <= df_noti.timestamp) & (df_noti.timestamp< end_time), 'modality']=df_mode[' mode'][i]\n",
        "\n",
        "    df_kakao=df_noti[df_noti[' package']==' com.kakao.talk'].reset_index(drop=True)\n",
        "    if len(df_kakao)==0:\n",
        "        print(\"Removed ID\"+ ID)\n",
        "        continue\n",
        "    prev_class=df_kakao['classname'][0]\n",
        "    start=0\n",
        "    for i in range(len(df_kakao)):\n",
        "        curr_class=df_kakao['classname'][i]\n",
        "        if prev_class!=curr_class:\n",
        "            end=i\n",
        "            mode=df_kakao.iloc[start:end].groupby(\"modality\").count().reset_index().sort_values(['modality'], ascending=False)['modality'][0]\n",
        "            df_kakao[start:end]['modality']=mode\n",
        "            start=end\n",
        "        prev_class=curr_class\n",
        "    \n",
        "    df_kakao[\"start_time\"]=None\n",
        "    for i in range(len(df_kakao)):\n",
        "        df_kakao[\"start_time\"][i]=class_list[df_kakao['classname'][i]]\n",
        "        \n",
        "    df_kakao[\"start_time\"]=df_kakao.iloc[:,9:10].applymap(start_time1)\n",
        "    df_kakao[\"Second\"]=df_kakao.iloc[:,1:2].applymap(time_transform)\n",
        "    \n",
        "    df_kakao_vib=df_kakao[df_kakao['modality']==' vibrate'].reset_index(drop=True)\n",
        "    df_kakao_sil=df_kakao[df_kakao['modality']==' silent'].reset_index(drop=True)\n",
        "    \n",
        "    if len(df_kakao_vib)==0 or len(df_kakao_sil)==0:\n",
        "        print(\"Removed ID\"+ ID)\n",
        " \n",
        "        continue\n",
        "    \n",
        "    df_kakao_vib['removal_interval']=None\n",
        "    prev_class=None\n",
        "    prev_time=None\n",
        "    prev_type=None\n",
        "    for i in range(len(df_kakao_vib)):\n",
        "        if df_kakao_vib[' type'][i]==' POSTED':\n",
        "            prev_type=' POSTED'\n",
        "            continue\n",
        "\n",
        "        curr_class=df_kakao_vib['classname'][i]\n",
        "        curr_time=df_kakao_vib['Second'][i]\n",
        "        curr_type=df_kakao_vib[' type'][i]\n",
        "        if prev_class!=curr_class:\n",
        "            df_kakao_vib['removal_interval'][i]=curr_time-df_kakao_vib['start_time'][i]\n",
        "            prev_class=curr_class\n",
        "            prev_time=curr_time\n",
        "            prev_type=curr_type\n",
        "        else:\n",
        "            if prev_type!=curr_type:\n",
        "                df_kakao_vib['removal_interval'][i]=curr_time-prev_time\n",
        "                prev_class=curr_class\n",
        "                prev_time=curr_time\n",
        "                prev_type=curr_type\n",
        "    df_kakao_vib_removed=df_kakao_vib[df_kakao_vib[' type']==' REMOVED'].dropna(axis=0).reset_index(drop=True)\n",
        "    \n",
        "    df_kakao_sil['removal_interval']=None\n",
        "    prev_class=None\n",
        "    prev_time=None\n",
        "    prev_type=None\n",
        "    for i in range(len(df_kakao_sil)):\n",
        "        if df_kakao_sil[' type'][i]==' POSTED':\n",
        "            prev_type=' POSTED'\n",
        "            continue\n",
        "\n",
        "        curr_class=df_kakao_sil['classname'][i]\n",
        "        curr_time=df_kakao_sil['Second'][i]\n",
        "        curr_type=df_kakao_sil[' type'][i]\n",
        "        if prev_class!=curr_class:\n",
        "            df_kakao_sil['removal_interval'][i]=curr_time-df_kakao_sil['start_time'][i]\n",
        "            prev_class=curr_class\n",
        "            prev_time=curr_time\n",
        "            prev_type=curr_type\n",
        "        else:\n",
        "            if prev_type!=curr_type:\n",
        "                df_kakao_sil['removal_interval'][i]=curr_time-prev_time\n",
        "                prev_class=curr_class\n",
        "                prev_time=curr_time\n",
        "                prev_type=curr_type\n",
        "    df_kakao_sil_removed=df_kakao_sil[df_kakao_sil[' type']==' REMOVED'].dropna(axis=0).reset_index(drop=True)\n",
        "    \n",
        "    if len(df_kakao_vib_removed.groupby(['classname', 'day']).count())==0 or len(df_kakao_sil_removed.groupby(['classname', 'day']).count())==0:\n",
        "        print(\"Removed ID2\"+ ID)\n",
        "        \n",
        "        continue\n",
        "    ID_list.append(ID)\n",
        "    vib_mean.append(df_kakao_vib_removed['removal_interval'].mean())\n",
        "    sil_mean.append(df_kakao_sil_removed['removal_interval'].mean())\n",
        "    vib_median.append(df_kakao_vib_removed['removal_interval'].median())\n",
        "    sil_median.append(df_kakao_sil_removed['removal_interval'].median())\n",
        "    vib_per_class.append(len(df_kakao_vib_removed)/len(df_kakao_vib_removed.groupby(['classname', 'day']).count()))\n",
        "    sil_per_class.append(len(df_kakao_sil_removed)/len(df_kakao_sil_removed.groupby(['classname', 'day']).count()))\n",
        "    p_value.append(stats.ttest_ind(df_kakao_vib_removed.removal_interval,df_kakao_sil_removed.removal_interval, equal_var=False)[1])"
      ],
      "execution_count": null,
      "outputs": []
    },
    {
      "cell_type": "markdown",
      "metadata": {
        "id": "yfOHIh4Am3pB",
        "colab_type": "text"
      },
      "source": [
        "###Result"
      ]
    },
    {
      "cell_type": "code",
      "metadata": {
        "id": "SqyA9H5PW-Jr",
        "colab_type": "code",
        "colab": {}
      },
      "source": [
        "result={\"ID\": ID_list, \"vib mean\": vib_mean, \"sil_mean\": sil_mean ,\"p value\": p_value}\n",
        "result=pd.DataFrame(result)"
      ],
      "execution_count": null,
      "outputs": []
    },
    {
      "cell_type": "code",
      "metadata": {
        "id": "JqE1e1tMVgyj",
        "colab_type": "code",
        "colab": {
          "base_uri": "https://localhost:8080/",
          "height": 1000
        },
        "outputId": "2e6e2e0d-348f-4c3c-9166-b758cb3dbcab"
      },
      "source": [
        "result"
      ],
      "execution_count": null,
      "outputs": [
        {
          "output_type": "execute_result",
          "data": {
            "text/html": [
              "<div>\n",
              "<style scoped>\n",
              "    .dataframe tbody tr th:only-of-type {\n",
              "        vertical-align: middle;\n",
              "    }\n",
              "\n",
              "    .dataframe tbody tr th {\n",
              "        vertical-align: top;\n",
              "    }\n",
              "\n",
              "    .dataframe thead th {\n",
              "        text-align: right;\n",
              "    }\n",
              "</style>\n",
              "<table border=\"1\" class=\"dataframe\">\n",
              "  <thead>\n",
              "    <tr style=\"text-align: right;\">\n",
              "      <th></th>\n",
              "      <th>ID</th>\n",
              "      <th>p value</th>\n",
              "      <th>sil_mean</th>\n",
              "      <th>vib mean</th>\n",
              "    </tr>\n",
              "  </thead>\n",
              "  <tbody>\n",
              "    <tr>\n",
              "      <th>0</th>\n",
              "      <td>20946596</td>\n",
              "      <td>0.958675</td>\n",
              "      <td>336.272727</td>\n",
              "      <td>345.357962</td>\n",
              "    </tr>\n",
              "    <tr>\n",
              "      <th>1</th>\n",
              "      <td>22536401</td>\n",
              "      <td>0.870821</td>\n",
              "      <td>911.657143</td>\n",
              "      <td>858.437500</td>\n",
              "    </tr>\n",
              "    <tr>\n",
              "      <th>2</th>\n",
              "      <td>22682373</td>\n",
              "      <td>0.957559</td>\n",
              "      <td>330.760349</td>\n",
              "      <td>342.666667</td>\n",
              "    </tr>\n",
              "    <tr>\n",
              "      <th>3</th>\n",
              "      <td>22785668</td>\n",
              "      <td>0.003244</td>\n",
              "      <td>144.162791</td>\n",
              "      <td>290.727453</td>\n",
              "    </tr>\n",
              "    <tr>\n",
              "      <th>4</th>\n",
              "      <td>22955826</td>\n",
              "      <td>0.743624</td>\n",
              "      <td>261.016949</td>\n",
              "      <td>321.468750</td>\n",
              "    </tr>\n",
              "    <tr>\n",
              "      <th>5</th>\n",
              "      <td>24897713</td>\n",
              "      <td>0.439871</td>\n",
              "      <td>241.156863</td>\n",
              "      <td>217.195212</td>\n",
              "    </tr>\n",
              "    <tr>\n",
              "      <th>6</th>\n",
              "      <td>25063234</td>\n",
              "      <td>0.663924</td>\n",
              "      <td>299.411531</td>\n",
              "      <td>448.380952</td>\n",
              "    </tr>\n",
              "    <tr>\n",
              "      <th>7</th>\n",
              "      <td>25464368</td>\n",
              "      <td>0.414631</td>\n",
              "      <td>559.812500</td>\n",
              "      <td>439.347032</td>\n",
              "    </tr>\n",
              "    <tr>\n",
              "      <th>8</th>\n",
              "      <td>27502754</td>\n",
              "      <td>0.003407</td>\n",
              "      <td>580.178218</td>\n",
              "      <td>1986.000000</td>\n",
              "    </tr>\n",
              "    <tr>\n",
              "      <th>9</th>\n",
              "      <td>27965866</td>\n",
              "      <td>0.300766</td>\n",
              "      <td>96.034871</td>\n",
              "      <td>70.000000</td>\n",
              "    </tr>\n",
              "    <tr>\n",
              "      <th>10</th>\n",
              "      <td>32646509</td>\n",
              "      <td>0.607968</td>\n",
              "      <td>600.758621</td>\n",
              "      <td>686.350000</td>\n",
              "    </tr>\n",
              "    <tr>\n",
              "      <th>11</th>\n",
              "      <td>38781420</td>\n",
              "      <td>0.850067</td>\n",
              "      <td>364.632353</td>\n",
              "      <td>378.276923</td>\n",
              "    </tr>\n",
              "    <tr>\n",
              "      <th>12</th>\n",
              "      <td>39203876</td>\n",
              "      <td>0.398307</td>\n",
              "      <td>214.205303</td>\n",
              "      <td>2169.500000</td>\n",
              "    </tr>\n",
              "    <tr>\n",
              "      <th>13</th>\n",
              "      <td>40325607</td>\n",
              "      <td>0.022369</td>\n",
              "      <td>326.056848</td>\n",
              "      <td>228.220000</td>\n",
              "    </tr>\n",
              "    <tr>\n",
              "      <th>14</th>\n",
              "      <td>40523189</td>\n",
              "      <td>0.399366</td>\n",
              "      <td>399.545455</td>\n",
              "      <td>508.855346</td>\n",
              "    </tr>\n",
              "    <tr>\n",
              "      <th>15</th>\n",
              "      <td>41860680</td>\n",
              "      <td>0.102385</td>\n",
              "      <td>401.058824</td>\n",
              "      <td>739.375000</td>\n",
              "    </tr>\n",
              "    <tr>\n",
              "      <th>16</th>\n",
              "      <td>41884980</td>\n",
              "      <td>0.027280</td>\n",
              "      <td>352.851351</td>\n",
              "      <td>541.221719</td>\n",
              "    </tr>\n",
              "    <tr>\n",
              "      <th>17</th>\n",
              "      <td>46029500</td>\n",
              "      <td>0.142186</td>\n",
              "      <td>404.456522</td>\n",
              "      <td>554.432432</td>\n",
              "    </tr>\n",
              "    <tr>\n",
              "      <th>18</th>\n",
              "      <td>47043065</td>\n",
              "      <td>0.007832</td>\n",
              "      <td>230.966102</td>\n",
              "      <td>535.269912</td>\n",
              "    </tr>\n",
              "    <tr>\n",
              "      <th>19</th>\n",
              "      <td>48152807</td>\n",
              "      <td>0.179050</td>\n",
              "      <td>318.313629</td>\n",
              "      <td>418.420000</td>\n",
              "    </tr>\n",
              "    <tr>\n",
              "      <th>20</th>\n",
              "      <td>50116575</td>\n",
              "      <td>0.918820</td>\n",
              "      <td>255.030211</td>\n",
              "      <td>247.372549</td>\n",
              "    </tr>\n",
              "    <tr>\n",
              "      <th>21</th>\n",
              "      <td>50636732</td>\n",
              "      <td>0.516059</td>\n",
              "      <td>309.535368</td>\n",
              "      <td>350.462069</td>\n",
              "    </tr>\n",
              "    <tr>\n",
              "      <th>22</th>\n",
              "      <td>50679144</td>\n",
              "      <td>0.480233</td>\n",
              "      <td>430.520161</td>\n",
              "      <td>512.400000</td>\n",
              "    </tr>\n",
              "    <tr>\n",
              "      <th>23</th>\n",
              "      <td>51218616</td>\n",
              "      <td>0.981159</td>\n",
              "      <td>305.549374</td>\n",
              "      <td>299.764706</td>\n",
              "    </tr>\n",
              "    <tr>\n",
              "      <th>24</th>\n",
              "      <td>51504685</td>\n",
              "      <td>0.514915</td>\n",
              "      <td>229.827083</td>\n",
              "      <td>316.120000</td>\n",
              "    </tr>\n",
              "    <tr>\n",
              "      <th>25</th>\n",
              "      <td>52069902</td>\n",
              "      <td>0.196065</td>\n",
              "      <td>314.835832</td>\n",
              "      <td>640.428571</td>\n",
              "    </tr>\n",
              "    <tr>\n",
              "      <th>26</th>\n",
              "      <td>52565188</td>\n",
              "      <td>0.041618</td>\n",
              "      <td>158.284553</td>\n",
              "      <td>263.857605</td>\n",
              "    </tr>\n",
              "    <tr>\n",
              "      <th>27</th>\n",
              "      <td>53789312</td>\n",
              "      <td>0.809130</td>\n",
              "      <td>358.071429</td>\n",
              "      <td>399.077821</td>\n",
              "    </tr>\n",
              "    <tr>\n",
              "      <th>28</th>\n",
              "      <td>53999376</td>\n",
              "      <td>0.835147</td>\n",
              "      <td>384.265176</td>\n",
              "      <td>363.245614</td>\n",
              "    </tr>\n",
              "    <tr>\n",
              "      <th>29</th>\n",
              "      <td>57623951</td>\n",
              "      <td>0.151568</td>\n",
              "      <td>306.600000</td>\n",
              "      <td>767.800000</td>\n",
              "    </tr>\n",
              "    <tr>\n",
              "      <th>30</th>\n",
              "      <td>57670750</td>\n",
              "      <td>0.042359</td>\n",
              "      <td>216.790865</td>\n",
              "      <td>773.727273</td>\n",
              "    </tr>\n",
              "    <tr>\n",
              "      <th>31</th>\n",
              "      <td>58201289</td>\n",
              "      <td>0.346969</td>\n",
              "      <td>68.957447</td>\n",
              "      <td>146.625000</td>\n",
              "    </tr>\n",
              "    <tr>\n",
              "      <th>32</th>\n",
              "      <td>63987688</td>\n",
              "      <td>0.000147</td>\n",
              "      <td>482.699208</td>\n",
              "      <td>173.707143</td>\n",
              "    </tr>\n",
              "    <tr>\n",
              "      <th>33</th>\n",
              "      <td>64912412</td>\n",
              "      <td>0.349298</td>\n",
              "      <td>1296.548387</td>\n",
              "      <td>2255.666667</td>\n",
              "    </tr>\n",
              "    <tr>\n",
              "      <th>34</th>\n",
              "      <td>66080208</td>\n",
              "      <td>0.032062</td>\n",
              "      <td>835.834586</td>\n",
              "      <td>3064.333333</td>\n",
              "    </tr>\n",
              "    <tr>\n",
              "      <th>35</th>\n",
              "      <td>67973507</td>\n",
              "      <td>0.121740</td>\n",
              "      <td>90.218519</td>\n",
              "      <td>123.332891</td>\n",
              "    </tr>\n",
              "    <tr>\n",
              "      <th>36</th>\n",
              "      <td>71264204</td>\n",
              "      <td>0.166303</td>\n",
              "      <td>375.033333</td>\n",
              "      <td>872.297297</td>\n",
              "    </tr>\n",
              "    <tr>\n",
              "      <th>37</th>\n",
              "      <td>75197570</td>\n",
              "      <td>0.448832</td>\n",
              "      <td>955.000000</td>\n",
              "      <td>448.759312</td>\n",
              "    </tr>\n",
              "    <tr>\n",
              "      <th>38</th>\n",
              "      <td>76674752</td>\n",
              "      <td>0.162255</td>\n",
              "      <td>354.533333</td>\n",
              "      <td>480.797619</td>\n",
              "    </tr>\n",
              "    <tr>\n",
              "      <th>39</th>\n",
              "      <td>76727067</td>\n",
              "      <td>0.135808</td>\n",
              "      <td>881.716667</td>\n",
              "      <td>1148.509804</td>\n",
              "    </tr>\n",
              "    <tr>\n",
              "      <th>40</th>\n",
              "      <td>86202124</td>\n",
              "      <td>0.648263</td>\n",
              "      <td>702.099196</td>\n",
              "      <td>585.230769</td>\n",
              "    </tr>\n",
              "    <tr>\n",
              "      <th>41</th>\n",
              "      <td>87809201</td>\n",
              "      <td>0.537319</td>\n",
              "      <td>509.173333</td>\n",
              "      <td>564.402381</td>\n",
              "    </tr>\n",
              "    <tr>\n",
              "      <th>42</th>\n",
              "      <td>89215319</td>\n",
              "      <td>0.009103</td>\n",
              "      <td>536.448193</td>\n",
              "      <td>1053.339623</td>\n",
              "    </tr>\n",
              "    <tr>\n",
              "      <th>43</th>\n",
              "      <td>89242282</td>\n",
              "      <td>0.575574</td>\n",
              "      <td>340.489362</td>\n",
              "      <td>392.679144</td>\n",
              "    </tr>\n",
              "    <tr>\n",
              "      <th>44</th>\n",
              "      <td>89594101</td>\n",
              "      <td>0.874678</td>\n",
              "      <td>610.724576</td>\n",
              "      <td>565.500000</td>\n",
              "    </tr>\n",
              "    <tr>\n",
              "      <th>45</th>\n",
              "      <td>89751274</td>\n",
              "      <td>0.001681</td>\n",
              "      <td>247.158974</td>\n",
              "      <td>1152.687500</td>\n",
              "    </tr>\n",
              "    <tr>\n",
              "      <th>46</th>\n",
              "      <td>92369558</td>\n",
              "      <td>0.283061</td>\n",
              "      <td>595.195122</td>\n",
              "      <td>1663.250000</td>\n",
              "    </tr>\n",
              "    <tr>\n",
              "      <th>47</th>\n",
              "      <td>94766746</td>\n",
              "      <td>0.007506</td>\n",
              "      <td>212.691466</td>\n",
              "      <td>359.439815</td>\n",
              "    </tr>\n",
              "    <tr>\n",
              "      <th>48</th>\n",
              "      <td>95983626</td>\n",
              "      <td>0.936986</td>\n",
              "      <td>243.214286</td>\n",
              "      <td>245.863081</td>\n",
              "    </tr>\n",
              "  </tbody>\n",
              "</table>\n",
              "</div>"
            ],
            "text/plain": [
              "          ID   p value     sil_mean     vib mean\n",
              "0   20946596  0.958675   336.272727   345.357962\n",
              "1   22536401  0.870821   911.657143   858.437500\n",
              "2   22682373  0.957559   330.760349   342.666667\n",
              "3   22785668  0.003244   144.162791   290.727453\n",
              "4   22955826  0.743624   261.016949   321.468750\n",
              "5   24897713  0.439871   241.156863   217.195212\n",
              "6   25063234  0.663924   299.411531   448.380952\n",
              "7   25464368  0.414631   559.812500   439.347032\n",
              "8   27502754  0.003407   580.178218  1986.000000\n",
              "9   27965866  0.300766    96.034871    70.000000\n",
              "10  32646509  0.607968   600.758621   686.350000\n",
              "11  38781420  0.850067   364.632353   378.276923\n",
              "12  39203876  0.398307   214.205303  2169.500000\n",
              "13  40325607  0.022369   326.056848   228.220000\n",
              "14  40523189  0.399366   399.545455   508.855346\n",
              "15  41860680  0.102385   401.058824   739.375000\n",
              "16  41884980  0.027280   352.851351   541.221719\n",
              "17  46029500  0.142186   404.456522   554.432432\n",
              "18  47043065  0.007832   230.966102   535.269912\n",
              "19  48152807  0.179050   318.313629   418.420000\n",
              "20  50116575  0.918820   255.030211   247.372549\n",
              "21  50636732  0.516059   309.535368   350.462069\n",
              "22  50679144  0.480233   430.520161   512.400000\n",
              "23  51218616  0.981159   305.549374   299.764706\n",
              "24  51504685  0.514915   229.827083   316.120000\n",
              "25  52069902  0.196065   314.835832   640.428571\n",
              "26  52565188  0.041618   158.284553   263.857605\n",
              "27  53789312  0.809130   358.071429   399.077821\n",
              "28  53999376  0.835147   384.265176   363.245614\n",
              "29  57623951  0.151568   306.600000   767.800000\n",
              "30  57670750  0.042359   216.790865   773.727273\n",
              "31  58201289  0.346969    68.957447   146.625000\n",
              "32  63987688  0.000147   482.699208   173.707143\n",
              "33  64912412  0.349298  1296.548387  2255.666667\n",
              "34  66080208  0.032062   835.834586  3064.333333\n",
              "35  67973507  0.121740    90.218519   123.332891\n",
              "36  71264204  0.166303   375.033333   872.297297\n",
              "37  75197570  0.448832   955.000000   448.759312\n",
              "38  76674752  0.162255   354.533333   480.797619\n",
              "39  76727067  0.135808   881.716667  1148.509804\n",
              "40  86202124  0.648263   702.099196   585.230769\n",
              "41  87809201  0.537319   509.173333   564.402381\n",
              "42  89215319  0.009103   536.448193  1053.339623\n",
              "43  89242282  0.575574   340.489362   392.679144\n",
              "44  89594101  0.874678   610.724576   565.500000\n",
              "45  89751274  0.001681   247.158974  1152.687500\n",
              "46  92369558  0.283061   595.195122  1663.250000\n",
              "47  94766746  0.007506   212.691466   359.439815\n",
              "48  95983626  0.936986   243.214286   245.863081"
            ]
          },
          "metadata": {
            "tags": []
          },
          "execution_count": 28
        }
      ]
    },
    {
      "cell_type": "code",
      "metadata": {
        "id": "zY3yGyghXBqL",
        "colab_type": "code",
        "colab": {
          "base_uri": "https://localhost:8080/",
          "height": 34
        },
        "outputId": "24b8df30-14ce-45e0-df2b-54e395b0f719"
      },
      "source": [
        "len(result[result['p value']>=0.05])"
      ],
      "execution_count": null,
      "outputs": [
        {
          "output_type": "execute_result",
          "data": {
            "text/plain": [
              "37"
            ]
          },
          "metadata": {
            "tags": []
          },
          "execution_count": 29
        }
      ]
    },
    {
      "cell_type": "code",
      "metadata": {
        "id": "mvzts5KxVLBV",
        "colab_type": "code",
        "colab": {
          "base_uri": "https://localhost:8080/",
          "height": 34
        },
        "outputId": "9c6ce5b3-4e41-470d-b5d3-b8fe16ae0952"
      },
      "source": [
        "len(result[result['p value']<=0.05])"
      ],
      "execution_count": null,
      "outputs": [
        {
          "output_type": "execute_result",
          "data": {
            "text/plain": [
              "12"
            ]
          },
          "metadata": {
            "tags": []
          },
          "execution_count": 30
        }
      ]
    },
    {
      "cell_type": "code",
      "metadata": {
        "id": "9Bn-qcYXXB9E",
        "colab_type": "code",
        "colab": {
          "base_uri": "https://localhost:8080/",
          "height": 421
        },
        "outputId": "6c7f762a-7882-49a9-fc8f-68f8dea4c121"
      },
      "source": [
        "result[result['p value']<=0.05]"
      ],
      "execution_count": null,
      "outputs": [
        {
          "output_type": "execute_result",
          "data": {
            "text/html": [
              "<div>\n",
              "<style scoped>\n",
              "    .dataframe tbody tr th:only-of-type {\n",
              "        vertical-align: middle;\n",
              "    }\n",
              "\n",
              "    .dataframe tbody tr th {\n",
              "        vertical-align: top;\n",
              "    }\n",
              "\n",
              "    .dataframe thead th {\n",
              "        text-align: right;\n",
              "    }\n",
              "</style>\n",
              "<table border=\"1\" class=\"dataframe\">\n",
              "  <thead>\n",
              "    <tr style=\"text-align: right;\">\n",
              "      <th></th>\n",
              "      <th>ID</th>\n",
              "      <th>p value</th>\n",
              "      <th>sil_mean</th>\n",
              "      <th>vib mean</th>\n",
              "    </tr>\n",
              "  </thead>\n",
              "  <tbody>\n",
              "    <tr>\n",
              "      <th>3</th>\n",
              "      <td>22785668</td>\n",
              "      <td>0.003244</td>\n",
              "      <td>144.162791</td>\n",
              "      <td>290.727453</td>\n",
              "    </tr>\n",
              "    <tr>\n",
              "      <th>8</th>\n",
              "      <td>27502754</td>\n",
              "      <td>0.003407</td>\n",
              "      <td>580.178218</td>\n",
              "      <td>1986.000000</td>\n",
              "    </tr>\n",
              "    <tr>\n",
              "      <th>13</th>\n",
              "      <td>40325607</td>\n",
              "      <td>0.022369</td>\n",
              "      <td>326.056848</td>\n",
              "      <td>228.220000</td>\n",
              "    </tr>\n",
              "    <tr>\n",
              "      <th>16</th>\n",
              "      <td>41884980</td>\n",
              "      <td>0.027280</td>\n",
              "      <td>352.851351</td>\n",
              "      <td>541.221719</td>\n",
              "    </tr>\n",
              "    <tr>\n",
              "      <th>18</th>\n",
              "      <td>47043065</td>\n",
              "      <td>0.007832</td>\n",
              "      <td>230.966102</td>\n",
              "      <td>535.269912</td>\n",
              "    </tr>\n",
              "    <tr>\n",
              "      <th>26</th>\n",
              "      <td>52565188</td>\n",
              "      <td>0.041618</td>\n",
              "      <td>158.284553</td>\n",
              "      <td>263.857605</td>\n",
              "    </tr>\n",
              "    <tr>\n",
              "      <th>30</th>\n",
              "      <td>57670750</td>\n",
              "      <td>0.042359</td>\n",
              "      <td>216.790865</td>\n",
              "      <td>773.727273</td>\n",
              "    </tr>\n",
              "    <tr>\n",
              "      <th>32</th>\n",
              "      <td>63987688</td>\n",
              "      <td>0.000147</td>\n",
              "      <td>482.699208</td>\n",
              "      <td>173.707143</td>\n",
              "    </tr>\n",
              "    <tr>\n",
              "      <th>34</th>\n",
              "      <td>66080208</td>\n",
              "      <td>0.032062</td>\n",
              "      <td>835.834586</td>\n",
              "      <td>3064.333333</td>\n",
              "    </tr>\n",
              "    <tr>\n",
              "      <th>42</th>\n",
              "      <td>89215319</td>\n",
              "      <td>0.009103</td>\n",
              "      <td>536.448193</td>\n",
              "      <td>1053.339623</td>\n",
              "    </tr>\n",
              "    <tr>\n",
              "      <th>45</th>\n",
              "      <td>89751274</td>\n",
              "      <td>0.001681</td>\n",
              "      <td>247.158974</td>\n",
              "      <td>1152.687500</td>\n",
              "    </tr>\n",
              "    <tr>\n",
              "      <th>47</th>\n",
              "      <td>94766746</td>\n",
              "      <td>0.007506</td>\n",
              "      <td>212.691466</td>\n",
              "      <td>359.439815</td>\n",
              "    </tr>\n",
              "  </tbody>\n",
              "</table>\n",
              "</div>"
            ],
            "text/plain": [
              "          ID   p value    sil_mean     vib mean\n",
              "3   22785668  0.003244  144.162791   290.727453\n",
              "8   27502754  0.003407  580.178218  1986.000000\n",
              "13  40325607  0.022369  326.056848   228.220000\n",
              "16  41884980  0.027280  352.851351   541.221719\n",
              "18  47043065  0.007832  230.966102   535.269912\n",
              "26  52565188  0.041618  158.284553   263.857605\n",
              "30  57670750  0.042359  216.790865   773.727273\n",
              "32  63987688  0.000147  482.699208   173.707143\n",
              "34  66080208  0.032062  835.834586  3064.333333\n",
              "42  89215319  0.009103  536.448193  1053.339623\n",
              "45  89751274  0.001681  247.158974  1152.687500\n",
              "47  94766746  0.007506  212.691466   359.439815"
            ]
          },
          "metadata": {
            "tags": []
          },
          "execution_count": 31
        }
      ]
    },
    {
      "cell_type": "markdown",
      "metadata": {
        "id": "cqHdV371X5E0",
        "colab_type": "text"
      },
      "source": [
        "#Modeling"
      ]
    },
    {
      "cell_type": "markdown",
      "metadata": {
        "id": "qboNh8btmnkQ",
        "colab_type": "text"
      },
      "source": [
        "The arrival factor is also dependent on modality (sound, silence, or vibration), and thus, its relationship with the checking factor (inter-checking interval) was statistically tested through hypothesis testing."
      ]
    },
    {
      "cell_type": "markdown",
      "metadata": {
        "id": "0tWMaIrVlHD0",
        "colab_type": "text"
      },
      "source": [
        "##Multiple Regression"
      ]
    },
    {
      "cell_type": "markdown",
      "metadata": {
        "id": "w3h-sAcErQg7",
        "colab_type": "text"
      },
      "source": [
        " we performed a hierarchical multiple regression on the student's end-of-semester GPAs. The first block included a students' gender and addiction score as a baseline, the second block additionally includes session-level smartphone usage metrics. The remaining metrics were included in the third block, i.e., in-class notification arrival/checking metrics and its reaction preference"
      ]
    },
    {
      "cell_type": "code",
      "metadata": {
        "id": "Ofri0gNEclcT",
        "colab_type": "code",
        "colab": {
          "base_uri": "https://localhost:8080/",
          "height": 53
        },
        "outputId": "a5a11687-d1cd-4d75-cad5-c60a4c967a29"
      },
      "source": [
        "from patsy import dmatrices\n",
        "import statsmodels.api as sm\n",
        "from statsmodels.stats.outliers_influence import variance_inflation_factor"
      ],
      "execution_count": null,
      "outputs": [
        {
          "output_type": "stream",
          "text": [
            "/usr/local/lib/python3.6/dist-packages/statsmodels/tools/_testing.py:19: FutureWarning: pandas.util.testing is deprecated. Use the functions in the public API at pandas.testing instead.\n",
            "  import pandas.util.testing as tm\n"
          ],
          "name": "stderr"
        }
      ]
    },
    {
      "cell_type": "code",
      "metadata": {
        "id": "DEDNAyzgaqOQ",
        "colab_type": "code",
        "colab": {
          "base_uri": "https://localhost:8080/",
          "height": 224
        },
        "outputId": "7948c67a-bd6d-4e4b-de89-80070e4aff95"
      },
      "source": [
        "# Setting for regression: Convert gender to dummy variable\n",
        "df_overall= pd.get_dummies(df_overall, columns=['Gender'])\n",
        "df_overall=df_overall.rename(columns={\"Gender_ F\":\"Gender_F\", \"Gender_ M\":\"Gender_M\" })\n",
        "df_overall.head()"
      ],
      "execution_count": null,
      "outputs": [
        {
          "output_type": "execute_result",
          "data": {
            "text/html": [
              "<div>\n",
              "<style scoped>\n",
              "    .dataframe tbody tr th:only-of-type {\n",
              "        vertical-align: middle;\n",
              "    }\n",
              "\n",
              "    .dataframe tbody tr th {\n",
              "        vertical-align: top;\n",
              "    }\n",
              "\n",
              "    .dataframe thead th {\n",
              "        text-align: right;\n",
              "    }\n",
              "</style>\n",
              "<table border=\"1\" class=\"dataframe\">\n",
              "  <thead>\n",
              "    <tr style=\"text-align: right;\">\n",
              "      <th></th>\n",
              "      <th>ID</th>\n",
              "      <th>overall_usgae</th>\n",
              "      <th>average_usgae</th>\n",
              "      <th>overall_app</th>\n",
              "      <th>average_app</th>\n",
              "      <th>overall_interaction</th>\n",
              "      <th>average_interaction</th>\n",
              "      <th>E_ig_per_class</th>\n",
              "      <th>E_nl_per_class</th>\n",
              "      <th>E_nu_per_class</th>\n",
              "      <th>E_uu_per_class</th>\n",
              "      <th>I_uu_per_class</th>\n",
              "      <th>E_nu_duration</th>\n",
              "      <th>E_uu_duration</th>\n",
              "      <th>I_uu_duration</th>\n",
              "      <th>E_nu_app</th>\n",
              "      <th>E_uu_app</th>\n",
              "      <th>I_uu_app</th>\n",
              "      <th>E_nu_interaction</th>\n",
              "      <th>E_uu_interaction</th>\n",
              "      <th>I_uu_interaction</th>\n",
              "      <th>E_ig_preference</th>\n",
              "      <th>E_nl_preference</th>\n",
              "      <th>E_nu_preference</th>\n",
              "      <th>E_uu_preference</th>\n",
              "      <th>inter_arrival_interval</th>\n",
              "      <th>inter_checking_interval</th>\n",
              "      <th>number_of_arrivals</th>\n",
              "      <th>number_of_checkings</th>\n",
              "      <th>Addiction</th>\n",
              "      <th>GPA</th>\n",
              "      <th>Gender_F</th>\n",
              "      <th>Gender_M</th>\n",
              "    </tr>\n",
              "  </thead>\n",
              "  <tbody>\n",
              "    <tr>\n",
              "      <th>0</th>\n",
              "      <td>20946596</td>\n",
              "      <td>1589.973420</td>\n",
              "      <td>255.836708</td>\n",
              "      <td>19.938272</td>\n",
              "      <td>3.197640</td>\n",
              "      <td>913.802469</td>\n",
              "      <td>156.117246</td>\n",
              "      <td>2.35</td>\n",
              "      <td>2.83</td>\n",
              "      <td>1.96</td>\n",
              "      <td>1.86</td>\n",
              "      <td>4.99</td>\n",
              "      <td>351.45</td>\n",
              "      <td>199.10</td>\n",
              "      <td>242.55</td>\n",
              "      <td>4.34</td>\n",
              "      <td>3.64</td>\n",
              "      <td>2.79</td>\n",
              "      <td>171.91</td>\n",
              "      <td>133.24</td>\n",
              "      <td>153.40</td>\n",
              "      <td>0.39</td>\n",
              "      <td>0.44</td>\n",
              "      <td>0.42</td>\n",
              "      <td>0.26</td>\n",
              "      <td>51.07</td>\n",
              "      <td>352.52</td>\n",
              "      <td>67.77</td>\n",
              "      <td>24.06</td>\n",
              "      <td>37.50</td>\n",
              "      <td>2.38</td>\n",
              "      <td>0</td>\n",
              "      <td>1</td>\n",
              "    </tr>\n",
              "    <tr>\n",
              "      <th>1</th>\n",
              "      <td>22536401</td>\n",
              "      <td>420.200857</td>\n",
              "      <td>96.536672</td>\n",
              "      <td>3.471429</td>\n",
              "      <td>0.791415</td>\n",
              "      <td>150.285714</td>\n",
              "      <td>36.460449</td>\n",
              "      <td>6.35</td>\n",
              "      <td>2.77</td>\n",
              "      <td>2.13</td>\n",
              "      <td>1.06</td>\n",
              "      <td>2.84</td>\n",
              "      <td>111.90</td>\n",
              "      <td>203.92</td>\n",
              "      <td>77.82</td>\n",
              "      <td>1.63</td>\n",
              "      <td>1.44</td>\n",
              "      <td>0.31</td>\n",
              "      <td>56.34</td>\n",
              "      <td>87.47</td>\n",
              "      <td>21.42</td>\n",
              "      <td>0.59</td>\n",
              "      <td>0.34</td>\n",
              "      <td>0.26</td>\n",
              "      <td>0.12</td>\n",
              "      <td>48.29</td>\n",
              "      <td>941.59</td>\n",
              "      <td>82.33</td>\n",
              "      <td>38.20</td>\n",
              "      <td>22.25</td>\n",
              "      <td>3.94</td>\n",
              "      <td>0</td>\n",
              "      <td>1</td>\n",
              "    </tr>\n",
              "    <tr>\n",
              "      <th>2</th>\n",
              "      <td>22682373</td>\n",
              "      <td>1305.484325</td>\n",
              "      <td>103.591059</td>\n",
              "      <td>21.950000</td>\n",
              "      <td>1.480982</td>\n",
              "      <td>1048.425000</td>\n",
              "      <td>76.108671</td>\n",
              "      <td>15.54</td>\n",
              "      <td>1.86</td>\n",
              "      <td>4.23</td>\n",
              "      <td>2.47</td>\n",
              "      <td>10.20</td>\n",
              "      <td>75.56</td>\n",
              "      <td>68.66</td>\n",
              "      <td>98.78</td>\n",
              "      <td>1.69</td>\n",
              "      <td>1.58</td>\n",
              "      <td>1.23</td>\n",
              "      <td>68.94</td>\n",
              "      <td>62.83</td>\n",
              "      <td>75.73</td>\n",
              "      <td>0.64</td>\n",
              "      <td>0.09</td>\n",
              "      <td>0.22</td>\n",
              "      <td>0.15</td>\n",
              "      <td>88.75</td>\n",
              "      <td>331.06</td>\n",
              "      <td>43.36</td>\n",
              "      <td>27.71</td>\n",
              "      <td>37.50</td>\n",
              "      <td>3.67</td>\n",
              "      <td>0</td>\n",
              "      <td>1</td>\n",
              "    </tr>\n",
              "    <tr>\n",
              "      <th>3</th>\n",
              "      <td>22785668</td>\n",
              "      <td>829.403284</td>\n",
              "      <td>105.144692</td>\n",
              "      <td>14.790123</td>\n",
              "      <td>1.588203</td>\n",
              "      <td>529.444444</td>\n",
              "      <td>66.651395</td>\n",
              "      <td>2.78</td>\n",
              "      <td>3.78</td>\n",
              "      <td>3.17</td>\n",
              "      <td>2.48</td>\n",
              "      <td>5.34</td>\n",
              "      <td>161.66</td>\n",
              "      <td>84.90</td>\n",
              "      <td>80.56</td>\n",
              "      <td>2.43</td>\n",
              "      <td>1.85</td>\n",
              "      <td>1.09</td>\n",
              "      <td>74.76</td>\n",
              "      <td>79.49</td>\n",
              "      <td>51.51</td>\n",
              "      <td>0.34</td>\n",
              "      <td>0.39</td>\n",
              "      <td>0.36</td>\n",
              "      <td>0.26</td>\n",
              "      <td>83.03</td>\n",
              "      <td>271.58</td>\n",
              "      <td>46.62</td>\n",
              "      <td>25.67</td>\n",
              "      <td>37.25</td>\n",
              "      <td>3.03</td>\n",
              "      <td>0</td>\n",
              "      <td>1</td>\n",
              "    </tr>\n",
              "    <tr>\n",
              "      <th>4</th>\n",
              "      <td>22955826</td>\n",
              "      <td>1006.872029</td>\n",
              "      <td>122.450609</td>\n",
              "      <td>7.571429</td>\n",
              "      <td>0.761375</td>\n",
              "      <td>450.914286</td>\n",
              "      <td>56.511730</td>\n",
              "      <td>6.91</td>\n",
              "      <td>2.00</td>\n",
              "      <td>1.58</td>\n",
              "      <td>1.00</td>\n",
              "      <td>13.06</td>\n",
              "      <td>165.49</td>\n",
              "      <td>233.67</td>\n",
              "      <td>86.87</td>\n",
              "      <td>1.72</td>\n",
              "      <td>1.33</td>\n",
              "      <td>0.56</td>\n",
              "      <td>98.83</td>\n",
              "      <td>157.00</td>\n",
              "      <td>30.82</td>\n",
              "      <td>0.83</td>\n",
              "      <td>0.30</td>\n",
              "      <td>0.45</td>\n",
              "      <td>0.22</td>\n",
              "      <td>63.35</td>\n",
              "      <td>245.77</td>\n",
              "      <td>67.31</td>\n",
              "      <td>36.50</td>\n",
              "      <td>20.75</td>\n",
              "      <td>3.10</td>\n",
              "      <td>1</td>\n",
              "      <td>0</td>\n",
              "    </tr>\n",
              "  </tbody>\n",
              "</table>\n",
              "</div>"
            ],
            "text/plain": [
              "         ID  overall_usgae  average_usgae  ...   GPA  Gender_F  Gender_M\n",
              "0  20946596    1589.973420     255.836708  ...  2.38         0         1\n",
              "1  22536401     420.200857      96.536672  ...  3.94         0         1\n",
              "2  22682373    1305.484325     103.591059  ...  3.67         0         1\n",
              "3  22785668     829.403284     105.144692  ...  3.03         0         1\n",
              "4  22955826    1006.872029     122.450609  ...  3.10         1         0\n",
              "\n",
              "[5 rows x 33 columns]"
            ]
          },
          "metadata": {
            "tags": []
          },
          "execution_count": 8
        }
      ]
    },
    {
      "cell_type": "markdown",
      "metadata": {
        "id": "rZQ-PTc-rHiW",
        "colab_type": "text"
      },
      "source": [
        "## Block 1"
      ]
    },
    {
      "cell_type": "markdown",
      "metadata": {
        "id": "6b3p3YQyc1dH",
        "colab_type": "text"
      },
      "source": [
        "Blcok1 contained **gender** and addiction score as baseline"
      ]
    },
    {
      "cell_type": "code",
      "metadata": {
        "id": "9urxKX8waxL3",
        "colab_type": "code",
        "colab": {
          "base_uri": "https://localhost:8080/",
          "height": 204
        },
        "outputId": "09d4e5fc-96a7-4476-fd82-37448755722d"
      },
      "source": [
        "df_block1=df_overall[['Gender_M', 'Addiction', \"GPA\"]]\n",
        "df_block1.head()"
      ],
      "execution_count": null,
      "outputs": [
        {
          "output_type": "execute_result",
          "data": {
            "text/html": [
              "<div>\n",
              "<style scoped>\n",
              "    .dataframe tbody tr th:only-of-type {\n",
              "        vertical-align: middle;\n",
              "    }\n",
              "\n",
              "    .dataframe tbody tr th {\n",
              "        vertical-align: top;\n",
              "    }\n",
              "\n",
              "    .dataframe thead th {\n",
              "        text-align: right;\n",
              "    }\n",
              "</style>\n",
              "<table border=\"1\" class=\"dataframe\">\n",
              "  <thead>\n",
              "    <tr style=\"text-align: right;\">\n",
              "      <th></th>\n",
              "      <th>Gender_M</th>\n",
              "      <th>Addiction</th>\n",
              "      <th>GPA</th>\n",
              "    </tr>\n",
              "  </thead>\n",
              "  <tbody>\n",
              "    <tr>\n",
              "      <th>0</th>\n",
              "      <td>1</td>\n",
              "      <td>37.50</td>\n",
              "      <td>2.38</td>\n",
              "    </tr>\n",
              "    <tr>\n",
              "      <th>1</th>\n",
              "      <td>1</td>\n",
              "      <td>22.25</td>\n",
              "      <td>3.94</td>\n",
              "    </tr>\n",
              "    <tr>\n",
              "      <th>2</th>\n",
              "      <td>1</td>\n",
              "      <td>37.50</td>\n",
              "      <td>3.67</td>\n",
              "    </tr>\n",
              "    <tr>\n",
              "      <th>3</th>\n",
              "      <td>1</td>\n",
              "      <td>37.25</td>\n",
              "      <td>3.03</td>\n",
              "    </tr>\n",
              "    <tr>\n",
              "      <th>4</th>\n",
              "      <td>0</td>\n",
              "      <td>20.75</td>\n",
              "      <td>3.10</td>\n",
              "    </tr>\n",
              "  </tbody>\n",
              "</table>\n",
              "</div>"
            ],
            "text/plain": [
              "   Gender_M  Addiction   GPA\n",
              "0         1      37.50  2.38\n",
              "1         1      22.25  3.94\n",
              "2         1      37.50  3.67\n",
              "3         1      37.25  3.03\n",
              "4         0      20.75  3.10"
            ]
          },
          "metadata": {
            "tags": []
          },
          "execution_count": 11
        }
      ]
    },
    {
      "cell_type": "code",
      "metadata": {
        "id": "ZoCq2FtTcqPI",
        "colab_type": "code",
        "colab": {
          "base_uri": "https://localhost:8080/",
          "height": 160
        },
        "outputId": "ae968016-40c5-4a32-ba4f-cee30d5dd147"
      },
      "source": [
        "features=\"\"\n",
        "for feature in df_block1.columns:\n",
        "    if feature!=\"GPA\":\n",
        "        features+=feature+\"+\"\n",
        "features=features[:-1]\n",
        "print(features)\n",
        "\n",
        "y,X = dmatrices(\"GPA~\" + features, data=df_block1, return_type=\"dataframe\")\n",
        "vif=pd.DataFrame()\n",
        "vif['VIF']= [variance_inflation_factor(X.values, i) for i in range(X.shape[1])]\n",
        "vif['features']=X.columns\n",
        "result=sm.OLS(y,X).fit()\n",
        "vif.sort_values(['VIF'], ascending=False).head(3)"
      ],
      "execution_count": null,
      "outputs": [
        {
          "output_type": "stream",
          "text": [
            "Gender_M+Addiction\n"
          ],
          "name": "stdout"
        },
        {
          "output_type": "execute_result",
          "data": {
            "text/html": [
              "<div>\n",
              "<style scoped>\n",
              "    .dataframe tbody tr th:only-of-type {\n",
              "        vertical-align: middle;\n",
              "    }\n",
              "\n",
              "    .dataframe tbody tr th {\n",
              "        vertical-align: top;\n",
              "    }\n",
              "\n",
              "    .dataframe thead th {\n",
              "        text-align: right;\n",
              "    }\n",
              "</style>\n",
              "<table border=\"1\" class=\"dataframe\">\n",
              "  <thead>\n",
              "    <tr style=\"text-align: right;\">\n",
              "      <th></th>\n",
              "      <th>VIF</th>\n",
              "      <th>features</th>\n",
              "    </tr>\n",
              "  </thead>\n",
              "  <tbody>\n",
              "    <tr>\n",
              "      <th>0</th>\n",
              "      <td>19.451897</td>\n",
              "      <td>Intercept</td>\n",
              "    </tr>\n",
              "    <tr>\n",
              "      <th>2</th>\n",
              "      <td>1.012553</td>\n",
              "      <td>Addiction</td>\n",
              "    </tr>\n",
              "    <tr>\n",
              "      <th>1</th>\n",
              "      <td>1.012553</td>\n",
              "      <td>Gender_M</td>\n",
              "    </tr>\n",
              "  </tbody>\n",
              "</table>\n",
              "</div>"
            ],
            "text/plain": [
              "         VIF   features\n",
              "0  19.451897  Intercept\n",
              "2   1.012553  Addiction\n",
              "1   1.012553   Gender_M"
            ]
          },
          "metadata": {
            "tags": []
          },
          "execution_count": 12
        }
      ]
    },
    {
      "cell_type": "code",
      "metadata": {
        "id": "LwdgE1kpcv75",
        "colab_type": "code",
        "colab": {
          "base_uri": "https://localhost:8080/",
          "height": 465
        },
        "outputId": "7afb0754-d8f6-4486-be82-60f8e1b2707c"
      },
      "source": [
        "result.summary()"
      ],
      "execution_count": null,
      "outputs": [
        {
          "output_type": "execute_result",
          "data": {
            "text/html": [
              "<table class=\"simpletable\">\n",
              "<caption>OLS Regression Results</caption>\n",
              "<tr>\n",
              "  <th>Dep. Variable:</th>           <td>GPA</td>       <th>  R-squared:         </th> <td>   0.042</td>\n",
              "</tr>\n",
              "<tr>\n",
              "  <th>Model:</th>                   <td>OLS</td>       <th>  Adj. R-squared:    </th> <td>   0.018</td>\n",
              "</tr>\n",
              "<tr>\n",
              "  <th>Method:</th>             <td>Least Squares</td>  <th>  F-statistic:       </th> <td>   1.723</td>\n",
              "</tr>\n",
              "<tr>\n",
              "  <th>Date:</th>             <td>Tue, 05 May 2020</td> <th>  Prob (F-statistic):</th>  <td> 0.185</td> \n",
              "</tr>\n",
              "<tr>\n",
              "  <th>Time:</th>                 <td>01:28:46</td>     <th>  Log-Likelihood:    </th> <td> -61.020</td>\n",
              "</tr>\n",
              "<tr>\n",
              "  <th>No. Observations:</th>      <td>    81</td>      <th>  AIC:               </th> <td>   128.0</td>\n",
              "</tr>\n",
              "<tr>\n",
              "  <th>Df Residuals:</th>          <td>    78</td>      <th>  BIC:               </th> <td>   135.2</td>\n",
              "</tr>\n",
              "<tr>\n",
              "  <th>Df Model:</th>              <td>     2</td>      <th>                     </th>     <td> </td>   \n",
              "</tr>\n",
              "<tr>\n",
              "  <th>Covariance Type:</th>      <td>nonrobust</td>    <th>                     </th>     <td> </td>   \n",
              "</tr>\n",
              "</table>\n",
              "<table class=\"simpletable\">\n",
              "<tr>\n",
              "      <td></td>         <th>coef</th>     <th>std err</th>      <th>t</th>      <th>P>|t|</th>  <th>[0.025</th>    <th>0.975]</th>  \n",
              "</tr>\n",
              "<tr>\n",
              "  <th>Intercept</th> <td>    3.3672</td> <td>    0.257</td> <td>   13.119</td> <td> 0.000</td> <td>    2.856</td> <td>    3.878</td>\n",
              "</tr>\n",
              "<tr>\n",
              "  <th>Gender_M</th>  <td>    0.2017</td> <td>    0.125</td> <td>    1.608</td> <td> 0.112</td> <td>   -0.048</td> <td>    0.451</td>\n",
              "</tr>\n",
              "<tr>\n",
              "  <th>Addiction</th> <td>   -0.0056</td> <td>    0.008</td> <td>   -0.744</td> <td> 0.459</td> <td>   -0.021</td> <td>    0.009</td>\n",
              "</tr>\n",
              "</table>\n",
              "<table class=\"simpletable\">\n",
              "<tr>\n",
              "  <th>Omnibus:</th>       <td> 5.592</td> <th>  Durbin-Watson:     </th> <td>   1.828</td>\n",
              "</tr>\n",
              "<tr>\n",
              "  <th>Prob(Omnibus):</th> <td> 0.061</td> <th>  Jarque-Bera (JB):  </th> <td>   5.029</td>\n",
              "</tr>\n",
              "<tr>\n",
              "  <th>Skew:</th>          <td>-0.599</td> <th>  Prob(JB):          </th> <td>  0.0809</td>\n",
              "</tr>\n",
              "<tr>\n",
              "  <th>Kurtosis:</th>      <td> 3.237</td> <th>  Cond. No.          </th> <td>    140.</td>\n",
              "</tr>\n",
              "</table><br/><br/>Warnings:<br/>[1] Standard Errors assume that the covariance matrix of the errors is correctly specified."
            ],
            "text/plain": [
              "<class 'statsmodels.iolib.summary.Summary'>\n",
              "\"\"\"\n",
              "                            OLS Regression Results                            \n",
              "==============================================================================\n",
              "Dep. Variable:                    GPA   R-squared:                       0.042\n",
              "Model:                            OLS   Adj. R-squared:                  0.018\n",
              "Method:                 Least Squares   F-statistic:                     1.723\n",
              "Date:                Tue, 05 May 2020   Prob (F-statistic):              0.185\n",
              "Time:                        01:28:46   Log-Likelihood:                -61.020\n",
              "No. Observations:                  81   AIC:                             128.0\n",
              "Df Residuals:                      78   BIC:                             135.2\n",
              "Df Model:                           2                                         \n",
              "Covariance Type:            nonrobust                                         \n",
              "==============================================================================\n",
              "                 coef    std err          t      P>|t|      [0.025      0.975]\n",
              "------------------------------------------------------------------------------\n",
              "Intercept      3.3672      0.257     13.119      0.000       2.856       3.878\n",
              "Gender_M       0.2017      0.125      1.608      0.112      -0.048       0.451\n",
              "Addiction     -0.0056      0.008     -0.744      0.459      -0.021       0.009\n",
              "==============================================================================\n",
              "Omnibus:                        5.592   Durbin-Watson:                   1.828\n",
              "Prob(Omnibus):                  0.061   Jarque-Bera (JB):                5.029\n",
              "Skew:                          -0.599   Prob(JB):                       0.0809\n",
              "Kurtosis:                       3.237   Cond. No.                         140.\n",
              "==============================================================================\n",
              "\n",
              "Warnings:\n",
              "[1] Standard Errors assume that the covariance matrix of the errors is correctly specified.\n",
              "\"\"\""
            ]
          },
          "metadata": {
            "tags": []
          },
          "execution_count": 13
        }
      ]
    },
    {
      "cell_type": "markdown",
      "metadata": {
        "id": "idJmi7P0rMWu",
        "colab_type": "text"
      },
      "source": [
        "## Block 2"
      ]
    },
    {
      "cell_type": "markdown",
      "metadata": {
        "id": "Hu8FE9QKdCvf",
        "colab_type": "text"
      },
      "source": [
        "Block2 additionally contained smartphone usage metrics (# of sessions, session duration)"
      ]
    },
    {
      "cell_type": "code",
      "metadata": {
        "id": "3OQAPE-hczlI",
        "colab_type": "code",
        "colab": {
          "base_uri": "https://localhost:8080/",
          "height": 204
        },
        "outputId": "5c13b0d7-9a97-48d3-9111-167a62431d89"
      },
      "source": [
        "df_block2=df_overall[['E_ig_per_class','E_nl_per_class','E_nu_per_class','E_uu_per_class','I_uu_per_class','E_nu_duration','E_uu_duration','I_uu_duration','Addiction','Gender_M','GPA']]\n",
        "df_block2.head()"
      ],
      "execution_count": null,
      "outputs": [
        {
          "output_type": "execute_result",
          "data": {
            "text/html": [
              "<div>\n",
              "<style scoped>\n",
              "    .dataframe tbody tr th:only-of-type {\n",
              "        vertical-align: middle;\n",
              "    }\n",
              "\n",
              "    .dataframe tbody tr th {\n",
              "        vertical-align: top;\n",
              "    }\n",
              "\n",
              "    .dataframe thead th {\n",
              "        text-align: right;\n",
              "    }\n",
              "</style>\n",
              "<table border=\"1\" class=\"dataframe\">\n",
              "  <thead>\n",
              "    <tr style=\"text-align: right;\">\n",
              "      <th></th>\n",
              "      <th>E_ig_per_class</th>\n",
              "      <th>E_nl_per_class</th>\n",
              "      <th>E_nu_per_class</th>\n",
              "      <th>E_uu_per_class</th>\n",
              "      <th>I_uu_per_class</th>\n",
              "      <th>E_nu_duration</th>\n",
              "      <th>E_uu_duration</th>\n",
              "      <th>I_uu_duration</th>\n",
              "      <th>Addiction</th>\n",
              "      <th>Gender_M</th>\n",
              "      <th>GPA</th>\n",
              "    </tr>\n",
              "  </thead>\n",
              "  <tbody>\n",
              "    <tr>\n",
              "      <th>0</th>\n",
              "      <td>2.35</td>\n",
              "      <td>2.83</td>\n",
              "      <td>1.96</td>\n",
              "      <td>1.86</td>\n",
              "      <td>4.99</td>\n",
              "      <td>351.45</td>\n",
              "      <td>199.10</td>\n",
              "      <td>242.55</td>\n",
              "      <td>37.50</td>\n",
              "      <td>1</td>\n",
              "      <td>2.38</td>\n",
              "    </tr>\n",
              "    <tr>\n",
              "      <th>1</th>\n",
              "      <td>6.35</td>\n",
              "      <td>2.77</td>\n",
              "      <td>2.13</td>\n",
              "      <td>1.06</td>\n",
              "      <td>2.84</td>\n",
              "      <td>111.90</td>\n",
              "      <td>203.92</td>\n",
              "      <td>77.82</td>\n",
              "      <td>22.25</td>\n",
              "      <td>1</td>\n",
              "      <td>3.94</td>\n",
              "    </tr>\n",
              "    <tr>\n",
              "      <th>2</th>\n",
              "      <td>15.54</td>\n",
              "      <td>1.86</td>\n",
              "      <td>4.23</td>\n",
              "      <td>2.47</td>\n",
              "      <td>10.20</td>\n",
              "      <td>75.56</td>\n",
              "      <td>68.66</td>\n",
              "      <td>98.78</td>\n",
              "      <td>37.50</td>\n",
              "      <td>1</td>\n",
              "      <td>3.67</td>\n",
              "    </tr>\n",
              "    <tr>\n",
              "      <th>3</th>\n",
              "      <td>2.78</td>\n",
              "      <td>3.78</td>\n",
              "      <td>3.17</td>\n",
              "      <td>2.48</td>\n",
              "      <td>5.34</td>\n",
              "      <td>161.66</td>\n",
              "      <td>84.90</td>\n",
              "      <td>80.56</td>\n",
              "      <td>37.25</td>\n",
              "      <td>1</td>\n",
              "      <td>3.03</td>\n",
              "    </tr>\n",
              "    <tr>\n",
              "      <th>4</th>\n",
              "      <td>6.91</td>\n",
              "      <td>2.00</td>\n",
              "      <td>1.58</td>\n",
              "      <td>1.00</td>\n",
              "      <td>13.06</td>\n",
              "      <td>165.49</td>\n",
              "      <td>233.67</td>\n",
              "      <td>86.87</td>\n",
              "      <td>20.75</td>\n",
              "      <td>0</td>\n",
              "      <td>3.10</td>\n",
              "    </tr>\n",
              "  </tbody>\n",
              "</table>\n",
              "</div>"
            ],
            "text/plain": [
              "   E_ig_per_class  E_nl_per_class  E_nu_per_class  ...  Addiction  Gender_M   GPA\n",
              "0            2.35            2.83            1.96  ...      37.50         1  2.38\n",
              "1            6.35            2.77            2.13  ...      22.25         1  3.94\n",
              "2           15.54            1.86            4.23  ...      37.50         1  3.67\n",
              "3            2.78            3.78            3.17  ...      37.25         1  3.03\n",
              "4            6.91            2.00            1.58  ...      20.75         0  3.10\n",
              "\n",
              "[5 rows x 11 columns]"
            ]
          },
          "metadata": {
            "tags": []
          },
          "execution_count": 27
        }
      ]
    },
    {
      "cell_type": "code",
      "metadata": {
        "id": "OlwleciPeIt0",
        "colab_type": "code",
        "colab": {
          "base_uri": "https://localhost:8080/",
          "height": 160
        },
        "outputId": "cef265cd-1063-46cd-f35b-dd21fbeca106"
      },
      "source": [
        "features=\"\"\n",
        "for feature in df_block2.columns:\n",
        "    if feature!=\"GPA\":\n",
        "        features+=feature+\"+\"\n",
        "features=features[:-1]\n",
        "print(features)\n",
        "\n",
        "y,X = dmatrices(\"GPA~\" + features, data=df_block2, return_type=\"dataframe\")\n",
        "vif=pd.DataFrame()\n",
        "vif['VIF']= [variance_inflation_factor(X.values, i) for i in range(X.shape[1])]\n",
        "vif['features']=X.columns\n",
        "result=sm.OLS(y,X).fit()\n",
        "vif.sort_values(['VIF'], ascending=False).head(3)"
      ],
      "execution_count": null,
      "outputs": [
        {
          "output_type": "stream",
          "text": [
            "E_ig_per_class+E_nl_per_class+E_nu_per_class+E_uu_per_class+I_uu_per_class+E_nu_duration+E_uu_duration+I_uu_duration+Addiction+Gender_M\n"
          ],
          "name": "stdout"
        },
        {
          "output_type": "execute_result",
          "data": {
            "text/html": [
              "<div>\n",
              "<style scoped>\n",
              "    .dataframe tbody tr th:only-of-type {\n",
              "        vertical-align: middle;\n",
              "    }\n",
              "\n",
              "    .dataframe tbody tr th {\n",
              "        vertical-align: top;\n",
              "    }\n",
              "\n",
              "    .dataframe thead th {\n",
              "        text-align: right;\n",
              "    }\n",
              "</style>\n",
              "<table border=\"1\" class=\"dataframe\">\n",
              "  <thead>\n",
              "    <tr style=\"text-align: right;\">\n",
              "      <th></th>\n",
              "      <th>VIF</th>\n",
              "      <th>features</th>\n",
              "    </tr>\n",
              "  </thead>\n",
              "  <tbody>\n",
              "    <tr>\n",
              "      <th>0</th>\n",
              "      <td>36.931121</td>\n",
              "      <td>Intercept</td>\n",
              "    </tr>\n",
              "    <tr>\n",
              "      <th>6</th>\n",
              "      <td>2.590871</td>\n",
              "      <td>E_nu_duration</td>\n",
              "    </tr>\n",
              "    <tr>\n",
              "      <th>2</th>\n",
              "      <td>1.778464</td>\n",
              "      <td>E_nl_per_class</td>\n",
              "    </tr>\n",
              "  </tbody>\n",
              "</table>\n",
              "</div>"
            ],
            "text/plain": [
              "         VIF        features\n",
              "0  36.931121       Intercept\n",
              "6   2.590871   E_nu_duration\n",
              "2   1.778464  E_nl_per_class"
            ]
          },
          "metadata": {
            "tags": []
          },
          "execution_count": 28
        }
      ]
    },
    {
      "cell_type": "code",
      "metadata": {
        "id": "zSUxCwQMeQAs",
        "colab_type": "code",
        "colab": {
          "base_uri": "https://localhost:8080/",
          "height": 667
        },
        "outputId": "0b3e0b16-df69-41be-cc9d-c174579f4241"
      },
      "source": [
        "result.summary()"
      ],
      "execution_count": null,
      "outputs": [
        {
          "output_type": "execute_result",
          "data": {
            "text/html": [
              "<table class=\"simpletable\">\n",
              "<caption>OLS Regression Results</caption>\n",
              "<tr>\n",
              "  <th>Dep. Variable:</th>           <td>GPA</td>       <th>  R-squared:         </th> <td>   0.158</td>\n",
              "</tr>\n",
              "<tr>\n",
              "  <th>Model:</th>                   <td>OLS</td>       <th>  Adj. R-squared:    </th> <td>   0.037</td>\n",
              "</tr>\n",
              "<tr>\n",
              "  <th>Method:</th>             <td>Least Squares</td>  <th>  F-statistic:       </th> <td>   1.309</td>\n",
              "</tr>\n",
              "<tr>\n",
              "  <th>Date:</th>             <td>Tue, 05 May 2020</td> <th>  Prob (F-statistic):</th>  <td> 0.243</td> \n",
              "</tr>\n",
              "<tr>\n",
              "  <th>Time:</th>                 <td>01:35:25</td>     <th>  Log-Likelihood:    </th> <td> -55.829</td>\n",
              "</tr>\n",
              "<tr>\n",
              "  <th>No. Observations:</th>      <td>    81</td>      <th>  AIC:               </th> <td>   133.7</td>\n",
              "</tr>\n",
              "<tr>\n",
              "  <th>Df Residuals:</th>          <td>    70</td>      <th>  BIC:               </th> <td>   160.0</td>\n",
              "</tr>\n",
              "<tr>\n",
              "  <th>Df Model:</th>              <td>    10</td>      <th>                     </th>     <td> </td>   \n",
              "</tr>\n",
              "<tr>\n",
              "  <th>Covariance Type:</th>      <td>nonrobust</td>    <th>                     </th>     <td> </td>   \n",
              "</tr>\n",
              "</table>\n",
              "<table class=\"simpletable\">\n",
              "<tr>\n",
              "         <td></td>           <th>coef</th>     <th>std err</th>      <th>t</th>      <th>P>|t|</th>  <th>[0.025</th>    <th>0.975]</th>  \n",
              "</tr>\n",
              "<tr>\n",
              "  <th>Intercept</th>      <td>    3.2089</td> <td>    0.350</td> <td>    9.165</td> <td> 0.000</td> <td>    2.511</td> <td>    3.907</td>\n",
              "</tr>\n",
              "<tr>\n",
              "  <th>E_ig_per_class</th> <td>    0.0142</td> <td>    0.020</td> <td>    0.694</td> <td> 0.490</td> <td>   -0.027</td> <td>    0.055</td>\n",
              "</tr>\n",
              "<tr>\n",
              "  <th>E_nl_per_class</th> <td>   -0.0411</td> <td>    0.072</td> <td>   -0.570</td> <td> 0.571</td> <td>   -0.185</td> <td>    0.103</td>\n",
              "</tr>\n",
              "<tr>\n",
              "  <th>E_nu_per_class</th> <td>    0.0468</td> <td>    0.039</td> <td>    1.198</td> <td> 0.235</td> <td>   -0.031</td> <td>    0.125</td>\n",
              "</tr>\n",
              "<tr>\n",
              "  <th>E_uu_per_class</th> <td>    0.0785</td> <td>    0.146</td> <td>    0.537</td> <td> 0.593</td> <td>   -0.213</td> <td>    0.370</td>\n",
              "</tr>\n",
              "<tr>\n",
              "  <th>I_uu_per_class</th> <td>    0.0177</td> <td>    0.019</td> <td>    0.935</td> <td> 0.353</td> <td>   -0.020</td> <td>    0.055</td>\n",
              "</tr>\n",
              "<tr>\n",
              "  <th>E_nu_duration</th>  <td>   -0.0009</td> <td>    0.001</td> <td>   -0.791</td> <td> 0.432</td> <td>   -0.003</td> <td>    0.001</td>\n",
              "</tr>\n",
              "<tr>\n",
              "  <th>E_uu_duration</th>  <td>    0.0002</td> <td>    0.001</td> <td>    0.233</td> <td> 0.816</td> <td>   -0.001</td> <td>    0.002</td>\n",
              "</tr>\n",
              "<tr>\n",
              "  <th>I_uu_duration</th>  <td>   -0.0005</td> <td>    0.001</td> <td>   -0.421</td> <td> 0.675</td> <td>   -0.003</td> <td>    0.002</td>\n",
              "</tr>\n",
              "<tr>\n",
              "  <th>Addiction</th>      <td>   -0.0051</td> <td>    0.008</td> <td>   -0.622</td> <td> 0.536</td> <td>   -0.021</td> <td>    0.011</td>\n",
              "</tr>\n",
              "<tr>\n",
              "  <th>Gender_M</th>       <td>    0.2010</td> <td>    0.133</td> <td>    1.510</td> <td> 0.136</td> <td>   -0.065</td> <td>    0.467</td>\n",
              "</tr>\n",
              "</table>\n",
              "<table class=\"simpletable\">\n",
              "<tr>\n",
              "  <th>Omnibus:</th>       <td> 2.820</td> <th>  Durbin-Watson:     </th> <td>   1.786</td>\n",
              "</tr>\n",
              "<tr>\n",
              "  <th>Prob(Omnibus):</th> <td> 0.244</td> <th>  Jarque-Bera (JB):  </th> <td>   2.350</td>\n",
              "</tr>\n",
              "<tr>\n",
              "  <th>Skew:</th>          <td>-0.414</td> <th>  Prob(JB):          </th> <td>   0.309</td>\n",
              "</tr>\n",
              "<tr>\n",
              "  <th>Kurtosis:</th>      <td> 3.099</td> <th>  Cond. No.          </th> <td>1.71e+03</td>\n",
              "</tr>\n",
              "</table><br/><br/>Warnings:<br/>[1] Standard Errors assume that the covariance matrix of the errors is correctly specified.<br/>[2] The condition number is large, 1.71e+03. This might indicate that there are<br/>strong multicollinearity or other numerical problems."
            ],
            "text/plain": [
              "<class 'statsmodels.iolib.summary.Summary'>\n",
              "\"\"\"\n",
              "                            OLS Regression Results                            \n",
              "==============================================================================\n",
              "Dep. Variable:                    GPA   R-squared:                       0.158\n",
              "Model:                            OLS   Adj. R-squared:                  0.037\n",
              "Method:                 Least Squares   F-statistic:                     1.309\n",
              "Date:                Tue, 05 May 2020   Prob (F-statistic):              0.243\n",
              "Time:                        01:35:25   Log-Likelihood:                -55.829\n",
              "No. Observations:                  81   AIC:                             133.7\n",
              "Df Residuals:                      70   BIC:                             160.0\n",
              "Df Model:                          10                                         \n",
              "Covariance Type:            nonrobust                                         \n",
              "==================================================================================\n",
              "                     coef    std err          t      P>|t|      [0.025      0.975]\n",
              "----------------------------------------------------------------------------------\n",
              "Intercept          3.2089      0.350      9.165      0.000       2.511       3.907\n",
              "E_ig_per_class     0.0142      0.020      0.694      0.490      -0.027       0.055\n",
              "E_nl_per_class    -0.0411      0.072     -0.570      0.571      -0.185       0.103\n",
              "E_nu_per_class     0.0468      0.039      1.198      0.235      -0.031       0.125\n",
              "E_uu_per_class     0.0785      0.146      0.537      0.593      -0.213       0.370\n",
              "I_uu_per_class     0.0177      0.019      0.935      0.353      -0.020       0.055\n",
              "E_nu_duration     -0.0009      0.001     -0.791      0.432      -0.003       0.001\n",
              "E_uu_duration      0.0002      0.001      0.233      0.816      -0.001       0.002\n",
              "I_uu_duration     -0.0005      0.001     -0.421      0.675      -0.003       0.002\n",
              "Addiction         -0.0051      0.008     -0.622      0.536      -0.021       0.011\n",
              "Gender_M           0.2010      0.133      1.510      0.136      -0.065       0.467\n",
              "==============================================================================\n",
              "Omnibus:                        2.820   Durbin-Watson:                   1.786\n",
              "Prob(Omnibus):                  0.244   Jarque-Bera (JB):                2.350\n",
              "Skew:                          -0.414   Prob(JB):                        0.309\n",
              "Kurtosis:                       3.099   Cond. No.                     1.71e+03\n",
              "==============================================================================\n",
              "\n",
              "Warnings:\n",
              "[1] Standard Errors assume that the covariance matrix of the errors is correctly specified.\n",
              "[2] The condition number is large, 1.71e+03. This might indicate that there are\n",
              "strong multicollinearity or other numerical problems.\n",
              "\"\"\""
            ]
          },
          "metadata": {
            "tags": []
          },
          "execution_count": 20
        }
      ]
    },
    {
      "cell_type": "markdown",
      "metadata": {
        "id": "ABN2iKKjeX7b",
        "colab_type": "text"
      },
      "source": [
        "In this case, we observed a warning message that multicollinearity is high. Therefore, we removed variables in order of high p-value sequentially to remove multicollinearity. Through this process, E_uu_per_class, E_uu_duration, I_uu_duration, E_nl_per_class, Addiction socre, E_ig_per_class, and I_uu_per_class were removed stepwisely (the process is omitted)\n"
      ]
    },
    {
      "cell_type": "markdown",
      "metadata": {
        "id": "FOFxERZ7hqVr",
        "colab_type": "text"
      },
      "source": [
        "### Backward elimination"
      ]
    },
    {
      "cell_type": "code",
      "metadata": {
        "id": "sRWaoGuJgMhb",
        "colab_type": "code",
        "colab": {
          "base_uri": "https://localhost:8080/",
          "height": 546
        },
        "outputId": "0b730c1a-4194-45f3-acee-02d4d9974cfc"
      },
      "source": [
        "df_block2.drop(['E_uu_duration', 'E_uu_per_class', 'I_uu_duration', 'E_nl_per_class', 'Addiction'], axis=1, inplace=True)\n",
        "features=\"\"\n",
        "for feature in df_block2.columns:\n",
        "    if feature!=\"GPA\":\n",
        "        features+=feature+\"+\"\n",
        "features=features[:-1]\n",
        "print(features)\n",
        "\n",
        "y,X = dmatrices(\"GPA~\" + features, data=df_block2, return_type=\"dataframe\")\n",
        "vif=pd.DataFrame()\n",
        "vif['VIF']= [variance_inflation_factor(X.values, i) for i in range(X.shape[1])]\n",
        "vif['features']=X.columns\n",
        "result=sm.OLS(y,X).fit()\n",
        "\n",
        "result.summary()"
      ],
      "execution_count": null,
      "outputs": [
        {
          "output_type": "stream",
          "text": [
            "E_ig_per_class+E_nu_per_class+I_uu_per_class+E_nu_duration+Gender_M\n"
          ],
          "name": "stdout"
        },
        {
          "output_type": "execute_result",
          "data": {
            "text/html": [
              "<table class=\"simpletable\">\n",
              "<caption>OLS Regression Results</caption>\n",
              "<tr>\n",
              "  <th>Dep. Variable:</th>           <td>GPA</td>       <th>  R-squared:         </th> <td>   0.143</td>\n",
              "</tr>\n",
              "<tr>\n",
              "  <th>Model:</th>                   <td>OLS</td>       <th>  Adj. R-squared:    </th> <td>   0.086</td>\n",
              "</tr>\n",
              "<tr>\n",
              "  <th>Method:</th>             <td>Least Squares</td>  <th>  F-statistic:       </th> <td>   2.501</td>\n",
              "</tr>\n",
              "<tr>\n",
              "  <th>Date:</th>             <td>Tue, 05 May 2020</td> <th>  Prob (F-statistic):</th>  <td>0.0378</td> \n",
              "</tr>\n",
              "<tr>\n",
              "  <th>Time:</th>                 <td>01:49:09</td>     <th>  Log-Likelihood:    </th> <td> -56.527</td>\n",
              "</tr>\n",
              "<tr>\n",
              "  <th>No. Observations:</th>      <td>    81</td>      <th>  AIC:               </th> <td>   125.1</td>\n",
              "</tr>\n",
              "<tr>\n",
              "  <th>Df Residuals:</th>          <td>    75</td>      <th>  BIC:               </th> <td>   139.4</td>\n",
              "</tr>\n",
              "<tr>\n",
              "  <th>Df Model:</th>              <td>     5</td>      <th>                     </th>     <td> </td>   \n",
              "</tr>\n",
              "<tr>\n",
              "  <th>Covariance Type:</th>      <td>nonrobust</td>    <th>                     </th>     <td> </td>   \n",
              "</tr>\n",
              "</table>\n",
              "<table class=\"simpletable\">\n",
              "<tr>\n",
              "         <td></td>           <th>coef</th>     <th>std err</th>      <th>t</th>      <th>P>|t|</th>  <th>[0.025</th>    <th>0.975]</th>  \n",
              "</tr>\n",
              "<tr>\n",
              "  <th>Intercept</th>      <td>    3.1547</td> <td>    0.251</td> <td>   12.591</td> <td> 0.000</td> <td>    2.656</td> <td>    3.654</td>\n",
              "</tr>\n",
              "<tr>\n",
              "  <th>E_ig_per_class</th> <td>    0.0140</td> <td>    0.018</td> <td>    0.772</td> <td> 0.442</td> <td>   -0.022</td> <td>    0.050</td>\n",
              "</tr>\n",
              "<tr>\n",
              "  <th>E_nu_per_class</th> <td>    0.0345</td> <td>    0.032</td> <td>    1.084</td> <td> 0.282</td> <td>   -0.029</td> <td>    0.098</td>\n",
              "</tr>\n",
              "<tr>\n",
              "  <th>I_uu_per_class</th> <td>    0.0172</td> <td>    0.017</td> <td>    0.982</td> <td> 0.329</td> <td>   -0.018</td> <td>    0.052</td>\n",
              "</tr>\n",
              "<tr>\n",
              "  <th>E_nu_duration</th>  <td>   -0.0013</td> <td>    0.001</td> <td>   -1.828</td> <td> 0.071</td> <td>   -0.003</td> <td>    0.000</td>\n",
              "</tr>\n",
              "<tr>\n",
              "  <th>Gender_M</th>       <td>    0.1980</td> <td>    0.122</td> <td>    1.628</td> <td> 0.108</td> <td>   -0.044</td> <td>    0.440</td>\n",
              "</tr>\n",
              "</table>\n",
              "<table class=\"simpletable\">\n",
              "<tr>\n",
              "  <th>Omnibus:</th>       <td> 3.481</td> <th>  Durbin-Watson:     </th> <td>   1.718</td>\n",
              "</tr>\n",
              "<tr>\n",
              "  <th>Prob(Omnibus):</th> <td> 0.175</td> <th>  Jarque-Bera (JB):  </th> <td>   2.923</td>\n",
              "</tr>\n",
              "<tr>\n",
              "  <th>Skew:</th>          <td>-0.458</td> <th>  Prob(JB):          </th> <td>   0.232</td>\n",
              "</tr>\n",
              "<tr>\n",
              "  <th>Kurtosis:</th>      <td> 3.161</td> <th>  Cond. No.          </th> <td>    884.</td>\n",
              "</tr>\n",
              "</table><br/><br/>Warnings:<br/>[1] Standard Errors assume that the covariance matrix of the errors is correctly specified."
            ],
            "text/plain": [
              "<class 'statsmodels.iolib.summary.Summary'>\n",
              "\"\"\"\n",
              "                            OLS Regression Results                            \n",
              "==============================================================================\n",
              "Dep. Variable:                    GPA   R-squared:                       0.143\n",
              "Model:                            OLS   Adj. R-squared:                  0.086\n",
              "Method:                 Least Squares   F-statistic:                     2.501\n",
              "Date:                Tue, 05 May 2020   Prob (F-statistic):             0.0378\n",
              "Time:                        01:49:09   Log-Likelihood:                -56.527\n",
              "No. Observations:                  81   AIC:                             125.1\n",
              "Df Residuals:                      75   BIC:                             139.4\n",
              "Df Model:                           5                                         \n",
              "Covariance Type:            nonrobust                                         \n",
              "==================================================================================\n",
              "                     coef    std err          t      P>|t|      [0.025      0.975]\n",
              "----------------------------------------------------------------------------------\n",
              "Intercept          3.1547      0.251     12.591      0.000       2.656       3.654\n",
              "E_ig_per_class     0.0140      0.018      0.772      0.442      -0.022       0.050\n",
              "E_nu_per_class     0.0345      0.032      1.084      0.282      -0.029       0.098\n",
              "I_uu_per_class     0.0172      0.017      0.982      0.329      -0.018       0.052\n",
              "E_nu_duration     -0.0013      0.001     -1.828      0.071      -0.003       0.000\n",
              "Gender_M           0.1980      0.122      1.628      0.108      -0.044       0.440\n",
              "==============================================================================\n",
              "Omnibus:                        3.481   Durbin-Watson:                   1.718\n",
              "Prob(Omnibus):                  0.175   Jarque-Bera (JB):                2.923\n",
              "Skew:                          -0.458   Prob(JB):                        0.232\n",
              "Kurtosis:                       3.161   Cond. No.                         884.\n",
              "==============================================================================\n",
              "\n",
              "Warnings:\n",
              "[1] Standard Errors assume that the covariance matrix of the errors is correctly specified.\n",
              "\"\"\""
            ]
          },
          "metadata": {
            "tags": []
          },
          "execution_count": 29
        }
      ]
    },
    {
      "cell_type": "markdown",
      "metadata": {
        "id": "PzYQgy8vrN9E",
        "colab_type": "text"
      },
      "source": [
        "##Block 3"
      ]
    },
    {
      "cell_type": "code",
      "metadata": {
        "id": "jMlLJsPph1wD",
        "colab_type": "code",
        "colab": {
          "base_uri": "https://localhost:8080/",
          "height": 197
        },
        "outputId": "a2e96bbf-9c2c-4320-93f4-69c6e9db7691"
      },
      "source": [
        "df_overall.columns"
      ],
      "execution_count": null,
      "outputs": [
        {
          "output_type": "execute_result",
          "data": {
            "text/plain": [
              "Index(['ID', 'overall_usgae', 'average_usgae', 'overall_app', 'average_app',\n",
              "       'overall_interaction', 'average_interaction', 'E_ig_per_class',\n",
              "       'E_nl_per_class', 'E_nu_per_class', 'E_uu_per_class', 'I_uu_per_class',\n",
              "       'E_nu_duration', 'E_uu_duration', 'I_uu_duration', 'E_nu_app',\n",
              "       'E_uu_app', 'I_uu_app', 'E_nu_interaction', 'E_uu_interaction',\n",
              "       'I_uu_interaction', 'E_ig_preference', 'E_nl_preference',\n",
              "       'E_nu_preference', 'E_uu_preference', 'inter_arrival_interval',\n",
              "       'inter_checking_interval', 'number_of_arrivals', 'number_of_checkings',\n",
              "       'Addiction', 'GPA', 'Gender_F', 'Gender_M'],\n",
              "      dtype='object')"
            ]
          },
          "metadata": {
            "tags": []
          },
          "execution_count": 30
        }
      ]
    },
    {
      "cell_type": "code",
      "metadata": {
        "id": "DniNdVX5hiSG",
        "colab_type": "code",
        "colab": {
          "base_uri": "https://localhost:8080/",
          "height": 224
        },
        "outputId": "e1252df5-b59f-45ef-c430-35f1ea2f1e41"
      },
      "source": [
        "df_block3=df_overall[['E_ig_per_class','E_nl_per_class','E_nu_per_class','E_uu_per_class','I_uu_per_class','E_nu_duration','E_uu_duration','I_uu_duration',\n",
        "                      'E_ig_preference', 'E_nl_preference',       'E_nu_preference', 'E_uu_preference', 'inter_arrival_interval', 'inter_checking_interval',\n",
        "                      'number_of_arrivals', 'number_of_checkings','Addiction','Gender_M','GPA']]\n",
        "df_block3.head()"
      ],
      "execution_count": null,
      "outputs": [
        {
          "output_type": "execute_result",
          "data": {
            "text/html": [
              "<div>\n",
              "<style scoped>\n",
              "    .dataframe tbody tr th:only-of-type {\n",
              "        vertical-align: middle;\n",
              "    }\n",
              "\n",
              "    .dataframe tbody tr th {\n",
              "        vertical-align: top;\n",
              "    }\n",
              "\n",
              "    .dataframe thead th {\n",
              "        text-align: right;\n",
              "    }\n",
              "</style>\n",
              "<table border=\"1\" class=\"dataframe\">\n",
              "  <thead>\n",
              "    <tr style=\"text-align: right;\">\n",
              "      <th></th>\n",
              "      <th>E_ig_per_class</th>\n",
              "      <th>E_nl_per_class</th>\n",
              "      <th>E_nu_per_class</th>\n",
              "      <th>E_uu_per_class</th>\n",
              "      <th>I_uu_per_class</th>\n",
              "      <th>E_nu_duration</th>\n",
              "      <th>E_uu_duration</th>\n",
              "      <th>I_uu_duration</th>\n",
              "      <th>E_ig_preference</th>\n",
              "      <th>E_nl_preference</th>\n",
              "      <th>E_nu_preference</th>\n",
              "      <th>E_uu_preference</th>\n",
              "      <th>inter_arrival_interval</th>\n",
              "      <th>inter_checking_interval</th>\n",
              "      <th>number_of_arrivals</th>\n",
              "      <th>number_of_checkings</th>\n",
              "      <th>Addiction</th>\n",
              "      <th>Gender_M</th>\n",
              "      <th>GPA</th>\n",
              "    </tr>\n",
              "  </thead>\n",
              "  <tbody>\n",
              "    <tr>\n",
              "      <th>0</th>\n",
              "      <td>2.35</td>\n",
              "      <td>2.83</td>\n",
              "      <td>1.96</td>\n",
              "      <td>1.86</td>\n",
              "      <td>4.99</td>\n",
              "      <td>351.45</td>\n",
              "      <td>199.10</td>\n",
              "      <td>242.55</td>\n",
              "      <td>0.39</td>\n",
              "      <td>0.44</td>\n",
              "      <td>0.42</td>\n",
              "      <td>0.26</td>\n",
              "      <td>51.07</td>\n",
              "      <td>352.52</td>\n",
              "      <td>67.77</td>\n",
              "      <td>24.06</td>\n",
              "      <td>37.50</td>\n",
              "      <td>1</td>\n",
              "      <td>2.38</td>\n",
              "    </tr>\n",
              "    <tr>\n",
              "      <th>1</th>\n",
              "      <td>6.35</td>\n",
              "      <td>2.77</td>\n",
              "      <td>2.13</td>\n",
              "      <td>1.06</td>\n",
              "      <td>2.84</td>\n",
              "      <td>111.90</td>\n",
              "      <td>203.92</td>\n",
              "      <td>77.82</td>\n",
              "      <td>0.59</td>\n",
              "      <td>0.34</td>\n",
              "      <td>0.26</td>\n",
              "      <td>0.12</td>\n",
              "      <td>48.29</td>\n",
              "      <td>941.59</td>\n",
              "      <td>82.33</td>\n",
              "      <td>38.20</td>\n",
              "      <td>22.25</td>\n",
              "      <td>1</td>\n",
              "      <td>3.94</td>\n",
              "    </tr>\n",
              "    <tr>\n",
              "      <th>2</th>\n",
              "      <td>15.54</td>\n",
              "      <td>1.86</td>\n",
              "      <td>4.23</td>\n",
              "      <td>2.47</td>\n",
              "      <td>10.20</td>\n",
              "      <td>75.56</td>\n",
              "      <td>68.66</td>\n",
              "      <td>98.78</td>\n",
              "      <td>0.64</td>\n",
              "      <td>0.09</td>\n",
              "      <td>0.22</td>\n",
              "      <td>0.15</td>\n",
              "      <td>88.75</td>\n",
              "      <td>331.06</td>\n",
              "      <td>43.36</td>\n",
              "      <td>27.71</td>\n",
              "      <td>37.50</td>\n",
              "      <td>1</td>\n",
              "      <td>3.67</td>\n",
              "    </tr>\n",
              "    <tr>\n",
              "      <th>3</th>\n",
              "      <td>2.78</td>\n",
              "      <td>3.78</td>\n",
              "      <td>3.17</td>\n",
              "      <td>2.48</td>\n",
              "      <td>5.34</td>\n",
              "      <td>161.66</td>\n",
              "      <td>84.90</td>\n",
              "      <td>80.56</td>\n",
              "      <td>0.34</td>\n",
              "      <td>0.39</td>\n",
              "      <td>0.36</td>\n",
              "      <td>0.26</td>\n",
              "      <td>83.03</td>\n",
              "      <td>271.58</td>\n",
              "      <td>46.62</td>\n",
              "      <td>25.67</td>\n",
              "      <td>37.25</td>\n",
              "      <td>1</td>\n",
              "      <td>3.03</td>\n",
              "    </tr>\n",
              "    <tr>\n",
              "      <th>4</th>\n",
              "      <td>6.91</td>\n",
              "      <td>2.00</td>\n",
              "      <td>1.58</td>\n",
              "      <td>1.00</td>\n",
              "      <td>13.06</td>\n",
              "      <td>165.49</td>\n",
              "      <td>233.67</td>\n",
              "      <td>86.87</td>\n",
              "      <td>0.83</td>\n",
              "      <td>0.30</td>\n",
              "      <td>0.45</td>\n",
              "      <td>0.22</td>\n",
              "      <td>63.35</td>\n",
              "      <td>245.77</td>\n",
              "      <td>67.31</td>\n",
              "      <td>36.50</td>\n",
              "      <td>20.75</td>\n",
              "      <td>0</td>\n",
              "      <td>3.10</td>\n",
              "    </tr>\n",
              "  </tbody>\n",
              "</table>\n",
              "</div>"
            ],
            "text/plain": [
              "   E_ig_per_class  E_nl_per_class  E_nu_per_class  ...  Addiction  Gender_M   GPA\n",
              "0            2.35            2.83            1.96  ...      37.50         1  2.38\n",
              "1            6.35            2.77            2.13  ...      22.25         1  3.94\n",
              "2           15.54            1.86            4.23  ...      37.50         1  3.67\n",
              "3            2.78            3.78            3.17  ...      37.25         1  3.03\n",
              "4            6.91            2.00            1.58  ...      20.75         0  3.10\n",
              "\n",
              "[5 rows x 19 columns]"
            ]
          },
          "metadata": {
            "tags": []
          },
          "execution_count": 31
        }
      ]
    },
    {
      "cell_type": "code",
      "metadata": {
        "id": "x-dwjQnxiBjN",
        "colab_type": "code",
        "colab": {
          "base_uri": "https://localhost:8080/",
          "height": 180
        },
        "outputId": "5c9a7f87-8c71-4d5d-c75c-b67b3cc28b86"
      },
      "source": [
        "features=\"\"\n",
        "for feature in df_block3.columns:\n",
        "    if feature!=\"GPA\":\n",
        "        features+=feature+\"+\"\n",
        "features=features[:-1]\n",
        "print(features)\n",
        "\n",
        "y,X = dmatrices(\"GPA~\" + features, data=df_block3, return_type=\"dataframe\")\n",
        "vif=pd.DataFrame()\n",
        "vif['VIF']= [variance_inflation_factor(X.values, i) for i in range(X.shape[1])]\n",
        "vif['features']=X.columns\n",
        "result=sm.OLS(y,X).fit()\n",
        "vif.sort_values(['VIF'], ascending=False).head(3)"
      ],
      "execution_count": null,
      "outputs": [
        {
          "output_type": "stream",
          "text": [
            "E_ig_per_class+E_nl_per_class+E_nu_per_class+E_uu_per_class+I_uu_per_class+E_nu_duration+E_uu_duration+I_uu_duration+E_ig_preference+E_nl_preference+E_nu_preference+E_uu_preference+inter_arrival_interval+inter_checking_interval+number_of_arrivals+number_of_checkings+Addiction+Gender_M\n"
          ],
          "name": "stdout"
        },
        {
          "output_type": "execute_result",
          "data": {
            "text/html": [
              "<div>\n",
              "<style scoped>\n",
              "    .dataframe tbody tr th:only-of-type {\n",
              "        vertical-align: middle;\n",
              "    }\n",
              "\n",
              "    .dataframe tbody tr th {\n",
              "        vertical-align: top;\n",
              "    }\n",
              "\n",
              "    .dataframe thead th {\n",
              "        text-align: right;\n",
              "    }\n",
              "</style>\n",
              "<table border=\"1\" class=\"dataframe\">\n",
              "  <thead>\n",
              "    <tr style=\"text-align: right;\">\n",
              "      <th></th>\n",
              "      <th>VIF</th>\n",
              "      <th>features</th>\n",
              "    </tr>\n",
              "  </thead>\n",
              "  <tbody>\n",
              "    <tr>\n",
              "      <th>0</th>\n",
              "      <td>361.659385</td>\n",
              "      <td>Intercept</td>\n",
              "    </tr>\n",
              "    <tr>\n",
              "      <th>11</th>\n",
              "      <td>6.600154</td>\n",
              "      <td>E_nu_preference</td>\n",
              "    </tr>\n",
              "    <tr>\n",
              "      <th>10</th>\n",
              "      <td>6.327253</td>\n",
              "      <td>E_nl_preference</td>\n",
              "    </tr>\n",
              "  </tbody>\n",
              "</table>\n",
              "</div>"
            ],
            "text/plain": [
              "           VIF         features\n",
              "0   361.659385        Intercept\n",
              "11    6.600154  E_nu_preference\n",
              "10    6.327253  E_nl_preference"
            ]
          },
          "metadata": {
            "tags": []
          },
          "execution_count": 34
        }
      ]
    },
    {
      "cell_type": "code",
      "metadata": {
        "id": "82DvuUX7X6Gn",
        "colab_type": "code",
        "colab": {
          "base_uri": "https://localhost:8080/",
          "height": 835
        },
        "outputId": "5b043010-a2e1-44de-b8a5-1471e124199d"
      },
      "source": [
        "result.summary()"
      ],
      "execution_count": null,
      "outputs": [
        {
          "output_type": "execute_result",
          "data": {
            "text/html": [
              "<table class=\"simpletable\">\n",
              "<caption>OLS Regression Results</caption>\n",
              "<tr>\n",
              "  <th>Dep. Variable:</th>           <td>GPA</td>       <th>  R-squared:         </th> <td>   0.346</td>\n",
              "</tr>\n",
              "<tr>\n",
              "  <th>Model:</th>                   <td>OLS</td>       <th>  Adj. R-squared:    </th> <td>   0.156</td>\n",
              "</tr>\n",
              "<tr>\n",
              "  <th>Method:</th>             <td>Least Squares</td>  <th>  F-statistic:       </th> <td>   1.820</td>\n",
              "</tr>\n",
              "<tr>\n",
              "  <th>Date:</th>             <td>Tue, 05 May 2020</td> <th>  Prob (F-statistic):</th>  <td>0.0427</td> \n",
              "</tr>\n",
              "<tr>\n",
              "  <th>Time:</th>                 <td>01:52:50</td>     <th>  Log-Likelihood:    </th> <td> -45.593</td>\n",
              "</tr>\n",
              "<tr>\n",
              "  <th>No. Observations:</th>      <td>    81</td>      <th>  AIC:               </th> <td>   129.2</td>\n",
              "</tr>\n",
              "<tr>\n",
              "  <th>Df Residuals:</th>          <td>    62</td>      <th>  BIC:               </th> <td>   174.7</td>\n",
              "</tr>\n",
              "<tr>\n",
              "  <th>Df Model:</th>              <td>    18</td>      <th>                     </th>     <td> </td>   \n",
              "</tr>\n",
              "<tr>\n",
              "  <th>Covariance Type:</th>      <td>nonrobust</td>    <th>                     </th>     <td> </td>   \n",
              "</tr>\n",
              "</table>\n",
              "<table class=\"simpletable\">\n",
              "<tr>\n",
              "             <td></td>                <th>coef</th>     <th>std err</th>      <th>t</th>      <th>P>|t|</th>  <th>[0.025</th>    <th>0.975]</th>  \n",
              "</tr>\n",
              "<tr>\n",
              "  <th>Intercept</th>               <td>    1.8362</td> <td>    1.026</td> <td>    1.790</td> <td> 0.078</td> <td>   -0.215</td> <td>    3.887</td>\n",
              "</tr>\n",
              "<tr>\n",
              "  <th>E_ig_per_class</th>          <td>   -0.0396</td> <td>    0.034</td> <td>   -1.164</td> <td> 0.249</td> <td>   -0.108</td> <td>    0.028</td>\n",
              "</tr>\n",
              "<tr>\n",
              "  <th>E_nl_per_class</th>          <td>   -0.0883</td> <td>    0.110</td> <td>   -0.805</td> <td> 0.424</td> <td>   -0.307</td> <td>    0.131</td>\n",
              "</tr>\n",
              "<tr>\n",
              "  <th>E_nu_per_class</th>          <td>    0.2127</td> <td>    0.068</td> <td>    3.121</td> <td> 0.003</td> <td>    0.076</td> <td>    0.349</td>\n",
              "</tr>\n",
              "<tr>\n",
              "  <th>E_uu_per_class</th>          <td>    0.0129</td> <td>    0.208</td> <td>    0.062</td> <td> 0.951</td> <td>   -0.404</td> <td>    0.429</td>\n",
              "</tr>\n",
              "<tr>\n",
              "  <th>I_uu_per_class</th>          <td>    0.0203</td> <td>    0.021</td> <td>    0.986</td> <td> 0.328</td> <td>   -0.021</td> <td>    0.061</td>\n",
              "</tr>\n",
              "<tr>\n",
              "  <th>E_nu_duration</th>           <td>   -0.0018</td> <td>    0.001</td> <td>   -1.480</td> <td> 0.144</td> <td>   -0.004</td> <td>    0.001</td>\n",
              "</tr>\n",
              "<tr>\n",
              "  <th>E_uu_duration</th>           <td>    0.0001</td> <td>    0.001</td> <td>    0.150</td> <td> 0.881</td> <td>   -0.002</td> <td>    0.002</td>\n",
              "</tr>\n",
              "<tr>\n",
              "  <th>I_uu_duration</th>           <td>   -0.0001</td> <td>    0.001</td> <td>   -0.097</td> <td> 0.923</td> <td>   -0.003</td> <td>    0.002</td>\n",
              "</tr>\n",
              "<tr>\n",
              "  <th>E_ig_preference</th>         <td>    2.0443</td> <td>    0.740</td> <td>    2.763</td> <td> 0.008</td> <td>    0.565</td> <td>    3.523</td>\n",
              "</tr>\n",
              "<tr>\n",
              "  <th>E_nl_preference</th>         <td>    1.0670</td> <td>    1.033</td> <td>    1.033</td> <td> 0.306</td> <td>   -0.998</td> <td>    3.132</td>\n",
              "</tr>\n",
              "<tr>\n",
              "  <th>E_nu_preference</th>         <td>   -0.9316</td> <td>    0.972</td> <td>   -0.958</td> <td> 0.342</td> <td>   -2.875</td> <td>    1.012</td>\n",
              "</tr>\n",
              "<tr>\n",
              "  <th>E_uu_preference</th>         <td>    0.7606</td> <td>    1.059</td> <td>    0.718</td> <td> 0.475</td> <td>   -1.357</td> <td>    2.878</td>\n",
              "</tr>\n",
              "<tr>\n",
              "  <th>inter_arrival_interval</th>  <td>   -0.0017</td> <td>    0.001</td> <td>   -1.514</td> <td> 0.135</td> <td>   -0.004</td> <td>    0.001</td>\n",
              "</tr>\n",
              "<tr>\n",
              "  <th>inter_checking_interval</th> <td>    0.0003</td> <td>    0.000</td> <td>    0.683</td> <td> 0.497</td> <td>   -0.000</td> <td>    0.001</td>\n",
              "</tr>\n",
              "<tr>\n",
              "  <th>number_of_arrivals</th>      <td>    0.0006</td> <td>    0.001</td> <td>    0.487</td> <td> 0.628</td> <td>   -0.002</td> <td>    0.003</td>\n",
              "</tr>\n",
              "<tr>\n",
              "  <th>number_of_checkings</th>     <td>    0.0047</td> <td>    0.005</td> <td>    0.964</td> <td> 0.339</td> <td>   -0.005</td> <td>    0.015</td>\n",
              "</tr>\n",
              "<tr>\n",
              "  <th>Addiction</th>               <td>    0.0017</td> <td>    0.009</td> <td>    0.194</td> <td> 0.847</td> <td>   -0.016</td> <td>    0.019</td>\n",
              "</tr>\n",
              "<tr>\n",
              "  <th>Gender_M</th>                <td>    0.1568</td> <td>    0.130</td> <td>    1.204</td> <td> 0.233</td> <td>   -0.103</td> <td>    0.417</td>\n",
              "</tr>\n",
              "</table>\n",
              "<table class=\"simpletable\">\n",
              "<tr>\n",
              "  <th>Omnibus:</th>       <td> 0.819</td> <th>  Durbin-Watson:     </th> <td>   2.027</td>\n",
              "</tr>\n",
              "<tr>\n",
              "  <th>Prob(Omnibus):</th> <td> 0.664</td> <th>  Jarque-Bera (JB):  </th> <td>   0.903</td>\n",
              "</tr>\n",
              "<tr>\n",
              "  <th>Skew:</th>          <td>-0.140</td> <th>  Prob(JB):          </th> <td>   0.637</td>\n",
              "</tr>\n",
              "<tr>\n",
              "  <th>Kurtosis:</th>      <td> 2.566</td> <th>  Cond. No.          </th> <td>1.63e+04</td>\n",
              "</tr>\n",
              "</table><br/><br/>Warnings:<br/>[1] Standard Errors assume that the covariance matrix of the errors is correctly specified.<br/>[2] The condition number is large, 1.63e+04. This might indicate that there are<br/>strong multicollinearity or other numerical problems."
            ],
            "text/plain": [
              "<class 'statsmodels.iolib.summary.Summary'>\n",
              "\"\"\"\n",
              "                            OLS Regression Results                            \n",
              "==============================================================================\n",
              "Dep. Variable:                    GPA   R-squared:                       0.346\n",
              "Model:                            OLS   Adj. R-squared:                  0.156\n",
              "Method:                 Least Squares   F-statistic:                     1.820\n",
              "Date:                Tue, 05 May 2020   Prob (F-statistic):             0.0427\n",
              "Time:                        01:52:50   Log-Likelihood:                -45.593\n",
              "No. Observations:                  81   AIC:                             129.2\n",
              "Df Residuals:                      62   BIC:                             174.7\n",
              "Df Model:                          18                                         \n",
              "Covariance Type:            nonrobust                                         \n",
              "===========================================================================================\n",
              "                              coef    std err          t      P>|t|      [0.025      0.975]\n",
              "-------------------------------------------------------------------------------------------\n",
              "Intercept                   1.8362      1.026      1.790      0.078      -0.215       3.887\n",
              "E_ig_per_class             -0.0396      0.034     -1.164      0.249      -0.108       0.028\n",
              "E_nl_per_class             -0.0883      0.110     -0.805      0.424      -0.307       0.131\n",
              "E_nu_per_class              0.2127      0.068      3.121      0.003       0.076       0.349\n",
              "E_uu_per_class              0.0129      0.208      0.062      0.951      -0.404       0.429\n",
              "I_uu_per_class              0.0203      0.021      0.986      0.328      -0.021       0.061\n",
              "E_nu_duration              -0.0018      0.001     -1.480      0.144      -0.004       0.001\n",
              "E_uu_duration               0.0001      0.001      0.150      0.881      -0.002       0.002\n",
              "I_uu_duration              -0.0001      0.001     -0.097      0.923      -0.003       0.002\n",
              "E_ig_preference             2.0443      0.740      2.763      0.008       0.565       3.523\n",
              "E_nl_preference             1.0670      1.033      1.033      0.306      -0.998       3.132\n",
              "E_nu_preference            -0.9316      0.972     -0.958      0.342      -2.875       1.012\n",
              "E_uu_preference             0.7606      1.059      0.718      0.475      -1.357       2.878\n",
              "inter_arrival_interval     -0.0017      0.001     -1.514      0.135      -0.004       0.001\n",
              "inter_checking_interval     0.0003      0.000      0.683      0.497      -0.000       0.001\n",
              "number_of_arrivals          0.0006      0.001      0.487      0.628      -0.002       0.003\n",
              "number_of_checkings         0.0047      0.005      0.964      0.339      -0.005       0.015\n",
              "Addiction                   0.0017      0.009      0.194      0.847      -0.016       0.019\n",
              "Gender_M                    0.1568      0.130      1.204      0.233      -0.103       0.417\n",
              "==============================================================================\n",
              "Omnibus:                        0.819   Durbin-Watson:                   2.027\n",
              "Prob(Omnibus):                  0.664   Jarque-Bera (JB):                0.903\n",
              "Skew:                          -0.140   Prob(JB):                        0.637\n",
              "Kurtosis:                       2.566   Cond. No.                     1.63e+04\n",
              "==============================================================================\n",
              "\n",
              "Warnings:\n",
              "[1] Standard Errors assume that the covariance matrix of the errors is correctly specified.\n",
              "[2] The condition number is large, 1.63e+04. This might indicate that there are\n",
              "strong multicollinearity or other numerical problems.\n",
              "\"\"\""
            ]
          },
          "metadata": {
            "tags": []
          },
          "execution_count": 35
        }
      ]
    },
    {
      "cell_type": "markdown",
      "metadata": {
        "id": "rsyOFXFUiWSM",
        "colab_type": "text"
      },
      "source": [
        "similary, we observed a warning message that multicollinearity is high. Therefore, we removed variables in order of high p-value sequentially to remove multicollinearity. Through this process, E_uu_per_class, I_uu_duration, E_uu_duration, Addiction socre, number_of_arrivals, inter_checking_arrival, and I_uu_per_class were removed stepwisely (the process is omitted)"
      ]
    },
    {
      "cell_type": "markdown",
      "metadata": {
        "id": "1kY4Wh6tkQ3P",
        "colab_type": "text"
      },
      "source": [
        "###Backward elimination"
      ]
    },
    {
      "cell_type": "code",
      "metadata": {
        "id": "TM1wbUrLjusS",
        "colab_type": "code",
        "colab": {
          "base_uri": "https://localhost:8080/",
          "height": 706
        },
        "outputId": "9accb035-2785-4e05-9132-db34d4c05f48"
      },
      "source": [
        "df_block3.drop(['E_uu_per_class', 'I_uu_duration', 'E_uu_duration', 'Addiction', 'number_of_arrivals', 'inter_checking_interval', 'I_uu_per_class'], axis=1, inplace=True)\n",
        "features=\"\"\n",
        "for feature in df_block3.columns:\n",
        "    if feature!=\"GPA\":\n",
        "        features+=feature+\"+\"\n",
        "features=features[:-1]\n",
        "print(features)\n",
        "\n",
        "y,X = dmatrices(\"GPA~\" + features, data=df_block3, return_type=\"dataframe\")\n",
        "vif=pd.DataFrame()\n",
        "vif['VIF']= [variance_inflation_factor(X.values, i) for i in range(X.shape[1])]\n",
        "vif['features']=X.columns\n",
        "result=sm.OLS(y,X).fit()\n",
        "result.summary()"
      ],
      "execution_count": null,
      "outputs": [
        {
          "output_type": "stream",
          "text": [
            "E_ig_per_class+E_nl_per_class+E_nu_per_class+E_nu_duration+E_ig_preference+E_nl_preference+E_nu_preference+E_uu_preference+inter_arrival_interval+number_of_checkings+Gender_M\n"
          ],
          "name": "stdout"
        },
        {
          "output_type": "execute_result",
          "data": {
            "text/html": [
              "<table class=\"simpletable\">\n",
              "<caption>OLS Regression Results</caption>\n",
              "<tr>\n",
              "  <th>Dep. Variable:</th>           <td>GPA</td>       <th>  R-squared:         </th> <td>   0.333</td>\n",
              "</tr>\n",
              "<tr>\n",
              "  <th>Model:</th>                   <td>OLS</td>       <th>  Adj. R-squared:    </th> <td>   0.227</td>\n",
              "</tr>\n",
              "<tr>\n",
              "  <th>Method:</th>             <td>Least Squares</td>  <th>  F-statistic:       </th> <td>   3.131</td>\n",
              "</tr>\n",
              "<tr>\n",
              "  <th>Date:</th>             <td>Tue, 05 May 2020</td> <th>  Prob (F-statistic):</th>  <td>0.00178</td>\n",
              "</tr>\n",
              "<tr>\n",
              "  <th>Time:</th>                 <td>02:01:01</td>     <th>  Log-Likelihood:    </th> <td> -46.374</td>\n",
              "</tr>\n",
              "<tr>\n",
              "  <th>No. Observations:</th>      <td>    81</td>      <th>  AIC:               </th> <td>   116.7</td>\n",
              "</tr>\n",
              "<tr>\n",
              "  <th>Df Residuals:</th>          <td>    69</td>      <th>  BIC:               </th> <td>   145.5</td>\n",
              "</tr>\n",
              "<tr>\n",
              "  <th>Df Model:</th>              <td>    11</td>      <th>                     </th>     <td> </td>   \n",
              "</tr>\n",
              "<tr>\n",
              "  <th>Covariance Type:</th>      <td>nonrobust</td>    <th>                     </th>     <td> </td>   \n",
              "</tr>\n",
              "</table>\n",
              "<table class=\"simpletable\">\n",
              "<tr>\n",
              "             <td></td>               <th>coef</th>     <th>std err</th>      <th>t</th>      <th>P>|t|</th>  <th>[0.025</th>    <th>0.975]</th>  \n",
              "</tr>\n",
              "<tr>\n",
              "  <th>Intercept</th>              <td>    2.3398</td> <td>    0.532</td> <td>    4.398</td> <td> 0.000</td> <td>    1.278</td> <td>    3.401</td>\n",
              "</tr>\n",
              "<tr>\n",
              "  <th>E_ig_per_class</th>         <td>   -0.0425</td> <td>    0.031</td> <td>   -1.357</td> <td> 0.179</td> <td>   -0.105</td> <td>    0.020</td>\n",
              "</tr>\n",
              "<tr>\n",
              "  <th>E_nl_per_class</th>         <td>   -0.0892</td> <td>    0.099</td> <td>   -0.904</td> <td> 0.369</td> <td>   -0.286</td> <td>    0.108</td>\n",
              "</tr>\n",
              "<tr>\n",
              "  <th>E_nu_per_class</th>         <td>    0.2014</td> <td>    0.063</td> <td>    3.220</td> <td> 0.002</td> <td>    0.077</td> <td>    0.326</td>\n",
              "</tr>\n",
              "<tr>\n",
              "  <th>E_nu_duration</th>          <td>   -0.0020</td> <td>    0.001</td> <td>   -2.542</td> <td> 0.013</td> <td>   -0.004</td> <td>   -0.000</td>\n",
              "</tr>\n",
              "<tr>\n",
              "  <th>E_ig_preference</th>        <td>    2.0317</td> <td>    0.619</td> <td>    3.282</td> <td> 0.002</td> <td>    0.797</td> <td>    3.267</td>\n",
              "</tr>\n",
              "<tr>\n",
              "  <th>E_nl_preference</th>        <td>    1.0411</td> <td>    0.803</td> <td>    1.297</td> <td> 0.199</td> <td>   -0.560</td> <td>    2.643</td>\n",
              "</tr>\n",
              "<tr>\n",
              "  <th>E_nu_preference</th>        <td>   -1.0374</td> <td>    0.805</td> <td>   -1.289</td> <td> 0.202</td> <td>   -2.643</td> <td>    0.568</td>\n",
              "</tr>\n",
              "<tr>\n",
              "  <th>E_uu_preference</th>        <td>    0.7351</td> <td>    0.752</td> <td>    0.978</td> <td> 0.332</td> <td>   -0.764</td> <td>    2.235</td>\n",
              "</tr>\n",
              "<tr>\n",
              "  <th>inter_arrival_interval</th> <td>   -0.0017</td> <td>    0.001</td> <td>   -1.851</td> <td> 0.068</td> <td>   -0.004</td> <td>    0.000</td>\n",
              "</tr>\n",
              "<tr>\n",
              "  <th>number_of_checkings</th>    <td>    0.0053</td> <td>    0.004</td> <td>    1.414</td> <td> 0.162</td> <td>   -0.002</td> <td>    0.013</td>\n",
              "</tr>\n",
              "<tr>\n",
              "  <th>Gender_M</th>               <td>    0.1554</td> <td>    0.119</td> <td>    1.310</td> <td> 0.194</td> <td>   -0.081</td> <td>    0.392</td>\n",
              "</tr>\n",
              "</table>\n",
              "<table class=\"simpletable\">\n",
              "<tr>\n",
              "  <th>Omnibus:</th>       <td> 0.694</td> <th>  Durbin-Watson:     </th> <td>   2.012</td>\n",
              "</tr>\n",
              "<tr>\n",
              "  <th>Prob(Omnibus):</th> <td> 0.707</td> <th>  Jarque-Bera (JB):  </th> <td>   0.817</td>\n",
              "</tr>\n",
              "<tr>\n",
              "  <th>Skew:</th>          <td>-0.148</td> <th>  Prob(JB):          </th> <td>   0.664</td>\n",
              "</tr>\n",
              "<tr>\n",
              "  <th>Kurtosis:</th>      <td> 2.607</td> <th>  Cond. No.          </th> <td>4.18e+03</td>\n",
              "</tr>\n",
              "</table><br/><br/>Warnings:<br/>[1] Standard Errors assume that the covariance matrix of the errors is correctly specified.<br/>[2] The condition number is large, 4.18e+03. This might indicate that there are<br/>strong multicollinearity or other numerical problems."
            ],
            "text/plain": [
              "<class 'statsmodels.iolib.summary.Summary'>\n",
              "\"\"\"\n",
              "                            OLS Regression Results                            \n",
              "==============================================================================\n",
              "Dep. Variable:                    GPA   R-squared:                       0.333\n",
              "Model:                            OLS   Adj. R-squared:                  0.227\n",
              "Method:                 Least Squares   F-statistic:                     3.131\n",
              "Date:                Tue, 05 May 2020   Prob (F-statistic):            0.00178\n",
              "Time:                        02:01:01   Log-Likelihood:                -46.374\n",
              "No. Observations:                  81   AIC:                             116.7\n",
              "Df Residuals:                      69   BIC:                             145.5\n",
              "Df Model:                          11                                         \n",
              "Covariance Type:            nonrobust                                         \n",
              "==========================================================================================\n",
              "                             coef    std err          t      P>|t|      [0.025      0.975]\n",
              "------------------------------------------------------------------------------------------\n",
              "Intercept                  2.3398      0.532      4.398      0.000       1.278       3.401\n",
              "E_ig_per_class            -0.0425      0.031     -1.357      0.179      -0.105       0.020\n",
              "E_nl_per_class            -0.0892      0.099     -0.904      0.369      -0.286       0.108\n",
              "E_nu_per_class             0.2014      0.063      3.220      0.002       0.077       0.326\n",
              "E_nu_duration             -0.0020      0.001     -2.542      0.013      -0.004      -0.000\n",
              "E_ig_preference            2.0317      0.619      3.282      0.002       0.797       3.267\n",
              "E_nl_preference            1.0411      0.803      1.297      0.199      -0.560       2.643\n",
              "E_nu_preference           -1.0374      0.805     -1.289      0.202      -2.643       0.568\n",
              "E_uu_preference            0.7351      0.752      0.978      0.332      -0.764       2.235\n",
              "inter_arrival_interval    -0.0017      0.001     -1.851      0.068      -0.004       0.000\n",
              "number_of_checkings        0.0053      0.004      1.414      0.162      -0.002       0.013\n",
              "Gender_M                   0.1554      0.119      1.310      0.194      -0.081       0.392\n",
              "==============================================================================\n",
              "Omnibus:                        0.694   Durbin-Watson:                   2.012\n",
              "Prob(Omnibus):                  0.707   Jarque-Bera (JB):                0.817\n",
              "Skew:                          -0.148   Prob(JB):                        0.664\n",
              "Kurtosis:                       2.607   Cond. No.                     4.18e+03\n",
              "==============================================================================\n",
              "\n",
              "Warnings:\n",
              "[1] Standard Errors assume that the covariance matrix of the errors is correctly specified.\n",
              "[2] The condition number is large, 4.18e+03. This might indicate that there are\n",
              "strong multicollinearity or other numerical problems.\n",
              "\"\"\""
            ]
          },
          "metadata": {
            "tags": []
          },
          "execution_count": 37
        }
      ]
    },
    {
      "cell_type": "markdown",
      "metadata": {
        "id": "nPha-tZnX6jM",
        "colab_type": "text"
      },
      "source": [
        "#Visualization"
      ]
    },
    {
      "cell_type": "markdown",
      "metadata": {
        "id": "uL6957Vrkd_c",
        "colab_type": "text"
      },
      "source": [
        "## Notification handling behaviors"
      ]
    },
    {
      "cell_type": "markdown",
      "metadata": {
        "id": "XSXGY8J0kvwk",
        "colab_type": "text"
      },
      "source": [
        "We first looked at descriptive statistics to understand the in-class notification receipt/checking processes. We ploted the average of notification inter-arrival/checking intervals and the number of events for 81 students"
      ]
    },
    {
      "cell_type": "markdown",
      "metadata": {
        "id": "OK0whpcTk9bK",
        "colab_type": "text"
      },
      "source": [
        "### Number of arrivals/checking (frequency)"
      ]
    },
    {
      "cell_type": "code",
      "metadata": {
        "id": "PKPSXEmclRQt",
        "colab_type": "code",
        "colab": {
          "base_uri": "https://localhost:8080/",
          "height": 320
        },
        "outputId": "23b998b4-38ce-4d6a-dec0-4b753952f030"
      },
      "source": [
        "a=pd.DataFrame({\"frequency\":df_overall['number_of_arrivals']})\n",
        "a['type']=\"Number of arrivals\"\n",
        "b=pd.DataFrame({\"frequency\":df_overall['number_of_checkings']})\n",
        "b['type']=\"Number of checkings\"\n",
        "c=pd.concat([a,b], axis=0)\n",
        "\n",
        "import seaborn as sns\n",
        "import matplotlib.pyplot as plt\n",
        "import matplotlib.ticker as ticker\n",
        "\n",
        "\n",
        "sns.set_style(\"whitegrid\", {'axes.grid' : False})\n",
        "plt.figure(figsize=(5, 5))\n",
        "sns.despine(left=True, bottom=True, right=True)\n",
        "ax=sns.boxplot(x=\"type\", y=\"frequency\",data=c, width=0.5, color=\"lightgray\", fliersize=3)\n",
        "\n",
        "#plt.setp(ax.lines, color=\".1\")\n",
        "plt.xlabel('', fontsize=12)\n",
        "plt.ylabel('Frequency', fontsize=12)\n",
        "ax.set_ylim([-10, 260])\n",
        "for tick in ax.get_xticklines():\n",
        "    tick.set_color('gray')\n",
        "sns.despine(top=True, right= True,left=False, bottom=False)\n",
        "plt.show()"
      ],
      "execution_count": null,
      "outputs": [
        {
          "output_type": "display_data",
          "data": {
            "image/png": "[encoded data removed]",
            "text/plain": [
              "<Figure size 360x360 with 1 Axes>"
            ]
          },
          "metadata": {
            "tags": []
          }
        }
      ]
    },
    {
      "cell_type": "markdown",
      "metadata": {
        "id": "bNAXInF0lHBS",
        "colab_type": "text"
      },
      "source": [
        "###Inter-arrival/checking interval (interval)"
      ]
    },
    {
      "cell_type": "code",
      "metadata": {
        "id": "PMid7SqsYAD-",
        "colab_type": "code",
        "colab": {}
      },
      "source": [
        "a=pd.DataFrame({\"interval\":df_overall['inter_arrival_interval']})\n",
        "a['type']=\"Inter-arrival interval\"\n",
        "b=pd.DataFrame({\"interval\":df_overall['inter_checking_interval']})\n",
        "b['type']=\"Inter-checking interval\"\n",
        "c=pd.concat([a,b], axis=0)"
      ],
      "execution_count": null,
      "outputs": []
    },
    {
      "cell_type": "code",
      "metadata": {
        "id": "EgmPSMRlltdT",
        "colab_type": "code",
        "colab": {
          "base_uri": "https://localhost:8080/",
          "height": 320
        },
        "outputId": "ea0ca5f5-ea97-492a-de73-3b727b6c2c2c"
      },
      "source": [
        "import seaborn as sns\n",
        "sns.set_style(\"whitegrid\", {'axes.grid' : False})\n",
        "plt.figure(figsize=(5, 5))\n",
        "\n",
        "ax=sns.boxplot(x=\"type\", y=\"interval\",data=c, width=0.5, color=\"lightgray\", fliersize=3)\n",
        "#plt.setp(ax.lines, color=\".1\")\n",
        "plt.xlabel('', fontsize=12)\n",
        "plt.ylabel('Interval (Seconds)', fontsize=12)\n",
        "sns.despine(top=True, right= True,left=False, bottom=False) \n",
        "plt.show()"
      ],
      "execution_count": null,
      "outputs": [
        {
          "output_type": "display_data",
          "data": {
            "image/png": "[encoded data removed]",
            "text/plain": [
              "<Figure size 360x360 with 1 Axes>"
            ]
          },
          "metadata": {
            "tags": []
          }
        }
      ]
    },
    {
      "cell_type": "markdown",
      "metadata": {
        "id": "2mb6TIpdlyvC",
        "colab_type": "text"
      },
      "source": [
        "## Number of sessions per session type"
      ]
    },
    {
      "cell_type": "code",
      "metadata": {
        "id": "kVZEFtPDmEru",
        "colab_type": "code",
        "colab": {}
      },
      "source": [
        "a=pd.DataFrame({\"session\":df_overall['E_ig_per_class']})\n",
        "a[\"Session types\"]='$E_{ig}$'\n",
        "b=pd.DataFrame({\"session\":df_overall['E_nl_per_class']})\n",
        "b[\"Session types\"]='$E_{nl}$'\n",
        "c=pd.DataFrame({\"session\":df_overall['E_nu_per_class']})\n",
        "c[\"Session types\"]='$E_{nu}$'\n",
        "d=pd.DataFrame({\"session\":df_overall['E_uu_per_class']})\n",
        "d[\"Session types\"]='$E_{uu}$'\n",
        "e=pd.DataFrame({\"session\":df_overall['I_uu_per_class']})\n",
        "e[\"Session types\"]='$I_{uu}$'\n",
        "f=pd.concat([a,b,c,d,e], axis=0)"
      ],
      "execution_count": null,
      "outputs": []
    },
    {
      "cell_type": "code",
      "metadata": {
        "id": "Ocri7b4OmUfq",
        "colab_type": "code",
        "colab": {
          "base_uri": "https://localhost:8080/",
          "height": 395
        },
        "outputId": "e20a929f-abcd-45c7-a5b7-d8f3b259aeae"
      },
      "source": [
        "import seaborn as sns\n",
        "sns.set_style(\"whitegrid\", {'axes.grid' : False})\n",
        "plt.figure(figsize=(6, 6))\n",
        "\n",
        "ax=sns.boxplot(x=\"Session types\", y=\"session\",data=f, width=0.5, color=\"lightgray\", fliersize=3)\n",
        "#plt.setp(ax.lines, color=\".1\")\n",
        "plt.xlabel('Session types', fontsize=12)\n",
        "plt.ylabel('Number of sessions', fontsize=12)\n",
        "sns.despine(top=True, right= True,left=False, bottom=False) \n",
        "plt.show()"
      ],
      "execution_count": null,
      "outputs": [
        {
          "output_type": "display_data",
          "data": {
            "image/png": "[encoded data removed]",
            "text/plain": [
              "<Figure size 432x432 with 1 Axes>"
            ]
          },
          "metadata": {
            "tags": []
          }
        }
      ]
    }
  ]
}